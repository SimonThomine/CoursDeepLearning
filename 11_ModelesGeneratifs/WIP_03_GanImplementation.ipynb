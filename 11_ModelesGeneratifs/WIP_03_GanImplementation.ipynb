{
 "cells": [
  {
   "cell_type": "markdown",
   "metadata": {},
   "source": [
    "# Implémentation d'un GAN"
   ]
  },
  {
   "cell_type": "markdown",
   "metadata": {},
   "source": [
    "Il est temps de passer à l'implémentation d'un GAN. Pour cela, nous allons nous baser sur le papier [Unsupervised Representation Learning with Deep Convolutional Generative Adversarial Networks](https://arxiv.org/pdf/1511.06434) pour générer des images de chiffres 5 ressemblant à ceux du dataset MNIST.\n",
    "\n",
    "<img src=\"images/dcgan.png\" alt=\"dcgan\" width=\"800\"/>\n",
    "\n",
    "Architecture du generateur de DCGAN."
   ]
  },
  {
   "cell_type": "code",
   "execution_count": 1,
   "metadata": {},
   "outputs": [
    {
     "name": "stderr",
     "output_type": "stream",
     "text": [
      "/home/aquilae/anaconda3/envs/dev/lib/python3.11/site-packages/tqdm/auto.py:21: TqdmWarning: IProgress not found. Please update jupyter and ipywidgets. See https://ipywidgets.readthedocs.io/en/stable/user_install.html\n",
      "  from .autonotebook import tqdm as notebook_tqdm\n"
     ]
    }
   ],
   "source": [
    "import torch\n",
    "import torch.nn as nn\n",
    "import torch.nn.functional as F\n",
    "import numpy as np\n",
    "import matplotlib.pyplot as plt\n",
    "import torchvision.datasets as datasets\n",
    "import torchvision.transforms as transforms\n",
    "from torch.utils.data import DataLoader,Subset\n",
    "import random\n"
   ]
  },
  {
   "cell_type": "markdown",
   "metadata": {},
   "source": [
    "## Dataset"
   ]
  },
  {
   "cell_type": "markdown",
   "metadata": {},
   "source": [
    "Commençons par charger notre dataset MNIST :"
   ]
  },
  {
   "cell_type": "code",
   "execution_count": 2,
   "metadata": {},
   "outputs": [
    {
     "name": "stdout",
     "output_type": "stream",
     "text": [
      "taille du dataset d'entrainement :  5421\n",
      "taille d'une image :  (1, 32, 32)\n"
     ]
    }
   ],
   "source": [
    "transform=transforms.Compose([\n",
    "    transforms.ToTensor(),\n",
    "    transforms.Resize((32,32)),\n",
    "])\n",
    "train_data = datasets.MNIST(root='./../data', train=True, transform=transform, download=True)\n",
    "test_data = datasets.MNIST(root='./../data', train=False, transform=transform, download=True)\n",
    "\n",
    "\n",
    "indices = [i for i, label in enumerate(train_data.targets) if label == 5]\n",
    "# On créer un nouveau dataset avec uniquement les 5\n",
    "train_data = torch.utils.data.Subset(train_data, indices)\n",
    "\n",
    "# all_indices = list(range(len(train_data)))\n",
    "# random.shuffle(all_indices)\n",
    "# selected_indices = all_indices[:5000]\n",
    "# train_data = Subset(train_data, selected_indices)\n",
    "\n",
    "\n",
    "print(\"taille du dataset d'entrainement : \",len(train_data))\n",
    "print(\"taille d'une image : \",train_data[0][0].numpy().shape) \n",
    "\n",
    "train_loader = DataLoader(dataset=train_data, batch_size=64, shuffle=True)\n",
    "test_loader = DataLoader(dataset=test_data, batch_size=64, shuffle=False)"
   ]
  },
  {
   "cell_type": "code",
   "execution_count": 3,
   "metadata": {},
   "outputs": [
    {
     "data": {
      "image/png": "[encoded data removed]",
      "text/plain": [
       "<Figure size 1000x1000 with 5 Axes>"
      ]
     },
     "metadata": {},
     "output_type": "display_data"
    }
   ],
   "source": [
    "# Visualisons quelques images\n",
    "plt.figure(figsize=(10, 10))\n",
    "for i in range(5):\n",
    "  plt.subplot(1, 5, i+1)\n",
    "  plt.imshow(train_data[i][0].squeeze(), cmap='gray')\n",
    "  plt.axis('off')\n",
    "  plt.title(train_data[i][1])"
   ]
  },
  {
   "cell_type": "markdown",
   "metadata": {},
   "source": [
    "## Création de notre modèle"
   ]
  },
  {
   "cell_type": "markdown",
   "metadata": {},
   "source": [
    "On peut maintenant implémenter nos deux modèles. Commençons par regarder les spécificités d'architecture décrites dans la papier. \n",
    "\n",
    "<img src=\"images/dcgan_arch.png\" alt=\"dcgan_arch\" width=\"800\"/>\n",
    "\n",
    "A partir de ces informations et de la figure du papier (voir plus haut dans le notebook), on peut construire notre modèle générateur. Comme on travaille sur des images de taille $28 \\times 28$ au lieu de $64 \\times 64$ dans le papier, on va faire une architecture plus réduite.\n",
    "\n",
    "**Note** : Dans le papier, les auteurs disent utiliser des *fractional-strided convolutions*. Il s'agit en fait de convolutions transposées et le terme *fractional-strided convolutions* n'est plus vraiment utilisé de nos jours."
   ]
  },
  {
   "cell_type": "code",
   "execution_count": 4,
   "metadata": {},
   "outputs": [
    {
     "name": "stdout",
     "output_type": "stream",
     "text": [
      "torch.Size([64, 1, 32, 32])\n"
     ]
    }
   ],
   "source": [
    "def convT_bn_relu(in_channels, out_channels, kernel_size, stride, padding):\n",
    "  return nn.Sequential(\n",
    "    nn.ConvTranspose2d(in_channels, out_channels, kernel_size, stride, padding,bias=False),\n",
    "    nn.BatchNorm2d(out_channels),\n",
    "    nn.ReLU()\n",
    "  )\n",
    "\n",
    "class generator(nn.Module):\n",
    "  def __init__(self, z_dim=100,features_g=64):\n",
    "    super(generator, self).__init__()\n",
    "    self.gen = nn.Sequential(\n",
    "      convT_bn_relu(z_dim, features_g*8, kernel_size=4, stride=1, padding=0),\n",
    "      convT_bn_relu(features_g*8, features_g*4, kernel_size=4, stride=2, padding=1),\n",
    "      convT_bn_relu(features_g*4, features_g*2, kernel_size=4, stride=2, padding=1),\n",
    "      nn.ConvTranspose2d(features_g*2, 1, kernel_size=4, stride=2, padding=1),\n",
    "      nn.Tanh()\n",
    "    )\n",
    "  def forward(self, x):\n",
    "    return self.gen(x)\n",
    "  \n",
    "z= torch.randn(64,100,1,1)\n",
    "gen = generator()\n",
    "img = gen(z)\n",
    "print(img.shape)"
   ]
  },
  {
   "cell_type": "markdown",
   "metadata": {},
   "source": [
    "Le papier ne décrit pas directement l'architecture du discriminateur. Nous allons globalement reprendre l'architecture du générateur mais dans l'autre sens. "
   ]
  },
  {
   "cell_type": "code",
   "execution_count": 5,
   "metadata": {},
   "outputs": [
    {
     "name": "stdout",
     "output_type": "stream",
     "text": [
      "torch.Size([64, 1, 1, 1])\n"
     ]
    }
   ],
   "source": [
    "def conv_bn_lrelu(in_channels, out_channels, kernel_size, stride, padding):\n",
    "  return nn.Sequential(\n",
    "    nn.Conv2d(in_channels, out_channels, kernel_size, stride, padding,bias=False),\n",
    "    nn.BatchNorm2d(out_channels),\n",
    "    nn.LeakyReLU()\n",
    "  )\n",
    "\n",
    "class discriminator(nn.Module):\n",
    "  def __init__(self, features_d=64) -> None:\n",
    "    super().__init__()\n",
    "    self.discr = nn.Sequential(\n",
    "      conv_bn_lrelu(1, features_d, kernel_size=3, stride=2, padding=1),\n",
    "      conv_bn_lrelu(features_d, features_d*2, kernel_size=3, stride=2, padding=1),\n",
    "      conv_bn_lrelu(features_d*2, features_d*4, kernel_size=3, stride=2, padding=1),\n",
    "      nn.Conv2d(256, 1, kernel_size=3, stride=2, padding=0),\n",
    "      nn.Sigmoid()\n",
    "    )\n",
    "    \n",
    "  def forward(self, x):\n",
    "    return self.discr(x)\n",
    "dummy = torch.randn(64,1,32,32)\n",
    "disc = discriminator()\n",
    "out = disc(dummy)\n",
    "print(out.shape)\n"
   ]
  },
  {
   "cell_type": "markdown",
   "metadata": {},
   "source": [
    "## Entrainement du modèle"
   ]
  },
  {
   "cell_type": "markdown",
   "metadata": {},
   "source": [
    "Il est temps de passer aux choses sérieuses. La boucle d'entraînement d'un GAN est bien plus complexe que les boucles d'entraînements des modèles que nous avons vu jusqu'à présent.   \n",
    "Commençons par définir nos hyperparamètres d'entraînement et par initialiser nos modèles :  "
   ]
  },
  {
   "cell_type": "code",
   "execution_count": 6,
   "metadata": {},
   "outputs": [],
   "source": [
    "epochs = 50\n",
    "lr=0.001\n",
    "z_dim = 100\n",
    "features_d = 64\n",
    "features_g = 64\n",
    "\n",
    "device = torch.device('cuda' if torch.cuda.is_available() else 'cpu')\n",
    "gen = generator(z_dim, features_g).to(device)\n",
    "disc = discriminator(features_d).to(device)\n",
    "\n",
    "opt_gen = torch.optim.Adam(gen.parameters(), lr=lr)\n",
    "opt_disc = torch.optim.Adam(disc.parameters(), lr=lr*0.05)\n",
    "criterion = nn.BCELoss()\n"
   ]
  },
  {
   "cell_type": "markdown",
   "metadata": {},
   "source": [
    "Nous allons également créer un bruit *fixed_noise* pour évaluer visuellement notre modèle à chaque étape d'entraînement. "
   ]
  },
  {
   "cell_type": "code",
   "execution_count": 7,
   "metadata": {},
   "outputs": [],
   "source": [
    "fixed_noise = torch.randn(64, z_dim, 1, 1, device=device)"
   ]
  },
  {
   "cell_type": "markdown",
   "metadata": {},
   "source": [
    "Avant de consttuire notre boucle d'entraînement, récapitulons les étapes que nous devons faire : \n",
    "- On commence par récuperer *batch_size* éléments du dataset d'entraînement et on prédit les labels avec notre discriminateur\n",
    "- Ensuite, on génére *batch_size* éléments avec notre générateur et on prédit les labels\n",
    "- On va ensuite mettre à jour les poids du modèle discriminateur à partir des deux *loss*\n",
    "- On va ensuite à nouveau prédire les labels des données générées (car on a mis à jour le discriminateur entre temps)\n",
    "- A partir de ces valeurs, on calcule le *loss* et on met à jour notre générateur"
   ]
  },
  {
   "cell_type": "code",
   "execution_count": 8,
   "metadata": {},
   "outputs": [
    {
     "name": "stderr",
     "output_type": "stream",
     "text": [
      "/home/aquilae/anaconda3/envs/dev/lib/python3.11/site-packages/torch/nn/modules/conv.py:952: UserWarning: Plan failed with a cudnnException: CUDNN_BACKEND_EXECUTION_PLAN_DESCRIPTOR: cudnnFinalize Descriptor Failed cudnn_status: CUDNN_STATUS_NOT_SUPPORTED (Triggered internally at ../aten/src/ATen/native/cudnn/Conv_v8.cpp:919.)\n",
      "  return F.conv_transpose2d(\n"
     ]
    }
   ],
   "source": [
    "all_fake_images = []\n",
    "for epoch in range(epochs):\n",
    "  lossD_epoch = 0\n",
    "  lossG_epoch = 0\n",
    "  for real_images,_ in train_loader:\n",
    "    real_images=real_images.to(device)\n",
    "    pred_real = disc(real_images).view(-1)\n",
    "    lossD_real = criterion(pred_real, torch.ones_like(pred_real)) # Les labels sont 1 pour les vraies images\n",
    "    \n",
    "    batch_size = real_images.shape[0]\n",
    "    input_noise = torch.randn(batch_size, z_dim, 1, 1, device=device)\n",
    "    fake_images = gen(input_noise)\n",
    "    pred_fake = disc(fake_images.detach()).view(-1)\n",
    "    lossD_fake = criterion(pred_fake, torch.zeros_like(pred_fake)) # Les labels sont 0 pour les fausses images\n",
    "\n",
    "    lossD=lossD_real + lossD_fake\n",
    "    lossD_epoch += lossD.item()\n",
    "    disc.zero_grad()\n",
    "    lossD.backward()\n",
    "    opt_disc.step()\n",
    "    \n",
    "    # On refait l'inférence pour les images générées (avec le discriminateur mis à jour)\n",
    "    pred_fake = disc(fake_images).view(-1)\n",
    "    lossG=criterion(pred_fake, torch.ones_like(pred_fake)) # On veut que le générateur trompe le discriminateur donc on veut que les labels soient 1\n",
    "    lossG_epoch += lossG.item()\n",
    "    gen.zero_grad()\n",
    "    lossG.backward()\n",
    "    opt_gen.step()\n",
    "    \n",
    "  # On génère des images avec le générateur\n",
    "  if epoch % 10 == 0 or epoch==0:\n",
    "    print(f\"Epoch [{epoch}/{epochs}] Loss D: {lossD_epoch/len(train_loader):.4f}, loss G: {lossG_epoch/len(train_loader):.4f}\")\n",
    "    gen.eval()\n",
    "    fake_images = gen(fixed_noise)\n",
    "    all_fake_images.append(fake_images)\n",
    "    #cv2.imwrite(f\"gen/image_base_gan_{epoch}.png\", fake_images[0].squeeze().detach().cpu().numpy()*255.0)\n",
    "    gen.train()\n",
    "    "
   ]
  },
  {
   "cell_type": "markdown",
   "metadata": {},
   "source": [
    "Visualizons les images générées lors de l'entraînement."
   ]
  },
  {
   "cell_type": "code",
   "execution_count": null,
   "metadata": {},
   "outputs": [],
   "source": [
    "# visualisation des images générées\n",
    "images_begin = all_fake_images[0]\n",
    "plt.figure(figsize=(10, 10))\n",
    "for i in range(5):\n",
    "  plt.subplot(1, 5, i+1)\n",
    "  plt.imshow(images_begin[i].squeeze().detach().cpu().numpy(), cmap='gray')\n",
    "  plt.axis('off')\n",
    "  plt.title(\"Début de l'entrainement\")\n",
    "  \n",
    "images_mid = all_fake_images[len(all_fake_images)//2]\n",
    "plt.figure(figsize=(10, 10))\n",
    "for i in range(5):\n",
    "  plt.subplot(1, 5, i+1)\n",
    "  plt.imshow(images_mid[i].squeeze().detach().cpu().numpy(), cmap='gray')\n",
    "  plt.axis('off')\n",
    "  plt.title(\"Milieu de l'entrainement\")\n",
    "  \n",
    "images_end = all_fake_images[-1]\n",
    "plt.figure(figsize=(10, 10))\n",
    "for i in range(5):\n",
    "  plt.subplot(1, 5, i+1)\n",
    "  plt.imshow(images_end[i].squeeze().detach().cpu().numpy(), cmap='gray')\n",
    "  plt.axis('off')\n",
    "  plt.title(\"Fin de l'entrainement\")"
   ]
  }
 ],
 "metadata": {
  "kernelspec": {
   "display_name": "dev",
   "language": "python",
   "name": "python3"
  },
  "language_info": {
   "codemirror_mode": {
    "name": "ipython",
    "version": 3
   },
   "file_extension": ".py",
   "mimetype": "text/x-python",
   "name": "python",
   "nbconvert_exporter": "python",
   "pygments_lexer": "ipython3",
   "version": "3.11.8"
  }
 },
 "nbformat": 4,
 "nbformat_minor": 2
}
