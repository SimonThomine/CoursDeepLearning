{
 "cells": [
  {
   "cell_type": "markdown",
   "metadata": {},
   "source": [
    "# 卷积神经网络\n"
   ]
  },
  {
   "cell_type": "markdown",
   "metadata": {},
   "source": [
    "## 直观理解\n"
   ]
  },
  {
   "cell_type": "markdown",
   "metadata": {},
   "source": [
    "与全连接网络类似，卷积神经网络也由多个层组成。其核心思想是：\n",
    "- **增加深度方向的滤波器（通道）数量**，同时**减少特征图的空间分辨率**。\n",
    "- 这种设计提升了网络的抽象能力：**浅层主要检测边缘等局部特征**，而**深层则捕获更复杂的上下文信息**。\n",
    "\n",
    "在分类任务（如 MNIST 手写数字识别）中，网络末端通常采用**全连接层**，将卷积输出的特征映射到类别数量上，以实现最终分类。\n"
   ]
  },
  {
   "cell_type": "markdown",
   "metadata": {},
   "source": [
    "典型的卷积神经网络由以下三类层组成：\n",
    "1. **卷积层**：调整滤波器数量，引入可训练参数；\n",
    "2. **激活层**（如 ReLU、Sigmoid、Tanh 等）：为网络引入非线性特性；\n",
    "3. **池化层**：降低特征图的空间分辨率，减少参数量。\n",
    "\n",
    "下图展示了经典卷积神经网络的架构示意：\n",
    "\n",
    "![卷积神经网络架构](./images/CNN.png)\n"
   ]
  },
  {
   "cell_type": "markdown",
   "metadata": {},
   "source": [
    "## 感受野（Receptive Field）\n"
   ]
  },
  {
   "cell_type": "markdown",
   "metadata": {},
   "source": [
    "如前所述，**单层卷积仅实现像素的局部交互**。例如，采用 $3 \\times 3$ 的滤波器时，每个像素仅受其邻域像素影响。这种局部性限制了网络**检测全局图像特征**（如覆盖整个图像的模式）的能力。\n"
   ]
  },
  {
   "cell_type": "markdown",
   "metadata": {},
   "source": [
    "然而，**堆叠多层卷积**可逐步扩大单个像素的**影响范围**（即感受野）。下图直观展示了这一原理：\n",
    "\n",
    "![感受野演变](./images/ReceptiveField.gif)\n",
    "\n",
    "*图片来源：[博文链接](https://www.linkedin.com/pulse/deep-learning-understanding-receptive-field-computer-n-bhatt/)*\n"
   ]
  },
  {
   "cell_type": "markdown",
   "metadata": {},
   "source": [
    "感受野可通过以下公式**形式化计算**：\n",
    "\n",
    "$$R_{Eff} = R_{Init} + (k - 1) \\times S$$\n",
    "\n",
    "其中：\n",
    "- $R_{Eff}$：输出层的感受野大小；\n",
    "- $R_{Init}$：初始感受野（通常为 1）；\n",
    "- $k$：卷积核尺寸；\n",
    "- $S$：*步长*（stride）。\n"
   ]
  },
  {
   "cell_type": "markdown",
   "metadata": {},
   "source": [
    "在设计卷积网络时，**必须验证感受野是否足够覆盖关键像素交互**。原则上：\n",
    "- **输入图像尺寸越大**，所需的感受野范围应**越广**，以确保网络能捕获全局特征。\n"
   ]
  },
  {
   "cell_type": "markdown",
   "metadata": {},
   "source": [
    "**注**：\n",
    "之前介绍的模型优化工具（如**批归一化 BatchNorm** 和 **Dropout**）同样适用于卷积神经网络，可进一步提升其性能。\n"
   ]
  },
  {
   "cell_type": "markdown",
   "metadata": {},
   "source": [
    "## 可视化：网络学习到的特征\n"
   ]
  },
  {
   "cell_type": "markdown",
   "metadata": {},
   "source": [
    "为理解卷积网络的工作机制及各层功能，**可视化不同深度的特征图（FeatureMaps）激活**是行之有效的方法。下图展示了随网络深度变化的特征图：\n",
    "\n",
    "![各层特征图](./images/Layers.png)\n"
   ]
  },
  {
   "cell_type": "markdown",
   "metadata": {},
   "source": [
    "由图可知：\n",
    "- **浅层**：主要捕获**局部信息**（如边缘、基础形状）；\n",
    "- **中间层**：提取覆盖图像**较大区域**的复合特征；\n",
    "- **深层**：整合**上下文语义信息**，实现高阶抽象（如物体部件或场景布局）。\n"
   ]
  }
 ],
 "metadata": {
  "language_info": {
   "name": "python"
  }
 },
 "nbformat": 4,
 "nbformat_minor": 2
}
