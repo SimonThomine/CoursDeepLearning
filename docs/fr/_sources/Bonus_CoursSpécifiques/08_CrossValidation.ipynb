{
 "cells": [
  {
   "cell_type": "markdown",
   "metadata": {},
   "source": [
    "# Introduction à la validation croisée\n"
   ]
  },
  {
   "cell_type": "markdown",
   "metadata": {},
   "source": [
    "La validation croisée, ou *cross-validation*, est une méthode qui permet d'évaluer précisément un modèle de deep learning sur l'ensemble des données disponibles pour l'entraînement. Ce cours s'inspire du [blogpost](https://towardsdatascience.com/cross-validation-explained-evaluating-estimator-performance-e51e5430ff85), et les figures utilisées proviennent également de ce blogpost.\n"
   ]
  },
  {
   "cell_type": "markdown",
   "metadata": {},
   "source": [
    "## Problèmes des modèles de deep learning\n"
   ]
  },
  {
   "cell_type": "markdown",
   "metadata": {},
   "source": [
    "Comme vu précédemment, un des problèmes des modèles de deep learning est l'*overfitting*. Pour en savoir plus sur l'*overfitting*, vous pouvez consulter le [cours bonus sur la régularisation](06_Regularisation.ipynb). En effet, il ne suffit pas d'avoir un modèle performant sur les données d'entraînement, il faut surtout qu'il soit performant sur les données de test.\n",
    "\n",
    "![Overfitting 2](./images/overfit2.png)\n",
    "\n",
    "La *cross-validation* est une technique qui permet de détecter plus facilement l'*overfitting* et d'ajuster précisément les hyperparamètres pour lutter contre ce problème.\n"
   ]
  },
  {
   "cell_type": "markdown",
   "metadata": {},
   "source": [
    "## Comment fonctionne la validation croisée ?\n"
   ]
  },
  {
   "cell_type": "markdown",
   "metadata": {},
   "source": [
    "La technique de *cross-validation* peut être décomposée en 3 phases :\n",
    "- On partitionne notre dataset en un nombre de sous-ensembles choisi.\n",
    "- On écarte un des sous-ensembles et on entraîne le modèle sur le reste des sous-ensembles.\n",
    "- On teste finalement le modèle sur le sous-ensemble que l'on avait écarté pour l'entraînement.\n",
    "\n",
    "On répète les deux derniers points jusqu'à ce que tous les sous-ensembles aient été évalués. Si on sépare notre dataset en 10 sous-ensembles, alors il faudra entraîner le modèle 10 fois. Une fois que tous les entraînements sont terminés, on peut évaluer le modèle en prenant la moyenne de ses performances sur les différents entraînements.\n",
    "\n",
    "![Validation croisée](./images/crossval.png)\n",
    "\n",
    "Il existe 3 types de validation croisée qui sont assez proches les uns des autres : le *k-fold cross validation*, le *stratified k-fold cross validation* et le *leave one out cross validation* (LOOCV).\n"
   ]
  },
  {
   "cell_type": "markdown",
   "metadata": {},
   "source": [
    "### Validation croisée k-fold\n"
   ]
  },
  {
   "cell_type": "markdown",
   "metadata": {},
   "source": [
    "La *k-fold cross validation* est la version la plus classique. On divise notre dataset en k sous-ensembles. On entraîne k modèles à chaque fois avec un sous-ensemble différent de validation et on fait la moyenne des scores pour évaluer le modèle de manière générale.\n",
    "\n",
    "![Validation croisée k-fold](./images/kfold.png)\n",
    "\n",
    "**Comment choisir le paramètre k** : En général, on choisit k de sorte à ce que les sous-ensembles soient suffisamment importants pour représenter statistiquement le dataset original. Le choix de k dépend aussi du temps et des ressources disponibles, car plus k est grand, plus on doit faire d'entraînements.\n",
    "\n",
    "En général, k=10 est une bonne valeur.\n"
   ]
  },
  {
   "cell_type": "markdown",
   "metadata": {},
   "source": [
    "### Validation croisée k-fold stratifiée\n"
   ]
  },
  {
   "cell_type": "markdown",
   "metadata": {},
   "source": [
    "Cette méthode est presque identique à la *k-fold cross validation* de base, mais on ajoute une contrainte. On spécifie que chaque sous-ensemble doit avoir la même distribution de classes. Cela permet de juger chaque sous-ensemble sur un pied d'égalité en termes de performance relative à chaque classe.\n",
    "\n",
    "![Validation croisée k-fold stratifiée](./images/skfold.png)\n"
   ]
  },
  {
   "cell_type": "markdown",
   "metadata": {},
   "source": [
    "### Validation croisée leave-one-out\n"
   ]
  },
  {
   "cell_type": "markdown",
   "metadata": {},
   "source": [
    "Encore une fois, cette méthode est très proche de la *k-fold cross validation* classique, puisqu'il s'agit simplement de cette méthode avec k=n (n étant la taille du dataset). À chaque fois, on entraîne le modèle sur toutes les données sauf une. Cela revient à entraîner le modèle n fois, ce qui peut vite être coûteux en temps et en ressources. L'avantage de cette méthode est qu'on peut entraîner le modèle sur presque toutes les données du dataset. En pratique, cette méthode ne s'utilise pas beaucoup, sauf dans des cas où l'on fait un *finetuning* sur peu de données (et à ce moment-là, elle est très intéressante).\n"
   ]
  },
  {
   "cell_type": "markdown",
   "metadata": {},
   "source": [
    "## Avantages et intérêts de la validation croisée\n"
   ]
  },
  {
   "cell_type": "markdown",
   "metadata": {},
   "source": [
    "La validation croisée a plusieurs avantages :\n",
    "- On détecte l'*overfitting* plus facilement et on peut régler les hyperparamètres en conséquence.\n",
    "- Dans un cadre scientifique, évaluer les modèles avec la *cross validation* permet une évaluation plus fiable et supprime en partie la chance (que l'on pourrait avoir lorsque l'on sépare aléatoirement nos données d'entraînement et de validation).\n"
   ]
  },
  {
   "cell_type": "markdown",
   "metadata": {},
   "source": [
    "Si vous pouvez vous le permettre (suffisamment de temps et de ressources de calcul), je vous invite à utiliser la *cross validation* systématiquement.\n"
   ]
  }
 ],
 "metadata": {
  "language_info": {
   "name": "python"
  }
 },
 "nbformat": 4,
 "nbformat_minor": 2
}
