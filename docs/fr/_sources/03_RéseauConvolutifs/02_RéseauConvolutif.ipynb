{
 "cells": [
  {
   "cell_type": "markdown",
   "metadata": {},
   "source": [
    "# Réseaux convolutifs\n"
   ]
  },
  {
   "cell_type": "markdown",
   "metadata": {},
   "source": [
    "## Intuition\n"
   ]
  },
  {
   "cell_type": "markdown",
   "metadata": {},
   "source": [
    "Comme les réseaux fully connected, les réseaux convolutifs sont composés de plusieurs couches. L'idée est d'augmenter le nombre de filtres (canaux) en profondeur tout en réduisant la résolution spatiale des *FeatureMaps*. Cela permet d'augmenter l'abstraction : les premières couches détectent surtout les contours, tandis que les couches profondes captent des informations plus contextuelles.\n",
    "\n",
    "Pour un problème de classification (comme MNIST), les dernières couches sont souvent des couches entièrement connectées pour adapter la sortie des convolutions au nombre de classes.\n"
   ]
  },
  {
   "cell_type": "markdown",
   "metadata": {},
   "source": [
    "Un réseau convolutif est généralement composé de couches de convolution, d'activation (*ReLU*, *sigmoid*, *tanH*, etc.) et de *pooling*. La couche de convolution ajuste le nombre de filtres et ajoute des paramètres entraînables. La couche d'activation rend le réseau non linéaire, et la couche de *pooling* réduit la résolution spatiale de l'image.\n",
    "\n",
    "Voici l'architecture classique d'un réseau convolutif :\n",
    "\n",
    "![Convolution](./images/CNN.png)\n"
   ]
  },
  {
   "cell_type": "markdown",
   "metadata": {},
   "source": [
    "## Champ réceptif\n"
   ]
  },
  {
   "cell_type": "markdown",
   "metadata": {},
   "source": [
    "Comme vu précédemment, une seule couche de convolution permet seulement une interaction locale entre les pixels (avec un filtre de $3 \\times 3$, chaque pixel n'est influencé que par ses voisins). Cela pose problème pour détecter des éléments couvrant toute l'image.\n"
   ]
  },
  {
   "cell_type": "markdown",
   "metadata": {},
   "source": [
    "Cependant, empiler plusieurs couches de convolution augmente la zone d'influence d'un pixel.\n",
    "\n",
    "L'image suivante illustre ce principe :\n",
    "\n",
    "![Receptive Field](./images/ReceptiveField.gif)\n",
    "\n",
    "Figure extraite de [blogpost](https://www.linkedin.com/pulse/deep-learning-understanding-receptive-field-computer-n-bhatt/).\n"
   ]
  },
  {
   "cell_type": "markdown",
   "metadata": {},
   "source": [
    "Plus formellement, le champ réceptif d'un pixel se calcule avec la formule :\n",
    "\n",
    "$R_{Eff}=R_{Init} + (k-1)*S$\n",
    "\n",
    "Où $R_{Eff}$ est le champ réceptif de la couche de sortie, $R_{Init}$ le champ initial, $k$ la taille du noyau et $S$ le *stride*.\n"
   ]
  },
  {
   "cell_type": "markdown",
   "metadata": {},
   "source": [
    "Lors de l'implémentation de réseaux convolutifs, il faut vérifier ce paramètre pour s'assurer que le réseau analyse bien toutes les interactions entre pixels. Plus l'image d'entrée est grande, plus le champ réceptif doit être large.\n"
   ]
  },
  {
   "cell_type": "markdown",
   "metadata": {},
   "source": [
    "**Précision** : Les outils vus précédemment pour améliorer les modèles (comme *BatchNorm* et *Dropout*) s'appliquent aussi aux réseaux convolutifs.\n"
   ]
  },
  {
   "cell_type": "markdown",
   "metadata": {},
   "source": [
    "## Visualisation de ce que le réseau apprend\n"
   ]
  },
  {
   "cell_type": "markdown",
   "metadata": {},
   "source": [
    "Pour comprendre le fonctionnement d'un réseau convolutif et le rôle de chaque couche, on peut visualiser les activations des *FeatureMaps* en fonction de la profondeur.\n",
    "\n",
    "Voici une visualisation selon la profondeur du réseau :\n",
    "\n",
    "![Layers](./images/Layers.png)\n"
   ]
  },
  {
   "cell_type": "markdown",
   "metadata": {},
   "source": [
    "Comme on le voit, les couches peu profondes captent surtout les informations locales (contours, formes basiques), tandis que les couches profondes contiennent des informations contextuelles. Les couches intermédiaires contiennent des informations couvrant une partie importante de l'image.\n"
   ]
  }
 ],
 "metadata": {
  "language_info": {
   "name": "python"
  }
 },
 "nbformat": 4,
 "nbformat_minor": 2
}
