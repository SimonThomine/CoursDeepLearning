{
 "cells": [
  {
   "cell_type": "markdown",
   "metadata": {},
   "source": [
    "# 生成模型简介\n"
   ]
  },
  {
   "cell_type": "markdown",
   "metadata": {},
   "source": [
    "在之前的课程中，我们学习了各种深度学习模型，包括判别模型和生成模型。本课程将重点介绍**生成模型**，详细解释其工作原理，并提供具体示例和实现代码。\n"
   ]
  },
  {
   "cell_type": "markdown",
   "metadata": {},
   "source": [
    "## 判别模型和生成模型\n"
   ]
  },
  {
   "cell_type": "markdown",
   "metadata": {},
   "source": [
    "**判别模型**与**生成模型**的定义如下：\n",
    "\n",
    "- **判别模型（Discriminative Model）**\n",
    "  目标是**区分不同类型的数据**。训练时使用输入数据 $X$ 及其对应标签 $Y$，旨在对新输入的数据进行分类。常见应用包括：\n",
    "  - 图像/文本/音频分类\n",
    "  - 目标检测\n",
    "  - 图像分割\n",
    "\n",
    "- **生成模型（Generative Model）**\n",
    "  目标是**学习数据的分布**，以生成与训练数据相似的新样本。与判别模型不同，训练过程**不依赖标签**。我们曾在[NLP课程5](../05_NLP/README.md)中介绍过部分生成模型。\n",
    "\n",
    "> **注**：\n",
    "> - 标准**自编码器（Autoencoder）**不属于上述任一类别，因其既不预测标签，也不学习输入数据的概率分布。\n",
    "> - **变分自编码器（VAE）**基于类似架构，但能学习数据的概率分布。\n"
   ]
  },
  {
   "cell_type": "markdown",
   "metadata": {},
   "source": [
    "从形式化角度看：\n",
    "- 判别模型学习**条件概率** $P(X \\mid Y)$；\n",
    "- 生成模型学习**数据分布** $P(X)$（无标签）或**联合分布** $P(X,Y)$（有标签）。\n"
   ]
  },
  {
   "cell_type": "markdown",
   "metadata": {},
   "source": [
    "## 课程内容\n"
   ]
  },
  {
   "cell_type": "markdown",
   "metadata": {},
   "source": [
    "本课程将介绍主要的生成模型家族，并为每种模型提供实现示例：\n",
    "\n",
    "- **GAN（生成对抗网络）**\n",
    "  - **Notebook 2 & 3**涵盖 GAN 的原理。\n",
    "  - 核心机制：由**生成器**（生成与训练数据分布相似的样本）和**判别器**（区分真实数据与生成数据）两个模型对抗训练。\n",
    "\n",
    "- **VAE（变分自编码器）**\n",
    "  - **Notebook 4 & 5**详解 VAE。\n",
    "  - 与传统自编码器不同，VAE 在**潜在空间**中学习数据的**概率分布**，而非确定性表示。\n",
    "\n",
    "- **Normalizing Flows（归一化流）**\n",
    "  - **Notebook 6 & 7**探讨 Normalizing Flows。\n",
    "  - 通过**双射变换**，将简单分布（如高斯分布）转换为训练数据的复杂分布。\n",
    "\n",
    "- **Diffusion Models（扩散模型）**\n",
    "  - **Notebook 4 & 5**介绍扩散模型。\n",
    "  - 训练网络**逐步去噪**，从高斯噪声迭代生成图像。\n",
    "\n",
    "![生成模型概览](./images/generative_models.png)\n",
    "\n",
    "> **注 1**：\n",
    "> 自回归模型（如 GPT）未在此课程中展开，详见[NLP课程5](../05_NLP/README.md)。\n",
    "\n",
    "> **注 2**：\n",
    "> 本课程为生成模型的入门教程。欲深入学习，可参考斯坦福 CS236 课程：\n",
    "> - [官方网站](https://deepgenerativemodels.github.io/)\n",
    "> - [YouTube 课程列表](https://www.youtube.com/watch?v=XZ0PMRWXBEU&list=PLoROMvodv4rPOWA-omMM6STXaWW4FvJT8&ab_channel=StanfordOnline)\n"
   ]
  }
 ],
 "metadata": {
  "language_info": {
   "name": "python"
  }
 },
 "nbformat": 4,
 "nbformat_minor": 2
}
