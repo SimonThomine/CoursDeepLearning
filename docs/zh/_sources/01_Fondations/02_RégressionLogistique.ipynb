{
 "cells": [
  {
   "cell_type": "markdown",
   "metadata": {},
   "source": [
    "# 逻辑回归\n"
   ]
  },
  {
   "cell_type": "markdown",
   "metadata": {},
   "source": [
    "## 人工神经元\n"
   ]
  },
  {
   "cell_type": "markdown",
   "metadata": {},
   "source": [
    "现在进入核心内容：人工神经元！\n",
    "\n",
    "下图展示了人工神经元的工作原理：\n",
    "\n",
    "![人工神经元](./images/NeuroneArtificiel.png)\n",
    "\n",
    "人工神经元接收一个输入向量 $\\mathbf{x}=(x_1, x_2, ..., x_n)$。向量中的每个元素 $x_i$ 会乘以一个权重 $w_i$，然后将所有乘积相加并加上一个偏置 $b$。这个总和会经过一个称为**激活函数** $\\phi$ 的函数处理。\n",
    "输出结果为：$输出 = \\phi(\\sum_{i=0}^{n} w_i x_i  + b)$。\n",
    "之所以称为人工神经元，是因为它模仿了[生物神经元](https://en.wikipedia.org/wiki/Artificial_neuron)的工作方式。\n"
   ]
  },
  {
   "cell_type": "markdown",
   "metadata": {},
   "source": [
    "## 激活函数\n"
   ]
  },
  {
   "cell_type": "markdown",
   "metadata": {},
   "source": [
    "**Heaviside 阶跃函数：** 最早的人工神经元（[感知器](https://fr.wikipedia.org/wiki/Perceptron)）使用阈值函数作为激活函数。该函数根据加权和与预定阈值进行决策（输出 0 或 1）。\n",
    "$heaviside(x) = \\left\\{\n",
    "    \\begin{array}{ll}\n",
    "        1 & \\text{如果 } x > 0 \\\\\n",
    "        0 & \\text{否则}\n",
    "    \\end{array}\n",
    "\\right. \\text{，其中 } x=\\sum_{i=0}^{n} w_i x_i  + b$\n",
    "这种激活函数适用于二分类问题，但不适用于多类别问题。此外，该函数不可导，因此难以使用梯度下降算法来优化神经元的权重 $w_i$。\n",
    "\n",
    "近代的激活函数更适合通过梯度下降训练神经网络。首先，它们是可导的，因此可以应用梯度下降算法。其次，它们是非线性的，使得神经网络能够学习复杂的表示。此外，每种激活函数还有其特定的优势。\n",
    "\n",
    "其中一种“近代”激活函数是 Sigmoid 函数，我们将在这里详细介绍：\n",
    "\n",
    "**Sigmoid 函数：** Sigmoid 函数是一种特别有用的激活函数，因为它的输出可以类比为概率。该函数通过以下公式将输入值转换为 0 到 1 之间的值：\n",
    "$sigmoid(x) = \\frac{1}{1 + e^{-x}} \\text{，其中 } x=\\sum_{i=0}^{n} w_i x_i  + b$\n"
   ]
  },
  {
   "cell_type": "code",
   "execution_count": 1,
   "metadata": {},
   "outputs": [
    {
     "data": {
      "image/png": "[encoded data removed]",
      "text/plain": [
       "<Figure size 640x480 with 1 Axes>"
      ]
     },
     "metadata": {},
     "output_type": "display_data"
    }
   ],
   "source": [
    "# Tracé de la fonction sigmoïde\n",
    "import numpy as np\n",
    "import matplotlib.pyplot as plt\n",
    "\n",
    "def sigmoid(x):\n",
    "    return 1 / (1 + np.exp(-x))\n",
    "x = np.linspace(-10, 10, 100)\n",
    "y = sigmoid(x)\n",
    "\n",
    "plt.plot(x, y)\n",
    "plt.title('Fonction sigmoïde')\n",
    "plt.xlabel('x')\n",
    "plt.ylabel('sigmoid(x)')\n",
    "plt.grid(True)\n",
    "plt.show()"
   ]
  },
  {
   "cell_type": "markdown",
   "metadata": {},
   "source": [
    "该函数是可导的，其导数为：\n",
    "$sigmoid'(x) = sigmoid(x) \\cdot (1 - sigmoid(x))$\n",
    "因此，当使用该激活函数时，我们可以对人工神经元应用梯度下降算法。\n",
    "\n",
    "还有许多其他[激活函数](https://fr.wikipedia.org/wiki/Fonction_d%27activation)，每种都有其特定用途。我们将在后续课程中介绍它们（如 $Tanh$、$ReLU$、$Softmax$）。\n"
   ]
  },
  {
   "cell_type": "markdown",
   "metadata": {},
   "source": [
    "## 应用\n"
   ]
  },
  {
   "cell_type": "markdown",
   "metadata": {},
   "source": [
    "为了更好地理解逻辑回归，我们通过一个具体的例子来学习。\n",
    "\n",
    "在这个例子中，我们将根据三个信息来判断一名学生是否能被其理想大学录取：入学考试成绩、前一年的平均成绩以及推荐信的质量。\n",
    "\n",
    "虽然我们不知道学校录取或拒绝学生的具体计算方法，但我们拥有相关的数据和对应的录取决定。\n",
    "\n",
    "输入信息的取值范围在 0 到 1 之间，1 表示最佳成绩。录取 = 1 表示被录取，录取 = 0 表示被拒绝。\n"
   ]
  },
  {
   "cell_type": "code",
   "execution_count": 2,
   "metadata": {},
   "outputs": [
    {
     "name": "stdout",
     "output_type": "stream",
     "text": [
      "╒══════════╤═══════════╤══════════════╤═════════╕\n",
      "│   Examen │   Moyenne │   Motivation │   Admis │\n",
      "╞══════════╪═══════════╪══════════════╪═════════╡\n",
      "│      0.7 │       0.8 │          0.1 │       1 │\n",
      "├──────────┼───────────┼──────────────┼─────────┤\n",
      "│      0.4 │       0.9 │          0.5 │       0 │\n",
      "├──────────┼───────────┼──────────────┼─────────┤\n",
      "│      0.2 │       0.3 │          0.9 │       0 │\n",
      "├──────────┼───────────┼──────────────┼─────────┤\n",
      "│      0.9 │       0.9 │          0.6 │       1 │\n",
      "╘══════════╧═══════════╧══════════════╧═════════╛\n"
     ]
    }
   ],
   "source": [
    "from tabulate import tabulate\n",
    "\n",
    "# Définition des données d'entraînement\n",
    "values_train = [[0.7, 0.8, 0.1], [0.4, 0.9, 0.5], [0.2, 0.3, 0.9], [0.9, 0.9, 0.6]]\n",
    "labels_train = [1, 0, 0, 1]\n",
    "\n",
    "# Ajout des noms de colonnes\n",
    "data = [['Examen', 'Moyenne', 'Motivation', 'Admis']]\n",
    "data.extend([[values_train[i][0], values_train[i][1], values_train[i][2], labels_train[i]] for i in range(len(values_train))])\n",
    "\n",
    "# Affichage du tableau\n",
    "print(tabulate(data, headers=\"firstrow\", tablefmt=\"fancy_grid\"))"
   ]
  },
  {
   "cell_type": "markdown",
   "metadata": {},
   "source": [
    "在这个问题中，我们的目标是判断得分为 $[考试=0.8, 平均成绩=0.7, 动机=0.2]$ 和 $[考试=0.4, 平均成绩=0.5, 动机=0.9]$ 的学生是否被录取。\n"
   ]
  },
  {
   "cell_type": "markdown",
   "metadata": {},
   "source": [
    "可以看出，$考试$、$平均成绩$ 和 $动机$ 对应于我们的输入 $x_i$。通过逻辑回归，我们的目标是找到与训练数据相符的最优权重 $w_i$。\n",
    "\n",
    "为了简化，我们设定：\n",
    "$x_0=考试$，$x_1=平均成绩$，$x_2=动机$，$y_{true}=录取$。\n"
   ]
  },
  {
   "cell_type": "markdown",
   "metadata": {},
   "source": [
    "### 代价函数\n"
   ]
  },
  {
   "cell_type": "markdown",
   "metadata": {},
   "source": [
    "在梯度下降的例子中，我们的目标是找到一个函数的最小值。梯度下降算法在这些场景中表现优异。对于我们的新问题，我们需要找到一个函数，当我们最小化该函数时，可以提高预测的准确性。\n",
    "\n",
    "在二分类问题中，$y_{true}$ 的值为 1 表示学生被录取，0 表示未被录取。\n",
    "\n",
    "我们的目标是预测学生是否被录取，即预测输出 $pred$。\n",
    "\n",
    "在训练过程中，我们希望训练逻辑回归模型，使其预测值 $pred$ 接近 $y_{true}$。\n",
    "\n",
    "为此，我们使用负对数似然函数，其表达式如下：\n",
    "$\\text{loss} = - \\left( y_{\\text{true}} \\cdot \\log(\\text{pred}) + (1 - y_{\\text{true}}) \\cdot \\log(1 - \\text{pred}) \\right)$\n",
    "\n",
    "关于逻辑回归和负对数似然损失的更多细节，请参阅此[链接](https://blog.demir.io/understanding-logistic-regression-26802c0da856)。\n"
   ]
  },
  {
   "cell_type": "markdown",
   "metadata": {},
   "source": [
    "重要的是理解该函数如何根据我们的预测 $pred$ 和标签 $y_{true}$ 变化。\n",
    "\n",
    "我们以 $y_{true}=1$ 为例，分析两种情况：\n",
    "\n",
    "如果 $pred=0.9$，即模型预测学生有 90% 的概率被录取（一个好的预测），那么：\n",
    "$\\text{loss} = - \\left( 1.0 \\cdot \\log(0.9) + (1 - 1.0) \\cdot \\log(1 - 0.9) \\right)$\n",
    "$\\text{loss} = - \\left( 1.0 \\cdot \\log(0.9) + 0 \\cdot \\log(0.1) \\right)$\n",
    "$\\text{loss} = - \\left( 1.0 \\cdot \\log(0.9) \\right)$\n",
    "$\\text{loss} = 0.046$\n",
    "损失值较小，说明这是一个好的预测。\n",
    "\n",
    "如果 $pred=0.2$，即模型预测学生只有 20% 的概率被录取（一个不好的预测），那么：\n",
    "$\\text{loss} = - \\left( 1.0 \\cdot \\log(0.2) + (1 - 1.0) \\cdot \\log(1 - 0.2) \\right)$\n",
    "$\\text{loss} = - \\left( 1.0 \\cdot \\log(0.2) + 0 \\cdot \\log(0.8) \\right)$\n",
    "$\\text{loss} = - \\left( 1.0 \\cdot \\log(0.2) \\right)$\n",
    "$\\text{loss} = 0.70$\n",
    "损失值较大，说明这是一个不好的预测。\n",
    "\n",
    "对于 $y_{true}=0$ 的情况，当 $pred$ 接近 0 时损失值较小，当 $pred$ 接近 1 时损失值较大（可自行计算验证）。\n"
   ]
  },
  {
   "cell_type": "markdown",
   "metadata": {},
   "source": [
    "### 导数计算\n"
   ]
  },
  {
   "cell_type": "markdown",
   "metadata": {},
   "source": [
    "现在我们有一个需要最小化的函数，因此需要计算该函数关于每个权重 $w_0$、$w_1$、$w_2$ 和偏置 $b$ 的导数。\n",
    "\n",
    "因此，我们需要计算 $\\frac{\\partial loss}{\\partial w_0}$、$\\frac{\\partial loss}{\\partial w_1}$、$\\frac{\\partial loss}{\\partial w_2}$ 和 $\\frac{\\partial loss}{\\partial b}$。\n",
    "\n",
    "对于权重 $w_0$、$w_1$ 和 $w_2$，导数的计算方式是相同的。\n",
    "\n",
    "使用链式法则，对于 $w_0$，我们有：\n",
    "$\\frac{\\partial loss}{\\partial w_0} = \\frac{\\partial loss}{\\partial pred} \\cdot \\frac{\\partial pred}{\\partial w_0}$\n",
    "\n",
    "需要注意的是，我们的预测 $pred$ 是逻辑回归的输出，使用 Sigmoid 激活函数。\n",
    "\n",
    "对于第一项，损失关于 $pred$ 的导数为：\n",
    "$\\frac{\\partial loss}{\\partial pred} = -(\\frac{y_{true}}{pred} - \\frac{1-y_{true}}{1-pred})$\n",
    "这里不详细展开计算过程，但你可以自行验证。\n",
    "\n",
    "对于第二项，$pred$ 关于 $w_0$ 的导数为：\n",
    "$\\frac{\\partial pred}{\\partial w_0} = pred \\cdot (1-pred) \\cdot x_0$\n",
    "\n",
    "结合这两项，我们得到：\n",
    "$\\frac{\\partial loss}{\\partial w_0} = -(\\frac{y_{true}}{pred} - \\frac{1-y_{true}}{1-pred}) \\cdot pred \\cdot (1-pred) \\cdot x_0$\n",
    "\n",
    "经过简化（魔法般的简化），得到：\n",
    "$\\frac{\\partial loss}{\\partial w_0} = (pred-y_{true}) \\cdot x_0$\n",
    "\n",
    "不详细展开计算，我们同样可以得到：\n",
    "$\\frac{\\partial loss}{\\partial b} = pred-y_{true}$\n"
   ]
  },
  {
   "cell_type": "markdown",
   "metadata": {},
   "source": [
    "### 逻辑回归\n"
   ]
  },
  {
   "cell_type": "markdown",
   "metadata": {},
   "source": [
    "现在我们已经具备了所有必要的元素，\n",
    "我们可以用 Python 定义逻辑回归函数：\n"
   ]
  },
  {
   "cell_type": "code",
   "execution_count": 3,
   "metadata": {},
   "outputs": [],
   "source": [
    "# Notre classe de regression logistique\n",
    "class logistic_regression():\n",
    "  def __init__(self) -> None:\n",
    "    self.w0=np.random.randn()\n",
    "    self.w1=np.random.randn()\n",
    "    self.w2=np.random.randn()\n",
    "    self.b=0\n",
    "  def __call__(self,x0,x1,x2):\n",
    "    # Somme pondérée et ajout du biais\n",
    "    pond=self.w0*x0+self.w1*x1+self.w2*x2+self.b\n",
    "    # Application de la sigmoïde\n",
    "    pred=sigmoid(pond)\n",
    "    return pred\n",
    "    \n",
    "def loss(y_true, y_pred):\n",
    "  # Calcul du loss (log vraisemblance négative)\n",
    "  loss = - (y_true * np.log(y_pred) + (1 - y_true) * np.log(1 - y_pred))\n",
    "  return loss\n",
    "    \n",
    "\n",
    "def update_weights(model,pred, x0, x1, x2, y_true, learning_rate):\n",
    "       \n",
    "  # On calcule les dérivées en fonction des poids et du biais \n",
    "  dL_dw0 = (pred - y_true) * x0\n",
    "  dL_dw1 = (pred - y_true) * x1\n",
    "  dL_dw2 = (pred - y_true) * x2\n",
    "  dL_db = pred - y_true\n",
    "      \n",
    "  # On modifie les paramètres pour réduire le loss \n",
    "  # La modification des poids dépend du learning rate, du signe de la dérivée et de la valeur de la dérivée\n",
    "  model.w0 -= learning_rate * dL_dw0\n",
    "  model.w1 -= learning_rate * dL_dw1\n",
    "  model.w2 -= learning_rate * dL_dw2\n",
    "  model.b -= learning_rate * dL_db"
   ]
  },
  {
   "cell_type": "code",
   "execution_count": 4,
   "metadata": {},
   "outputs": [],
   "source": [
    "\n",
    "# Initialisation du modèle et des hyperparamètres\n",
    "learning_rate = 0.01\n",
    "epochs = 1000 # le nombre d'itérations d'entrainement\n",
    "model = logistic_regression()"
   ]
  },
  {
   "cell_type": "markdown",
   "metadata": {},
   "source": [
    "在训练模型之前，我们先测试一下对两名学生录取结果的预测。\n"
   ]
  },
  {
   "cell_type": "code",
   "execution_count": 5,
   "metadata": {},
   "outputs": [
    {
     "name": "stdout",
     "output_type": "stream",
     "text": [
      "L'élève avec Examen = 0.8, Moyenne = 0.7 et Motivation = 0.7 a 60% de chance d'être admis\n",
      "L'élève avec Examen = 0.4, Moyenne = 0.5 et Motivation = 0.9 a 59% de chance d'être admis\n"
     ]
    }
   ],
   "source": [
    "values_test=[[0.8,0.7,0.7],[0.4,0.5,0.9]]\n",
    "for value in values_test:\n",
    "  x0,x1,x2=value\n",
    "  pred = model(x0, x1, x2)\n",
    "  print(\"L'élève avec Examen = \"+str(x0)+ \", Moyenne = \"+str(x1)+\" et Motivation = \"+str(x2)+ \" a \"+str(round(pred*100)) + \"% de chance d'être admis\")"
   ]
  },
  {
   "cell_type": "markdown",
   "metadata": {},
   "source": [
    "可以看到模型非常不确定，给出的概率是随机的，这是因为模型的权重是随机初始化的。\n",
    "\n",
    "现在，我们在训练数据上训练模型。\n"
   ]
  },
  {
   "cell_type": "code",
   "execution_count": 9,
   "metadata": {},
   "outputs": [
    {
     "name": "stdout",
     "output_type": "stream",
     "text": [
      "Epoch 1/40000, Loss: 0.01468091027998586\n",
      "Epoch 5000/40000, Loss: 0.013032955086147595\n",
      "Epoch 10000/40000, Loss: 0.011715352279809266\n",
      "Epoch 15000/40000, Loss: 0.010638348324912276\n",
      "Epoch 20000/40000, Loss: 0.009741762611763436\n",
      "Epoch 25000/40000, Loss: 0.008983896958517028\n",
      "Epoch 30000/40000, Loss: 0.008334957514714105\n",
      "Epoch 35000/40000, Loss: 0.007773096000082178\n",
      "Epoch 40000/40000, Loss: 0.007281930357182074\n"
     ]
    }
   ],
   "source": [
    "# Entraînement\n",
    "for epoch in range(epochs):\n",
    "  # Mise à jour des poids pour chaque exemple\n",
    "  total_loss = 0\n",
    "  for (x0, x1, x2), y_true in zip(values_train, labels_train):\n",
    "    pred = model(x0, x1, x2)\n",
    "    update_weights(model,pred, x0, x1, x2, y_true, learning_rate)\n",
    "    total_loss += loss(y_true, pred)\n",
    "\n",
    "  avg_loss = total_loss / len(labels_train)\n",
    "  \n",
    "  # Affichage de la perte pour suivre la progression de l'entraînement\n",
    "  if ((epoch + 1) % 5000 == 0) or (epoch==0):\n",
    "    print(f\"Epoch {epoch + 1}/{epochs}, Loss: {avg_loss}\")"
   ]
  },
  {
   "cell_type": "code",
   "execution_count": 10,
   "metadata": {},
   "outputs": [
    {
     "name": "stdout",
     "output_type": "stream",
     "text": [
      "19.464301071981186 -3.27230109363944 -8.244865180820856 -4.903197398150705\n",
      "L'élève avec Examen = 0.8, Moyenne = 0.7 et Motivation = 0.7 a 93% de chance d'être admis\n",
      "L'élève avec Examen = 0.4, Moyenne = 0.5 et Motivation = 0.9 a 0% de chance d'être admis\n"
     ]
    }
   ],
   "source": [
    "print(model.w0, model.w1, model.w2, model.b)\n",
    "\n",
    "for value in values_test:\n",
    "  x0,x1,x2=value\n",
    "  pred = model(x0, x1, x2)\n",
    "  print(\"L'élève avec Examen = \"+str(x0)+ \", Moyenne = \"+str(x1)+\" et Motivation = \"+str(x2)+ \" a \"+str(round(pred*100)) + \"% de chance d'être admis\")"
   ]
  },
  {
   "cell_type": "markdown",
   "metadata": {},
   "source": [
    "可以看到，现在我们的模型对其预测更加自信，并且给出了与训练数据相符的预测结果。\n"
   ]
  }
 ],
 "metadata": {
  "kernelspec": {
   "display_name": "dev",
   "language": "python",
   "name": "python3"
  },
  "language_info": {
   "codemirror_mode": {
    "name": "ipython",
    "version": 3
   },
   "file_extension": ".py",
   "mimetype": "text/x-python",
   "name": "python",
   "nbconvert_exporter": "python",
   "pygments_lexer": "ipython3",
   "version": "3.11.9"
  }
 },
 "nbformat": 4,
 "nbformat_minor": 2
}
