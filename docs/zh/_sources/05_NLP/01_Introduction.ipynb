{
 "cells": [
  {
   "cell_type": "markdown",
   "metadata": {},
   "source": [
    "# 自然语言处理（NLP）简介\n"
   ]
  },
  {
   "cell_type": "markdown",
   "metadata": {},
   "source": [
    "## 什么是自然语言处理（NLP）？\n"
   ]
  },
  {
   "cell_type": "markdown",
   "metadata": {},
   "source": [
    "自然语言处理（NLP）是机器学习中的一个核心领域，专注于文本相关的各类任务，包括机器翻译、文本理解、问答系统等应用。\n",
    "\n",
    "![NLP 应用示例](./images/applicationsNLP.png)\n",
    "\n",
    "*图片来源：[博客文章](https://eastgate-software.com/top-8-applications-of-natural-language-processing-nlp/)。*\n"
   ]
  },
  {
   "cell_type": "markdown",
   "metadata": {},
   "source": [
    "在深度学习中，NLP 的独特之处在于它处理的是**离散数据**（如文本），并且通常按照**从左到右**的顺序进行解析。\n"
   ]
  },
  {
   "cell_type": "markdown",
   "metadata": {},
   "source": [
    "## 课程内容\n"
   ]
  },
  {
   "cell_type": "markdown",
   "metadata": {},
   "source": [
    "本课程将重点讨论**下一个 token 的预测问题**，并从**预测下一个字符**开始，以简化理解。该问题是现代语言模型（如 GPT、Llama、Gemini 等）的核心基础。\n",
    "\n",
    "具体来说，目标是基于前文（即**上下文**）预测下一个词汇。上下文的长度取决于模型的方法和复杂度，通常由用于预测的 **token 数量**决定。\n",
    "\n",
    "> **什么是 token？**\n",
    "> Token 是模型的输入单元，可以是一个**字符**、**字符组**或**单词**，在输入模型前会被转换为向量形式。\n"
   ]
  },
  {
   "cell_type": "markdown",
   "metadata": {},
   "source": [
    "## 课程灵感来源\n"
   ]
  },
  {
   "cell_type": "markdown",
   "metadata": {},
   "source": [
    "本课程深受 Andrej Karpathy 的[视频系列](https://www.youtube.com/playlist?list=PLAqhIrjkxbuWI23v9cThsA9GvCAUhRvKZ)（[GitHub 仓库链接](https://github.com/karpathy/nn-zero-to-hero)）启发，特别是其中的 *\"building makemore\"* 课程。我们在此基础上提供了法语书面版本的教学内容。\n",
    "**强烈推荐**观看该视频系列，它是目前最优秀的**免费**语言模型课程之一。\n"
   ]
  },
  {
   "cell_type": "markdown",
   "metadata": {},
   "source": [
    "课程将分为多个 Notebook，逐步引入**复杂度递增的模型**。通过理解每个模型的局限性，我们将逐步过渡到更高级的架构。\n",
    "\n",
    "**课程大纲**：\n",
    "1. 第一课：双字符模型（Bigram，包括经典方法与神经网络实现）\n",
    "2. 第二课：使用全连接网络预测下一个词汇\n",
    "3. 第三课：WaveNet（分层架构）\n",
    "4. 第四课：RNN（循环神经网络与序列架构）\n",
    "5. 第五课：LSTM（改进型循环网络）\n"
   ]
  },
  {
   "cell_type": "markdown",
   "metadata": {},
   "source": [
    "> **注**：第七课的[Transformer 专题](https://github.com/SimonThomine/CoursDeepLearning/tree/main/07_Transformers)将探讨相同的**下一个字符生成问题**，但采用 **Transformer 架构**，并基于更复杂的数据集。\n"
   ]
  },
  {
   "cell_type": "markdown",
   "metadata": {},
   "source": [
    "## 数据集 `prenom.txt` 的获取\n"
   ]
  },
  {
   "cell_type": "markdown",
   "metadata": {},
   "source": [
    "本课程使用的数据集包含约 **3 万个**自 1900 年以来法国最常见的名字（数据来源：[法国国家统计与经济研究所 INSEE](https://www.insee.fr/fr/statistiques/7633685?sommaire=7635552)）。文件 `prenoms.txt` 已预置在目录中，**无需**运行下方代码。\n",
    "若需自行生成，可先从 INSEE 网站下载 `nat2022.csv` 文件。\n"
   ]
  },
  {
   "cell_type": "code",
   "execution_count": 13,
   "metadata": {},
   "outputs": [],
   "source": [
    "import pandas as pd\n",
    "\n",
    "# Chargement du fichier CSV\n",
    "df = pd.read_csv('nat2022.csv', sep=';')\n",
    "\n",
    "# On enlève la catégorie '_PRENOMS_RARES' qui regroupe les prénoms peu fréquents\n",
    "df_filtered = df[df['preusuel'] != '_PRENOMS_RARES']\n",
    "\n",
    "# Pour compter, on fait la somme des nombres de naissances pour chaque prénom\n",
    "df_grouped = df_filtered.groupby('preusuel', as_index=False)['nombre'].sum()\n",
    "\n",
    "# On va trier les prénoms par popularité\n",
    "df_sorted = df_grouped.sort_values(by='nombre', ascending=False)\n",
    "\n",
    "# On extrait les 30 000 prénoms les plus populaires\n",
    "top_prenoms = df_sorted['preusuel'].head(30000).values\n",
    "\n",
    "with open('prenoms.txt', 'w', encoding='utf-8') as file:\n",
    "  for prenom in top_prenoms:\n",
    "    file.write(f\"{prenom}\\n\")\n"
   ]
  },
  {
   "cell_type": "markdown",
   "metadata": {},
   "source": [
    "在接下来的 Notebook 中，我们将**首先分析数据集**（如独特字符统计等）。"
   ]
  }
 ],
 "metadata": {
  "kernelspec": {
   "display_name": "Python 3",
   "language": "python",
   "name": "python3"
  },
  "language_info": {
   "codemirror_mode": {
    "name": "ipython",
    "version": 3
   },
   "file_extension": ".py",
   "mimetype": "text/x-python",
   "name": "python",
   "nbconvert_exporter": "python",
   "pygments_lexer": "ipython3",
   "version": "3.11.9"
  }
 },
 "nbformat": 4,
 "nbformat_minor": 2
}
