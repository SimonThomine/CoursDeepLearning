{
 "cells": [
  {
   "cell_type": "markdown",
   "metadata": {},
   "source": [
    "# Implémentation d'un GAN"
   ]
  },
  {
   "cell_type": "markdown",
   "metadata": {},
   "source": [
    "Il est temps de passer à l'implémentation d'un GAN. Pour cela, nous allons nous baser sur le papier [Unsupervised Representation Learning with Deep Convolutional Generative Adversarial Networks](https://arxiv.org/pdf/1511.06434) pour générer des images de chiffres similaires à ceux du dataset MNIST. Dans un premier temps, nous allons implémenter le GAN de base puis nous le modifierons pour en faire un *conditional* GAN.\n",
    "\n",
    "<img src=\"images/dcgan.png\" alt=\"dcgan\" width=\"800\"/>\n",
    "\n",
    "Architecture du generateur de DCGAN."
   ]
  },
  {
   "cell_type": "code",
   "execution_count": 11,
   "metadata": {},
   "outputs": [
    {
     "name": "stdout",
     "output_type": "stream",
     "text": [
      "torch.Size([64, 10, 1, 1])\n"
     ]
    }
   ],
   "source": [
    "import torch\n",
    "import torch.nn as nn\n",
    "import torch.nn.functional as F\n",
    "import numpy as np\n",
    "import matplotlib.pyplot as plt\n",
    "import torchvision.datasets as datasets\n",
    "import torchvision.transforms as transforms\n",
    "from torch.utils.data import DataLoader\n"
   ]
  },
  {
   "cell_type": "markdown",
   "metadata": {},
   "source": [
    "## Dataset"
   ]
  },
  {
   "cell_type": "markdown",
   "metadata": {},
   "source": [
    "Commençons par charger notre dataset MNIST :"
   ]
  },
  {
   "cell_type": "code",
   "execution_count": 23,
   "metadata": {},
   "outputs": [
    {
     "name": "stdout",
     "output_type": "stream",
     "text": [
      "taille du dataset d'entrainement :  60000\n",
      "taille d'une image :  (1, 32, 32)\n"
     ]
    }
   ],
   "source": [
    "transform=transforms.Compose([\n",
    "    transforms.ToTensor(),\n",
    "    transforms.Resize((32,32)),\n",
    "])\n",
    "train_data = datasets.MNIST(root='./../data', train=True, transform=transform, download=True)\n",
    "test_data = datasets.MNIST(root='./../data', train=False, transform=transform, download=True)\n",
    "\n",
    "print(\"taille du dataset d'entrainement : \",len(train_data))\n",
    "print(\"taille d'une image : \",train_data[0][0].numpy().shape) \n",
    "\n",
    "train_loader = DataLoader(dataset=train_data, batch_size=64, shuffle=True)\n",
    "test_loader = DataLoader(dataset=test_data, batch_size=64, shuffle=False)"
   ]
  },
  {
   "cell_type": "code",
   "execution_count": 19,
   "metadata": {},
   "outputs": [
    {
     "data": {
      "image/png": "[encoded data removed]",
      "text/plain": [
       "<Figure size 1000x1000 with 5 Axes>"
      ]
     },
     "metadata": {},
     "output_type": "display_data"
    }
   ],
   "source": [
    "# Visualisons quelques images\n",
    "plt.figure(figsize=(10, 10))\n",
    "for i in range(5):\n",
    "  plt.subplot(1, 5, i+1)\n",
    "  plt.imshow(train_data[i][0].squeeze(), cmap='gray')\n",
    "  plt.axis('off')\n",
    "  plt.title(train_data[i][1])"
   ]
  },
  {
   "cell_type": "markdown",
   "metadata": {},
   "source": [
    "## Création de notre modèle"
   ]
  },
  {
   "cell_type": "markdown",
   "metadata": {},
   "source": [
    "On peut maintenant implémenter nos deux modèles. Commençons par regarder les spécificités d'architecture décrites dans la papier. \n",
    "\n",
    "<img src=\"images/dcgan_arch.png\" alt=\"dcgan_arch\" width=\"800\"/>\n",
    "\n",
    "A partir de ces informations et de la figure du papier (voir plus haut dans le notebook), on peut construire notre modèle générateur. Comme on travaille sur des images de taille $28 \\times 28$ au lieu de $64 \\times 64$ dans le papier, on va faire une architecture plus réduite.\n",
    "\n",
    "**Note** : Dans le papier, les auteurs disent utiliser des *fractional-strided convolutions*. Il s'agit en fait de convolutions transposées et le terme *fractional-strided convolutions* n'est plus vraiment utilisé de nos jours."
   ]
  },
  {
   "cell_type": "code",
   "execution_count": 24,
   "metadata": {},
   "outputs": [
    {
     "name": "stdout",
     "output_type": "stream",
     "text": [
      "torch.Size([64, 1, 32, 32])\n"
     ]
    }
   ],
   "source": [
    "def convT_bn_relu(in_channels, out_channels, kernel_size, stride, padding):\n",
    "  return nn.Sequential(\n",
    "    nn.ConvTranspose2d(in_channels, out_channels, kernel_size, stride, padding,bias=False),\n",
    "    nn.BatchNorm2d(out_channels),\n",
    "    nn.ReLU()\n",
    "  )\n",
    "\n",
    "class generator(nn.Module):\n",
    "  def __init__(self, z_dim=100,features_g=64):\n",
    "    super(generator, self).__init__()\n",
    "    self.gen = nn.Sequential(\n",
    "      convT_bn_relu(z_dim, features_g*8, kernel_size=4, stride=1, padding=0),\n",
    "      convT_bn_relu(features_g*8, features_g*4, kernel_size=4, stride=2, padding=1),\n",
    "      convT_bn_relu(features_g*4, features_g*2, kernel_size=4, stride=2, padding=1),\n",
    "      nn.ConvTranspose2d(features_g*2, 1, kernel_size=4, stride=2, padding=1),\n",
    "      nn.Tanh()\n",
    "    )\n",
    "  def forward(self, x):\n",
    "    return self.gen(x)\n",
    "  \n",
    "z= torch.randn(64,100,1,1)\n",
    "gen = generator()\n",
    "img = gen(z)\n",
    "print(img.shape)"
   ]
  },
  {
   "cell_type": "markdown",
   "metadata": {},
   "source": [
    "Le papier ne décrit pas directement l'architecture du discriminateur. Nous allons globalement reprendre l'architecture du générateur mais dans l'autre sens. "
   ]
  },
  {
   "cell_type": "code",
   "execution_count": 30,
   "metadata": {},
   "outputs": [
    {
     "name": "stdout",
     "output_type": "stream",
     "text": [
      "torch.Size([64, 1, 1, 1])\n"
     ]
    }
   ],
   "source": [
    "def conv_bn_lrelu(in_channels, out_channels, kernel_size, stride, padding):\n",
    "  return nn.Sequential(\n",
    "    nn.Conv2d(in_channels, out_channels, kernel_size, stride, padding,bias=False),\n",
    "    nn.BatchNorm2d(out_channels),\n",
    "    nn.LeakyReLU()\n",
    "  )\n",
    "\n",
    "class discriminator(nn.Module):\n",
    "  def __init__(self, features_d=64) -> None:\n",
    "    super().__init__()\n",
    "    self.discr = nn.Sequential(\n",
    "      conv_bn_lrelu(1, features_d, kernel_size=3, stride=2, padding=1),\n",
    "      conv_bn_lrelu(features_d, features_d*2, kernel_size=3, stride=2, padding=1),\n",
    "      conv_bn_lrelu(features_d*2, features_d*4, kernel_size=3, stride=2, padding=1),\n",
    "      nn.Conv2d(256, 1, kernel_size=3, stride=2, padding=0),\n",
    "      nn.Sigmoid()\n",
    "    )\n",
    "    \n",
    "  def forward(self, x):\n",
    "    return self.discr(x)\n",
    "dummy = torch.randn(64,1,32,32)\n",
    "disc = discriminator()\n",
    "out = disc(dummy)\n",
    "print(out.shape)\n"
   ]
  },
  {
   "cell_type": "markdown",
   "metadata": {},
   "source": [
    "## Entrainement du modèle"
   ]
  },
  {
   "cell_type": "markdown",
   "metadata": {},
   "source": [
    "Il est temps de passer aux choses sérieuses. La boucle d'entraînement d'un GAN est bien plus complexe que les boucles d'entraînements des modèles que nous avons vu jusqu'à présent.   \n",
    "Commençons par définir nos hyperparamètres d'entraînement et par initialiser nos modèles :  "
   ]
  },
  {
   "cell_type": "code",
   "execution_count": 31,
   "metadata": {},
   "outputs": [],
   "source": [
    "epochs = 10\n",
    "lr=0.001\n",
    "z_dim = 100\n",
    "features_d = 64\n",
    "features_g = 64\n",
    "\n",
    "device = torch.device('cuda' if torch.cuda.is_available() else 'cpu')\n",
    "gen = generator(z_dim, features_g).to(device)\n",
    "disc = discriminator(features_d).to(device)\n",
    "\n",
    "opt_gen = torch.optim.Adam(gen.parameters(), lr=lr)\n",
    "opt_disc = torch.optim.Adam(disc.parameters(), lr=lr)\n",
    "criterion = nn.BCELoss()\n"
   ]
  },
  {
   "cell_type": "markdown",
   "metadata": {},
   "source": [
    "Nous allons également créer un bruit *fixed_noise* pour évaluer visuellement notre modèle à chaque étape d'entraînement. "
   ]
  },
  {
   "cell_type": "code",
   "execution_count": 32,
   "metadata": {},
   "outputs": [],
   "source": [
    "fixed_noise = torch.randn(64, z_dim, 1, 1, device=device)"
   ]
  },
  {
   "cell_type": "markdown",
   "metadata": {},
   "source": [
    "Avant de consttuire notre boucle d'entraînement, récapitulons les étapes que nous devons faire : \n",
    "- On commence par récuperer *batch_size* éléments du dataset d'entraînement et on prédit les labels avec notre discriminateur\n",
    "- Ensuite, on génére *batch_size* éléments avec notre générateur et on prédit les labels\n",
    "- On va ensuite mettre à jour les poids du modèle discriminateur à partir des deux *loss*\n",
    "- On va ensuite à nouveau prédire les labels des données générées (car on a mis à jour le discriminateur entre temps)\n",
    "- A partir de ces valeurs, on calcule le *loss* et on met à jour notre générateur"
   ]
  },
  {
   "cell_type": "markdown",
   "metadata": {},
   "source": []
  }
 ],
 "metadata": {
  "kernelspec": {
   "display_name": "dev",
   "language": "python",
   "name": "python3"
  },
  "language_info": {
   "codemirror_mode": {
    "name": "ipython",
    "version": 3
   },
   "file_extension": ".py",
   "mimetype": "text/x-python",
   "name": "python",
   "nbconvert_exporter": "python",
   "pygments_lexer": "ipython3",
   "version": "3.11.8"
  }
 },
 "nbformat": 4,
 "nbformat_minor": 2
}
