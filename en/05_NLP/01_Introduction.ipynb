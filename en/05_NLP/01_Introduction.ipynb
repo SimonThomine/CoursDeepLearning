{
 "cells": [
  {
   "cell_type": "markdown",
   "metadata": {},
   "source": [
    "# Introduction to NLP\n"
   ]
  },
  {
   "cell_type": "markdown",
   "metadata": {},
   "source": [
    "## What is NLP?\n"
   ]
  },
  {
   "cell_type": "markdown",
   "metadata": {},
   "source": [
    "NLP, or Natural Language Processing, is a key field in machine learning. It encompasses various text-related tasks such as translation, text comprehension, question/answer systems, and many others.\n",
    "\n",
    "![NLP](./images/applicationsNLP.png)\n",
    "\n",
    "*Figure from the [blog post](https://eastgate-software.com/top-8-applications-of-natural-language-processing-nlp/).*\n"
   ]
  },
  {
   "cell_type": "markdown",
   "metadata": {},
   "source": [
    "NLP stands out in deep learning as it processes discrete data, typically read from left to right.\n"
   ]
  },
  {
   "cell_type": "markdown",
   "metadata": {},
   "source": [
    "## Course Content\n"
   ]
  },
  {
   "cell_type": "markdown",
   "metadata": {},
   "source": [
    "This course primarily focuses on predicting the next token, starting with predicting the next character for simplicity. This problem is fundamental to language models (such as GPT, Llama, Gemini, etc.).\n",
    "\n",
    "The goal is to predict the next word based on the previous words, with a context that varies in size depending on the method and model's power. The context is defined by the number of tokens (or words) used for this prediction.\n",
    "\n",
    "*What is a token?* A token is an input element for the model. It can be a character, a group of characters, or a word, converted into a vector before being fed into the model.\n"
   ]
  },
  {
   "cell_type": "markdown",
   "metadata": {},
   "source": [
    "## Course Inspirations\n"
   ]
  },
  {
   "cell_type": "markdown",
   "metadata": {},
   "source": [
    "This course is largely inspired by the series of [videos by Andrej Karpathy](https://www.youtube.com/playlist?list=PLAqhIrjkxbuWI23v9cThsA9GvCAUhRvKZ) ([GitHub repository link](https://github.com/karpathy/nn-zero-to-hero)), particularly the \"building makemore\" lessons. Here, we offer a written and French version of these teachings. I encourage you to watch this video series, which is one of the best courses on language models available today (and free).\n"
   ]
  },
  {
   "cell_type": "markdown",
   "metadata": {},
   "source": [
    "We will structure this course into several notebooks, with models of increasing difficulty. The idea is to understand the limitations of each model before moving on to a more complex one.\n",
    "\n",
    "Here is the course outline:\n",
    "- Course 1: Bigram (classical method and neural networks)\n",
    "- Course 2: Next word prediction with a fully connected network\n",
    "- Course 3: WaveNet (hierarchical architecture)\n",
    "- Course 4: RNN (recurrent neural networks with sequential architecture)\n",
    "- Course 5: LSTM (improved recurrent network)\n",
    "\n",
    "*Note*: The [Course 7](https://github.com/SimonThomine/CoursDeepLearning/tree/main/07_Transformers) on transformers addresses the same problem of generating the next character, but with a transformer architecture and a more complex dataset.\n"
   ]
  },
  {
   "cell_type": "markdown",
   "metadata": {},
   "source": [
    "*Note*: The [Course 7](https://github.com/SimonThomine/CoursDeepLearning/tree/main/07_Transformers) on transformers addresses the same problem of generating the next character, but with a transformer architecture and a more complex dataset.\n"
   ]
  },
  {
   "cell_type": "markdown",
   "metadata": {},
   "source": [
    "## Retrieving the prenom.txt dataset\n"
   ]
  },
  {
   "cell_type": "markdown",
   "metadata": {},
   "source": [
    "In this course, we use a dataset of names containing approximately 30,000 of the most common names in France since 1900 (INSEE data). The `prenoms.txt` file is already present in the folder, so it is not necessary to run the code below. If you wish to do so, you must first download the `nat2022.csv` file from the [INSEE website](https://www.insee.fr/fr/statistiques/7633685?sommaire=7635552).\n"
   ]
  },
  {
   "cell_type": "code",
   "execution_count": 13,
   "metadata": {},
   "outputs": [],
   "source": [
    "import pandas as pd\n",
    "\n",
    "# Chargement du fichier CSV\n",
    "df = pd.read_csv('nat2022.csv', sep=';')\n",
    "\n",
    "# On enlève la catégorie '_PRENOMS_RARES' qui regroupe les prénoms peu fréquents\n",
    "df_filtered = df[df['preusuel'] != '_PRENOMS_RARES']\n",
    "\n",
    "# Pour compter, on fait la somme des nombres de naissances pour chaque prénom\n",
    "df_grouped = df_filtered.groupby('preusuel', as_index=False)['nombre'].sum()\n",
    "\n",
    "# On va trier les prénoms par popularité\n",
    "df_sorted = df_grouped.sort_values(by='nombre', ascending=False)\n",
    "\n",
    "# On extrait les 30 000 prénoms les plus populaires\n",
    "top_prenoms = df_sorted['preusuel'].head(30000).values\n",
    "\n",
    "with open('prenoms.txt', 'w', encoding='utf-8') as file:\n",
    "  for prenom in top_prenoms:\n",
    "    file.write(f\"{prenom}\\n\")\n"
   ]
  },
  {
   "cell_type": "markdown",
   "metadata": {},
   "source": [
    "In the next notebook, we will start by analyzing the dataset (distinct characters, etc.).\n"
   ]
  }
 ],
 "metadata": {
  "kernelspec": {
   "display_name": "Python 3",
   "language": "python",
   "name": "python3"
  },
  "language_info": {
   "codemirror_mode": {
    "name": "ipython",
    "version": 3
   },
   "file_extension": ".py",
   "mimetype": "text/x-python",
   "name": "python",
   "nbconvert_exporter": "python",
   "pygments_lexer": "ipython3",
   "version": "3.11.9"
  }
 },
 "nbformat": 4,
 "nbformat_minor": 2
}
