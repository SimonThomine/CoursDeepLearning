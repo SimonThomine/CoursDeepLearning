{
 "cells": [
  {
   "cell_type": "markdown",
   "metadata": {},
   "source": [
    "# Model Evaluation Metrics\n"
   ]
  },
  {
   "cell_type": "markdown",
   "metadata": {},
   "source": [
    "Evaluation is a key step in training a model. So far, we have mainly used the test loss or basic metrics like precision. Depending on the problem to solve, different metrics allow evaluating various aspects of the model. This course presents several metrics to use as needed.\n"
   ]
  },
  {
   "cell_type": "markdown",
   "metadata": {},
   "source": [
    "## Metrics for Classification\n"
   ]
  },
  {
   "cell_type": "markdown",
   "metadata": {},
   "source": [
    "### Confusion Matrix\n"
   ]
  },
  {
   "cell_type": "markdown",
   "metadata": {},
   "source": [
    "In binary classification, you can visualize the model's predictions as follows:\n",
    "![Classification](./images/classi.png)\n",
    "*Source: [Wikipedia](https://en.wikipedia.org/wiki/Precision_and_recall)*\n"
   ]
  },
  {
   "cell_type": "markdown",
   "metadata": {},
   "source": [
    "Here are the basic terms:\n",
    "- **False positive (fp)**: An element classified as positive when it is actually negative.\n",
    "- **True positive (vp)**: An element classified as positive and actually positive.\n",
    "- **False negative (fn)**: An element classified as negative when it is actually positive.\n",
    "- **True negative (vn)**: An element classified as negative and actually negative.\n",
    "These concepts can be represented in a confusion matrix:\n",
    "![Confusion](./images/confusion.png)\n",
    "*Note:* For multi-class classification, the confusion matrix helps identify confusions between classes.\n"
   ]
  },
  {
   "cell_type": "markdown",
   "metadata": {},
   "source": [
    "### Precision, Recall, and Specificity\n"
   ]
  },
  {
   "cell_type": "markdown",
   "metadata": {},
   "source": [
    "From the confusion matrix, you can calculate several metrics:\n",
    "- **Precision**: $Precision=\\frac{vp}{vp+fp}$. Proportion of positive elements correctly classified among all those classified as positive.\n",
    "- **Recall (or sensitivity)**: $Recall=\\frac{vp}{vp+fn}$. Proportion of positive elements correctly classified among all positive elements.\n",
    "- **Specificity (or selectivity)**: $Specificity=\\frac{vn}{vn+fp}$. Proportion of negative elements correctly classified among all negative elements.\n"
   ]
  },
  {
   "cell_type": "markdown",
   "metadata": {},
   "source": [
    "### Accuracy\n"
   ]
  },
  {
   "cell_type": "markdown",
   "metadata": {},
   "source": [
    "*Accuracy* (note: do not confuse with precision) measures the number of correct predictions out of the total predictions. Its formula is:\n",
    "$Accuracy=\\frac{vp+vn}{vp+vn+fp+fn}$\n",
    "*Note:* Use with caution in case of class imbalance.\n"
   ]
  },
  {
   "cell_type": "markdown",
   "metadata": {},
   "source": [
    "### F1-Score\n"
   ]
  },
  {
   "cell_type": "markdown",
   "metadata": {},
   "source": [
    "The F1-score is a commonly used metric. It is the harmonic mean between precision and recall:\n",
    "$F1=2 \\times \\frac{precision \\times recall}{precision + recall}$\n",
    "If precision and recall are close, the F1-score is close to their average.\n"
   ]
  },
  {
   "cell_type": "markdown",
   "metadata": {},
   "source": [
    "### ROC Curve\n"
   ]
  },
  {
   "cell_type": "markdown",
   "metadata": {},
   "source": [
    "The ROC (Receiver Operating Characteristic) curve shows the performance of a binary classification model at different thresholds. It includes:\n",
    "- **X-axis**: False positive rate ($1-specificity$). Proportion of negative elements incorrectly classified as positive.\n",
    "- **Y-axis**: True positive rate ($recall$). Proportion of positive elements correctly classified.\n",
    "Each point on the curve corresponds to a different decision threshold.\n",
    "![ROC](./images/roc.png)\n",
    "*Source: [Blogpost](https://sefiks.com/2020/12/10/a-gentle-introduction-to-roc-curve-and-auc/)*\n",
    "To evaluate a model, calculate the area under the curve (AUROC):\n",
    "- Random classifier: AUROC = 0.5\n",
    "- Perfect classifier: AUROC = 1\n"
   ]
  },
  {
   "cell_type": "markdown",
   "metadata": {},
   "source": [
    "### Log Loss\n"
   ]
  },
  {
   "cell_type": "markdown",
   "metadata": {},
   "source": [
    "You can simply use the *loss* value on the test data as a metric. Since the *loss* reflects the objective, this can be sufficient in many cases.\n"
   ]
  },
  {
   "cell_type": "markdown",
   "metadata": {},
   "source": [
    "## Metrics for Regression and Autoencoders\n"
   ]
  },
  {
   "cell_type": "markdown",
   "metadata": {},
   "source": [
    "### Mean Absolute Error (MAE)\n"
   ]
  },
  {
   "cell_type": "markdown",
   "metadata": {},
   "source": [
    "For regression models or autoencoders, predictions are compared to actual values by calculating a distance. The MAE (Mean Absolute Error) is the average of absolute errors:\n",
    "$\\text{MAE} = \\frac{1}{n} \\sum_{i=1}^{n} \\left| y_i - \\hat{y}_i \\right|$\n"
   ]
  },
  {
   "cell_type": "markdown",
   "metadata": {},
   "source": [
    "### Mean Squared Error (MSE)\n"
   ]
  },
  {
   "cell_type": "markdown",
   "metadata": {},
   "source": [
    "The MSE (Mean Squared Error) is often used, which is the average of the squared errors:\n",
    "$\\text{MSE} = \\frac{1}{n} \\sum_{i=1}^{n} \\left( y_i - \\hat{y}_i \\right)^2$\n"
   ]
  },
  {
   "cell_type": "markdown",
   "metadata": {},
   "source": [
    "## Metrics for Detection and Segmentation\n"
   ]
  },
  {
   "cell_type": "markdown",
   "metadata": {},
   "source": [
    "### AP and mAP\n"
   ]
  },
  {
   "cell_type": "markdown",
   "metadata": {},
   "source": [
    "In detection, you cannot just evaluate precision. You need to consider different recall thresholds for a relevant evaluation. The *average precision* (AP) is calculated as follows:\n",
    "$\\text{AP} = \\int_{0}^{1} \\text{Precision}(r) \\, \\text{d}r$\n",
    "Or discretely:\n",
    "$\\text{AP} = \\sum_{k=1}^{K} \\text{Precision}(r_k) \\cdot (r_k - r_{k-1})$\n",
    "Where:\n",
    "- $\\text{Precision}(r)$: Precision at recall $r$\n",
    "- $K$: Number of recall evaluation points\n",
    "- $r_k$ and $r_{k-1}$: Recall at points $k$ and $k-1$\n"
   ]
  },
  {
   "cell_type": "markdown",
   "metadata": {},
   "source": [
    "The *mean average precision* (mAP) is the average of AP for all classes in a multi-class detection problem. It provides an overall evaluation of the model considering all classes.\n",
    "$\\text{mAP} = \\frac{1}{C} \\sum_{c=1}^{C} \\text{AP}_c$\n"
   ]
  },
  {
   "cell_type": "markdown",
   "metadata": {},
   "source": [
    "### Intersection Over Union (IoU)\n"
   ]
  },
  {
   "cell_type": "markdown",
   "metadata": {},
   "source": [
    "In detection and segmentation, IoU (Intersection Over Union) is a key metric. In detection, an IoU threshold is set below which a detection is considered invalid (not counted for mAP). In segmentation, IoU directly evaluates quality.\n",
    "$\\text{IoU} = \\frac{|\\text{Intersection}|}{|\\text{Union}|} = \\frac{|\\text{Prediction} \\cap \\text{Ground Truth}|}{|\\text{Prediction} \\cup \\text{Ground Truth}|}$\n",
    "*Note:* IoU penalizes small objects and rare classes. To reduce this bias, you can use the *dice coefficient*.\n"
   ]
  },
  {
   "cell_type": "markdown",
   "metadata": {},
   "source": [
    "### Dice Coefficient\n"
   ]
  },
  {
   "cell_type": "markdown",
   "metadata": {},
   "source": [
    "In segmentation, the *dice coefficient* is often used instead of IoU. Its formula is:\n",
    "$\\text{Dice} = \\frac{2 \\times |\\text{Prediction} \\cap \\text{Ground Truth}|}{|\\text{Prediction}| + |\\text{Ground Truth}|}$\n",
    "The *dice coefficient* emphasizes the intersection between prediction and ground truth, giving more weight to common elements.\n"
   ]
  },
  {
   "cell_type": "markdown",
   "metadata": {},
   "source": [
    "## Evaluating Language Models\n"
   ]
  },
  {
   "cell_type": "markdown",
   "metadata": {},
   "source": [
    "Evaluating language models is complex. While you can use the test *loss*, it does not provide a precise idea of real performance. Several methods and benchmarks exist to evaluate these models based on different criteria.\n",
    "*Sources:*\n",
    "- [Blogpost on evaluation metrics](https://www.confident-ai.com/blog/llm-evaluation-metrics-everything-you-need-for-llm-evaluation)\n",
    "- [LLM leaderboard on Hugging Face](https://huggingface.co/spaces/open-llm-leaderboard/open_llm_leaderboard)\n"
   ]
  },
  {
   "cell_type": "markdown",
   "metadata": {},
   "source": [
    "## Evaluating Image Generation Models\n"
   ]
  },
  {
   "cell_type": "markdown",
   "metadata": {},
   "source": [
    "Evaluating image generation models is complex. Human evaluation is often needed to judge the quality of generated images.\n",
    "*Source:* [Blogpost on evaluating generative models](https://dagshub.com/blog/how-to-evaluate-generative-image-models/)\n"
   ]
  }
 ],
 "metadata": {
  "language_info": {
   "name": "python"
  }
 },
 "nbformat": 4,
 "nbformat_minor": 2
}
