{
 "cells": [
  {
   "cell_type": "markdown",
   "metadata": {},
   "source": [
    "# Diffusion Models\n"
   ]
  },
  {
   "cell_type": "markdown",
   "metadata": {},
   "source": [
    "In this course, we introduce diffusion models, also known as *diffusion models*. These models were introduced in 2020 in the paper *Denoising Diffusion Probabilistic Models*. Since then, they have been widely used for image generation, and very effectively. They are powerful and easy to guide, but they have a major drawback: they are very slow.\n",
    "This course is inspired by the [CVPR 2022 Tutorial](https://cvpr2022-tutorial-diffusion-models.github.io/) and the [blogpost](https://medium.com/@gitau_am/a-friendly-introduction-to-denoising-diffusion-probabilistic-models-cc76b8abef25). The figures used in this notebook come from these two sources.\n"
   ]
  },
  {
   "cell_type": "markdown",
   "metadata": {},
   "source": [
    "## How Does It Work?\n"
   ]
  },
  {
   "cell_type": "markdown",
   "metadata": {},
   "source": [
    "Diffusion models work in two main steps: adding noise (diffusion process) and removing noise (reverse process or denoising process). Both steps are iterative, meaning noise is added and removed gradually.\n"
   ]
  },
  {
   "cell_type": "markdown",
   "metadata": {},
   "source": [
    "### First Step: The Diffusion Process\n"
   ]
  },
  {
   "cell_type": "markdown",
   "metadata": {},
   "source": [
    "The first step of a diffusion model involves taking an image from a dataset. This dataset is represented by a complex probability distribution. The diffusion process iteratively adds Gaussian noise to the image to gradually reduce its complexity until a simple Gaussian distribution is obtained.\n",
    "The following figure shows the diffusion process:\n",
    "![Diffusion DDPM](./images/diffusion_ddpm.png)\n",
    "You can see how the distribution evolves (becoming less and less complex):\n",
    "![Distribution DDPM](./images/distrib_ddpm.png)\n",
    "The diffusion process progressively destroys the structure of the input image.\n"
   ]
  },
  {
   "cell_type": "markdown",
   "metadata": {},
   "source": [
    "The diffusion process occurs in multiple steps called *diffusion steps*. At each step, a predetermined amount of Gaussian noise is added to the image. The more steps there are, the less noise is added each time. In practice, the more steps there are, the more stable the model becomes and the higher the quality of the generated images, but this increases computation time. Often, a large number of steps is chosen (1000 in the original paper).\n"
   ]
  },
  {
   "cell_type": "markdown",
   "metadata": {},
   "source": [
    "### Second Step: The Reverse Process\n"
   ]
  },
  {
   "cell_type": "markdown",
   "metadata": {},
   "source": [
    "But what is the point of adding noise to an image?\n",
    "In fact, the diffusion process generates training data for the reverse process.\n",
    "The idea of the reverse process is to learn how to go from the Gaussian distribution (obtained through diffusion) back to the original images. We want to recover the image from the Gaussian noise of the last step of the diffusion process. Thus, we can also generate new images from a sample of the Gaussian distribution.\n",
    "**Note**: There is some similarity with *normalizing flows* or *variational autoencoders*.\n",
    "![Reverse DDPM](./images/reverse_ddpm.png)\n",
    "For each denoising step, a neural network is used that takes as input the image at step $t$ and the diffusion step $t$ and aims to predict the Gaussian noise ($\\mu$ and $\\sigma^2$) added to the image during the step $t-1 \\Rightarrow t$.\n",
    "**Note**: Predicting the noise actually allows us to predict the image at step $t-1$.\n",
    "**Note 2**: The same network is used at each step; there is not a different network for each diffusion step.\n"
   ]
  },
  {
   "cell_type": "markdown",
   "metadata": {},
   "source": [
    "The model used is generally a U-Net. To learn more about the U-Net architecture, you can refer to [Course 3 on Convolutional Networks](../03_RéseauConvolutifs/06_ApplicationSegmentation.ipynb). In practice, for very powerful models (like Stable Diffusion), a variant of the U-Net incorporating the transformer architecture is used.\n",
    "![U-Net DDPM](./images/unet_ddpm.png)\n"
   ]
  },
  {
   "cell_type": "markdown",
   "metadata": {},
   "source": [
    "### Are Diffusion Models Hierarchical VAEs?\n"
   ]
  },
  {
   "cell_type": "markdown",
   "metadata": {},
   "source": [
    "As mentioned earlier, diffusion models can be seen as VAEs or *normalizing flows*.\n",
    "Let's look at the possible analogy with a VAE, and more specifically a *hierarchical* VAE. A *hierarchical* VAE is a VAE with multiple steps of image generation (*decoder*).\n",
    "For our *diffusion model*, the *diffusion process* would correspond to the *encoder* of the VAE, while the *reverse process* would correspond to the multiple hierarchical steps of the VAE.\n",
    "In practice, there are a few notable differences:\n",
    "- The *encoder* is fixed (non-trainable) for the diffusion model; it is simply the addition of noise.\n",
    "- The latent space has the same dimension as the input image (which is not the case for a VAE).\n",
    "- The model used for *diffusion* is the same at each *diffusion* step. For a *hierarchical VAE*, a different model is used at each step.\n",
    "The same kind of analogy can be made with a *normalizing flow*. I invite you to consult the [CVPR 2022 Tutorial](https://cvpr2022-tutorial-diffusion-models.github.io/) to learn more.\n"
   ]
  },
  {
   "cell_type": "markdown",
   "metadata": {},
   "source": [
    "## Main Problem with Diffusion Models\n"
   ]
  },
  {
   "cell_type": "markdown",
   "metadata": {},
   "source": [
    "As explained earlier, the diffusion and denoising processes benefit from a large number of steps. Each denoising step requires a *forward* pass of the U-Net network. If there are 1000 diffusion steps, the network must be called 1000 times to generate a single image.\n",
    "The problem with diffusion models is immediately apparent: they are very, very slow.\n",
    "![Generative Trilemma](./images/generative_trilemma.png)\n",
    "Figure extracted from the [article](https://arxiv.org/pdf/2112.07804).\n"
   ]
  },
  {
   "cell_type": "markdown",
   "metadata": {},
   "source": [
    "Diffusion models are much more powerful than GANs, VAEs, and *normalizing flows* for image generation. Therefore, these are the models we would like to use first.\n",
    "It is therefore necessary to find methods to accelerate these diffusion models through various techniques. This course does not detail the existing techniques to accelerate these models, but the [CVPR 2022 Tutorial](https://cvpr2022-tutorial-diffusion-models.github.io/) covers the subject very well (even though new techniques have been introduced since then).\n",
    "For information, high-quality images can now be generated in about ten steps (compared to 1000 before).\n"
   ]
  },
  {
   "cell_type": "markdown",
   "metadata": {},
   "source": [
    "Diffusion models are a major research topic right now, and there are still many problems to solve.\n",
    "Here are a few of them:\n",
    "- Why are *diffusion models* so much more effective than VAEs and *normalizing flows*? Should we redirect research efforts to these alternatives now that we have learned a lot about *diffusion*?\n",
    "- Is it possible to reduce the process to a single step to generate images?\n",
    "- Can the *diffusion* architecture help with discriminative applications?\n",
    "- Is the U-Net architecture really the best choice for *diffusion*?\n",
    "- Can *diffusion models* be applied to other types of data (such as text, for example)?\n"
   ]
  }
 ],
 "metadata": {
  "language_info": {
   "name": "python"
  }
 },
 "nbformat": 4,
 "nbformat_minor": 2
}
