{
 "cells": [
  {
   "cell_type": "markdown",
   "metadata": {},
   "source": [
    "# Autoencodeurs variationnels\n"
   ]
  },
  {
   "cell_type": "markdown",
   "metadata": {},
   "source": [
    "Dans ce cours, on te présente les autoencodeurs variationnels, aussi appelés *variational autoencoders* (VAE). On commence par un petit rappel du [cours 4 sur les autoencodeurs](../04_Autoencodeurs/README.md), puis on introduit l'utilisation des VAE comme modèle génératif. Ce cours s'inspire d'un [blogpost](https://towardsdatascience.com/understanding-variational-autoencoders-vaes-f70510919f73) et ne rentre pas dans les détails maths du fonctionnement du VAE.\n",
    "Les figures utilisées dans ce notebook viennent aussi du [blogpost](https://towardsdatascience.com/understanding-variational-autoencoders-vaes-f70510919f73).\n"
   ]
  },
  {
   "cell_type": "markdown",
   "metadata": {},
   "source": [
    "## Rappel sur les autoencodeurs\n"
   ]
  },
  {
   "cell_type": "markdown",
   "metadata": {},
   "source": [
    "Un autoencodeur, c'est un réseau de neurones en forme de sablier. Il est composé d'un encodeur qui encode l'info dans un espace latent de dimension réduite et d'un décodeur qui reconstruit la donnée initiale à partir de la représentation latente.\n",
    "\n",
    "![AE](./images/AEbase.png)\n"
   ]
  },
  {
   "cell_type": "markdown",
   "metadata": {},
   "source": [
    "Les autoencodeurs peuvent servir à plein de choses, mais leur rôle de base, c'est la compression de données. C'est une méthode de compression qui utilise l'optimisation par descente de gradient.\n"
   ]
  },
  {
   "cell_type": "markdown",
   "metadata": {},
   "source": [
    "## Intuition\n"
   ]
  },
  {
   "cell_type": "markdown",
   "metadata": {},
   "source": [
    "Imagine que l'espace latent de notre décodeur est régulier (représenté par une distribution de probabilité connue). Dans ce cas, on pourrait *sampler* un élément aléatoire de cette distribution pour générer une nouvelle donnée. En pratique, dans un autoencodeur classique, la représentation latente n'est pas régulière, donc impossible à utiliser pour générer des données.\n",
    "\n",
    "En y réfléchissant, c'est logique. La fonction de *loss* de l'autoencodeur se base uniquement sur la qualité de la reconstruction et n'impose aucune contrainte sur la forme de l'espace latent.\n",
    "\n",
    "Du coup, on aimerait bien imposer la forme de l'espace latent de notre autoencodeur pour générer des nouvelles données à partir de cet espace latent.\n"
   ]
  },
  {
   "cell_type": "markdown",
   "metadata": {},
   "source": [
    "## Autoencodeur variationnel\n"
   ]
  },
  {
   "cell_type": "markdown",
   "metadata": {},
   "source": [
    "Un *variational autoencoder* (VAE), c'est un autoencodeur contraint à avoir un espace latent qui permet de générer des données. Il a un entraînement régulé pour cet objectif.\n",
    "\n",
    "L'idée, c'est d'encoder notre *input* en une distribution de données au lieu d'une simple valeur (comme dans un AE). En pratique, notre encodeur va prédire deux valeurs représentant une distribution normale : la moyenne $\\mu$ et la variance $\\sigma^2$.\n",
    "\n",
    "Le VAE fonctionne comme ça pendant l'entraînement :\n",
    "- L'encodeur encode l'*input* en une distribution de probabilité en prédisant $\\mu$ et $\\sigma^2$.\n",
    "- Une valeur est *sampled* à partir de la distribution gaussienne décrite par $\\mu$ et $\\sigma^2$.\n",
    "- Le décodeur reconstruit la donnée à partir de la valeur *sampled*.\n",
    "- On applique la backpropagation pour mettre à jour les poids.\n",
    "\n",
    "![VAE](./images/VAE.png)\n"
   ]
  },
  {
   "cell_type": "markdown",
   "metadata": {},
   "source": [
    "Pour garantir que l'entraînement fait bien ce qu'on veut, il faut ajouter un terme à la fonction de *loss* : la [divergence de Kullback-Leibler](https://fr.wikipedia.org/wiki/Divergence_de_Kullback-Leibler). Ce terme permet de pousser la distribution à être une distribution centrée réduite.\n"
   ]
  },
  {
   "cell_type": "markdown",
   "metadata": {},
   "source": [
    "Pour avoir une génération de données cohérentes, il y a deux choses à prendre en compte :\n",
    "- La continuité : Des points proches dans l'espace latent vont produire des données proches dans l'espace de sortie.\n",
    "- La complétude : Les points décodés doivent avoir du sens dans l'espace de sortie.\n"
   ]
  },
  {
   "cell_type": "markdown",
   "metadata": {},
   "source": [
    "La divergence de Kullback-Leibler permet de garantir ces deux propriétés. Si on se contentait du *loss* de reconstruction, le VAE pourrait se comporter comme un AE en prédisant des variances presque nulles (ce qui serait presque équivalent à un point, comme ce qu'on prédit avec un encodeur d'un AE).\n",
    "\n",
    "La divergence de Kullback-Leibler encourage les distributions de l'espace latent à être proches les unes des autres. Ça permet de générer des données toujours cohérentes quand on *sample*.\n",
    "\n",
    "![Regularization](./images/regu.png)\n",
    "\n",
    "**Note** : Il y a un aspect théorique important derrière les *Variational autoencoders*, mais on ne va pas rentrer dans les détails dans ce cours. Pour en apprendre plus, vous pouvez vous référer au cours CS236 de Stanford et en particulier à ce [lien](https://deepgenerativemodels.github.io/notes/vae/).\n"
   ]
  }
 ],
 "metadata": {
  "language_info": {
   "name": "python"
  }
 },
 "nbformat": 4,
 "nbformat_minor": 2
}
