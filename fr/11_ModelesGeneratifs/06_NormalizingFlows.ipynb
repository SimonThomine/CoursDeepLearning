{
 "cells": [
  {
   "cell_type": "markdown",
   "metadata": {},
   "source": [
    "# Normalizing flow\n"
   ]
  },
  {
   "cell_type": "markdown",
   "metadata": {},
   "source": [
    "Dans ce cours, on te présente les flux de normalisation, des modèles génératifs de *representation learning*. Moins connus que les VAE, GAN ou modèles de diffusion, ils ont quand même pas mal d'avantages.\n",
    "\n",
    "Les GAN et les VAE ne peuvent pas évaluer précisément la distribution de probabilité. Les GAN ne le font pas du tout, tandis que les VAE utilisent la [ELBO](https://deepgenerativemodels.github.io/notes/vae/). Cela pose problème pendant l'entraînement : les VAE génèrent souvent des images floues, et les GAN peuvent tomber dans le *mode collapse*.\n",
    "\n",
    "Les flux de normalisation offrent une solution à ces problèmes.\n"
   ]
  },
  {
   "cell_type": "markdown",
   "metadata": {},
   "source": [
    "## Comment ça fonctionne ?\n"
   ]
  },
  {
   "cell_type": "markdown",
   "metadata": {},
   "source": [
    "Un flux de normalisation, c'est une série de transformations bijectives. On les utilise pour modéliser des distributions complexes, comme celles des images, en les transformant en une distribution simple, comme une gaussienne centrée réduite.\n",
    "\n",
    "Pour les entraîner, on maximise la vraisemblance des données. En gros, on minimise le *negative log-likelihood* par rapport à la densité de probabilité réelle des données. En ajustant les paramètres des transformations, on fait en sorte que la distribution générée par le flux soit la plus proche possible de la distribution cible.\n",
    "\n",
    "![NFlow](./images/NFlow.png)\n",
    "\n",
    "Figure extraite de [blogpost](https://towardsdatascience.com/introduction-to-normalizing-flows-d002af262a4b).\n"
   ]
  },
  {
   "cell_type": "markdown",
   "metadata": {},
   "source": [
    "## Avantages et inconvénients\n"
   ]
  },
  {
   "cell_type": "markdown",
   "metadata": {},
   "source": [
    "Voici les principaux avantages des flux de normalisation :\n",
    "- Leur entraînement est très stable\n",
    "- Ils convergent plus facilement que les GAN ou les VAE\n",
    "- Pas besoin de générer du bruit pour créer des données\n",
    "\n",
    "Mais il y a aussi des inconvénients :\n",
    "- Ils sont moins expressifs que les GAN ou les VAE\n",
    "- L'espace latent est limité par la nécessité de fonctions bijectives et de préservation du volume. Du coup, il est difficile à interpréter car il est de grande dimension.\n",
    "- Les résultats générés sont souvent moins bons que ceux des GAN ou des VAE.\n"
   ]
  },
  {
   "cell_type": "markdown",
   "metadata": {},
   "source": [
    "**Note** : Il y a un aspect théorique important derrière les flux de normalisation, mais on ne va pas entrer dans les détails ici. Si tu veux en savoir plus, tu peux consulter le cours CS236 de Stanford, notamment à cette [adresse](https://deepgenerativemodels.github.io/notes/flow/).\n"
   ]
  }
 ],
 "metadata": {
  "language_info": {
   "name": "python"
  }
 },
 "nbformat": 4,
 "nbformat_minor": 2
}
