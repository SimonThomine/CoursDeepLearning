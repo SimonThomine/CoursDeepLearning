{
 "cells": [
  {
   "cell_type": "markdown",
   "metadata": {},
   "source": [
    "# Métriques d'évaluation des modèles\n"
   ]
  },
  {
   "cell_type": "markdown",
   "metadata": {},
   "source": [
    "L'évaluation est une étape clé dans l'entraînement d'un modèle. Jusqu'à présent, on a surtout utilisé le *loss* de test ou des métriques basiques comme la précision. Selon le problème à résoudre, différentes métriques permettent d'évaluer divers aspects du modèle. Ce cours en présente plusieurs, à utiliser selon les besoins.\n"
   ]
  },
  {
   "cell_type": "markdown",
   "metadata": {},
   "source": [
    "## Métriques pour la classification\n"
   ]
  },
  {
   "cell_type": "markdown",
   "metadata": {},
   "source": [
    "### Matrice de confusion\n"
   ]
  },
  {
   "cell_type": "markdown",
   "metadata": {},
   "source": [
    "En classification binaire, on peut visualiser les prédictions du modèle ainsi :\n",
    "\n",
    "![Classification](./images/classi.png)\n",
    "\n",
    "*Source : [Wikipedia](https://en.wikipedia.org/wiki/Precision_and_recall)*\n"
   ]
  },
  {
   "cell_type": "markdown",
   "metadata": {},
   "source": [
    "Voici les termes de base :\n",
    "- **Faux positif (fp)** : Élément classé positif alors qu'il est négatif.\n",
    "- **Vrai positif (vp)** : Élément classé positif et effectivement positif.\n",
    "- **Faux négatif (fn)** : Élément classé négatif alors qu'il est positif.\n",
    "- **Vrai négatif (vn)** : Élément classé négatif et effectivement négatif.\n",
    "\n",
    "On peut représenter ces concepts dans une matrice de confusion :\n",
    "\n",
    "![Confusion](./images/confusion.png)\n",
    "\n",
    "*Note :* Pour une classification multi-classes, la matrice de confusion aide à identifier les confusions entre classes.\n"
   ]
  },
  {
   "cell_type": "markdown",
   "metadata": {},
   "source": [
    "### Précision, rappel et spécificité\n"
   ]
  },
  {
   "cell_type": "markdown",
   "metadata": {},
   "source": [
    "À partir de la matrice de confusion, on peut calculer plusieurs métriques :\n",
    "- **Précision** : $Précision=\\frac{vp}{vp+fp}$. Proportion d'éléments positifs correctement classifiés parmi tous ceux classés positifs.\n",
    "- **Rappel (ou sensibilité)** : $Rappel=\\frac{vp}{vp+fn}$. Proportion d'éléments positifs correctement classifiés parmi tous les éléments positifs.\n",
    "- **Spécificité (ou sélectivité)** : $Spécificité=\\frac{vn}{vn+fp}$. Proportion d'éléments négatifs correctement classifiés parmi tous les éléments négatifs.\n"
   ]
  },
  {
   "cell_type": "markdown",
   "metadata": {},
   "source": [
    "### Accuracy\n"
   ]
  },
  {
   "cell_type": "markdown",
   "metadata": {},
   "source": [
    "L'*accuracy* (attention, ne pas confondre avec la précision) mesure le nombre de prédictions correctes sur le total des prédictions. Sa formule est :\n",
    "$Accuracy=\\frac{vp+vn}{vp+vn+fp+fn}$\n",
    "\n",
    "*Note :* À utiliser avec prudence en cas de déséquilibre de classes (*class imbalance*).\n"
   ]
  },
  {
   "cell_type": "markdown",
   "metadata": {},
   "source": [
    "### F1-score\n"
   ]
  },
  {
   "cell_type": "markdown",
   "metadata": {},
   "source": [
    "Le F1-score est une métrique couramment utilisée. Il s'agit de la moyenne harmonique entre précision et rappel :\n",
    "$F1=2 \\times \\frac{précision \\times rappel}{précision + rappel}$\n",
    "\n",
    "Si précision et rappel sont proches, le F1-score est proche de leur moyenne.\n"
   ]
  },
  {
   "cell_type": "markdown",
   "metadata": {},
   "source": [
    "### Courbe ROC\n"
   ]
  },
  {
   "cell_type": "markdown",
   "metadata": {},
   "source": [
    "La courbe ROC (*Receiver Operating Characteristic*) montre les performances d'un modèle de classification binaire à différents seuils. Elle comprend :\n",
    "- **Axe des X** : Taux de faux positifs ($1-spécificité$). Proportion d'éléments négatifs mal classés en positifs.\n",
    "- **Axe des Y** : Taux de vrais positifs ($rappel$). Proportion d'éléments positifs bien classés.\n",
    "\n",
    "Chaque point de la courbe correspond à un seuil de décision différent.\n",
    "\n",
    "![ROC](./images/roc.png)\n",
    "\n",
    "*Source : [Blogpost](https://sefiks.com/2020/12/10/a-gentle-introduction-to-roc-curve-and-auc/)*\n",
    "\n",
    "Pour évaluer un modèle, on calcule l'aire sous la courbe (AUROC) :\n",
    "- Classifieur aléatoire : AUROC = 0.5\n",
    "- Classifieur parfait : AUROC = 1\n"
   ]
  },
  {
   "cell_type": "markdown",
   "metadata": {},
   "source": [
    "### Log loss\n"
   ]
  },
  {
   "cell_type": "markdown",
   "metadata": {},
   "source": [
    "On peut simplement utiliser la valeur du *loss* sur les données de test comme métrique. Comme le *loss* reflète l'objectif, cela peut suffire dans beaucoup de cas.\n"
   ]
  },
  {
   "cell_type": "markdown",
   "metadata": {},
   "source": [
    "## Métriques pour la régression et les autoencodeurs\n"
   ]
  },
  {
   "cell_type": "markdown",
   "metadata": {},
   "source": [
    "### Mean Absolute Error (MAE)\n"
   ]
  },
  {
   "cell_type": "markdown",
   "metadata": {},
   "source": [
    "Pour les modèles de régression ou les autoencodeurs, on compare les prédictions aux valeurs réelles en calculant une distance. La MAE (Mean Absolute Error) est la moyenne des erreurs absolues :\n",
    "$\\text{MAE} = \\frac{1}{n} \\sum_{i=1}^{n} \\left| y_i - \\hat{y}_i \\right|$\n"
   ]
  },
  {
   "cell_type": "markdown",
   "metadata": {},
   "source": [
    "### Mean Squared Error (MSE)\n"
   ]
  },
  {
   "cell_type": "markdown",
   "metadata": {},
   "source": [
    "On utilise souvent le MSE (Mean Squared Error), qui est la moyenne des carrés des erreurs :\n",
    "$\\text{MSE} = \\frac{1}{n} \\sum_{i=1}^{n} \\left( y_i - \\hat{y}_i \\right)^2$\n"
   ]
  },
  {
   "cell_type": "markdown",
   "metadata": {},
   "source": [
    "## Métriques pour la détection et la segmentation\n"
   ]
  },
  {
   "cell_type": "markdown",
   "metadata": {},
   "source": [
    "### AP et mAP\n"
   ]
  },
  {
   "cell_type": "markdown",
   "metadata": {},
   "source": [
    "En détection, on ne peut pas juste évaluer la précision. Il faut considérer différents seuils de rappel pour une évaluation pertinente. L'*average precision* (AP) se calcule ainsi :\n",
    "\n",
    "$\\text{AP} = \\int_{0}^{1} \\text{Precision}(r) \\, \\text{d}r$\n",
    "\n",
    "Ou de manière discrète :\n",
    "\n",
    "$\\text{AP} = \\sum_{k=1}^{K} \\text{Precision}(r_k) \\cdot (r_k - r_{k-1})$\n",
    "\n",
    "Où :\n",
    "- $\\text{Precision}(r)$ : Précision au rappel $r$\n",
    "- $K$ : Nombre de points d'évaluation du rappel\n",
    "- $r_k$ et $r_{k-1}$ : Rappels aux points $k$ et $k-1$\n"
   ]
  },
  {
   "cell_type": "markdown",
   "metadata": {},
   "source": [
    "La *mean average precision* (mAP) est la moyenne des AP pour toutes les classes dans un problème de détection multi-classes. Elle donne une évaluation globale du modèle en tenant compte de toutes les classes.\n",
    "\n",
    "$\\text{mAP} = \\frac{1}{C} \\sum_{c=1}^{C} \\text{AP}_c$\n"
   ]
  },
  {
   "cell_type": "markdown",
   "metadata": {},
   "source": [
    "### Intersection Over Union (IoU)\n"
   ]
  },
  {
   "cell_type": "markdown",
   "metadata": {},
   "source": [
    "En détection et segmentation, l'IoU (Intersection Over Union) est une métrique clé. En détection, on fixe un seuil d'IoU en dessous duquel une détection est considérée comme invalide (non comptée pour le mAP). En segmentation, l'IoU évalue directement la qualité.\n",
    "\n",
    "$\\text{IoU} = \\frac{|\\text{Intersection}|}{|\\text{Union}|} = \\frac{|\\text{Prédiction} \\cap \\text{Vérité terrain}|}{|\\text{Prédiction} \\cup \\text{Vérité terrain}|}$\n",
    "\n",
    "*Note :* L'IoU pénalise les petits objets et classes rares. Pour réduire ce biais, on peut utiliser le *dice coefficient*.\n"
   ]
  },
  {
   "cell_type": "markdown",
   "metadata": {},
   "source": [
    "### Dice Coefficient\n"
   ]
  },
  {
   "cell_type": "markdown",
   "metadata": {},
   "source": [
    "En segmentation, on utilise souvent le *dice coefficient* plutôt que l'IoU. Sa formule est :\n",
    "\n",
    "$\\text{Dice} = \\frac{2 \\times |\\text{Prédiction} \\cap \\text{Vérité terrain}|}{|\\text{Prédiction}| + |\\text{Vérité terrain}|}$\n",
    "\n",
    "Le *dice coefficient* met l'accent sur l'intersection entre prédiction et vérité terrain, en donnant plus de poids aux éléments communs.\n"
   ]
  },
  {
   "cell_type": "markdown",
   "metadata": {},
   "source": [
    "## Évaluation des modèles de langage\n"
   ]
  },
  {
   "cell_type": "markdown",
   "metadata": {},
   "source": [
    "Évaluer les modèles de langage est complexe. Bien qu'on puisse utiliser le *loss* de test, cela ne donne pas une idée précise des performances réelles. Plusieurs méthodes et benchmarks existent pour évaluer ces modèles selon différents critères.\n",
    "\n",
    "*Sources :*\n",
    "- [Blogpost sur les métriques d'évaluation](https://www.confident-ai.com/blog/llm-evaluation-metrics-everything-you-need-for-llm-evaluation)\n",
    "- [Leaderboard des LLMs sur Hugging Face](https://huggingface.co/spaces/open-llm-leaderboard/open_llm_leaderboard)\n"
   ]
  },
  {
   "cell_type": "markdown",
   "metadata": {},
   "source": [
    "## Évaluation des modèles de génération d'images\n"
   ]
  },
  {
   "cell_type": "markdown",
   "metadata": {},
   "source": [
    "Évaluer les modèles de génération d'images est complexe. On a souvent besoin d'une évaluation humaine pour juger de la qualité des images générées.\n",
    "\n",
    "*Source :* [Blogpost sur l'évaluation des modèles génératifs](https://dagshub.com/blog/how-to-evaluate-generative-image-models/)\n"
   ]
  }
 ],
 "metadata": {
  "language_info": {
   "name": "python"
  }
 },
 "nbformat": 4,
 "nbformat_minor": 2
}
