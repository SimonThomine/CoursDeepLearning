{
 "cells": [
  {
   "cell_type": "markdown",
   "metadata": {},
   "source": [
    "# Introducción al PLN\n"
   ]
  },
  {
   "cell_type": "markdown",
   "metadata": {},
   "source": [
    "## ¿Qué es el PLN?\n"
   ]
  },
  {
   "cell_type": "markdown",
   "metadata": {},
   "source": [
    "El **PLN** (Procesamiento de Lenguaje Natural, por sus siglas en inglés *Natural Language Processing*) es un campo clave en el aprendizaje automático. Abarca diversas tareas relacionadas con el texto, como la **traducción automática**, la **comprensión de textos**, los **sistemas de preguntas y respuestas**, entre otros.\n",
    "\n",
    "![Aplicaciones del PLN](./images/applicationsNLP.png)\n",
    "\n",
    "*Figura extraída del [artículo](https://eastgate-software.com/top-8-applications-of-natural-language-processing-nlp/).*\n"
   ]
  },
  {
   "cell_type": "markdown",
   "metadata": {},
   "source": [
    "El PLN destaca en el *deep learning* porque procesa **datos discretos** (como el texto), que suelen leerse de **izquierda a derecha**.\n"
   ]
  },
  {
   "cell_type": "markdown",
   "metadata": {},
   "source": [
    "## Contenido del curso\n"
   ]
  },
  {
   "cell_type": "markdown",
   "metadata": {},
   "source": [
    "Este curso se centra en la **predicción del siguiente *token***, comenzando por la predicción del **siguiente carácter** para simplificar. Este problema es la base de los **modelos de lenguaje** (como GPT, Llama, Gemini, etc.).\n",
    "\n",
    "El objetivo es **predecir la siguiente palabra** en función de las palabras anteriores, utilizando un **contexto** más o menos extenso según el método y la capacidad del modelo. El contexto se define por el **número de *tokens*** (palabras o unidades de texto) usados para la predicción.\n",
    "\n",
    "**¿Qué es un *token*?**\n",
    "Un *token* es una **unidad básica de entrada** para el modelo. Puede ser:\n",
    "- Un **carácter** (ej: `'a'`),\n",
    "- Un **grupo de caracteres** (ej: `'ch'`),\n",
    "- Una **palabra completa** (ej: `'hola'`).\n",
    "\n",
    "Antes de procesarse, cada *token* se convierte en un **vector numérico** (embedding) que el modelo puede interpretar.\n"
   ]
  },
  {
   "cell_type": "markdown",
   "metadata": {},
   "source": [
    "## Inspiración del curso\n"
   ]
  },
  {
   "cell_type": "markdown",
   "metadata": {},
   "source": [
    "Este curso está ampliamente inspirado en la serie de **[videos de Andrej Karpathy](https://www.youtube.com/playlist?list=PLAqhIrjkxbuWI23v9cThsA9GvCAUhRvKZ)** ([repositorio en GitHub](https://github.com/karpathy/nn-zero-to-hero)), especialmente en sus lecciones *\"building makemore\"*.\n",
    "Aquí presentamos una **versión escrita y en español** de estos contenidos.\n",
    "**Recomendación:** Ver esta serie de videos, ya que es **uno de los mejores cursos sobre modelos de lenguaje disponibles actualmente** (y es gratuito).\n"
   ]
  },
  {
   "cell_type": "markdown",
   "metadata": {},
   "source": [
    "El curso está estructurado en **varios *notebooks***, con modelos de **dificultad progresiva**. La idea es **entender las limitaciones de cada modelo** antes de avanzar a uno más complejo.\n",
    "\n",
    "**Temario del curso:**\n",
    "1. **Clase 1:** Modelos de *bigramas* (método clásico y redes neuronales).\n",
    "2. **Clase 2:** Predicción de la siguiente palabra con una red *fully connected*.\n",
    "3. **Clase 3:** *WaveNet* (arquitectura jerárquica).\n",
    "4. **Clase 4:** *RNN* (redes neuronales recurrentes con arquitectura secuencial).\n",
    "5. **Clase 5:** *LSTM* (red recurrente \"mejorada\").\n"
   ]
  },
  {
   "cell_type": "markdown",
   "metadata": {},
   "source": [
    "**Nota:** La **[Clase 7](https://github.com/SimonThomine/CoursDeepLearning/tree/main/07_Transformers)** sobre *transformers* aborda el mismo problema de **generación del siguiente carácter**, pero con una **arquitectura *transformer*** y un *dataset* más complejo.\n"
   ]
  },
  {
   "cell_type": "markdown",
   "metadata": {},
   "source": [
    "## Obtención del *dataset* `prenoms.txt`\n"
   ]
  },
  {
   "cell_type": "markdown",
   "metadata": {},
   "source": [
    "En este curso, utilizamos un *dataset* de **nombres propios** con aproximadamente **30,000 de los nombres más comunes en Francia desde 1900** (datos del INSEE). El archivo `prenoms.txt` ya está incluido en la carpeta, por lo que **no es necesario ejecutar el código a continuación**.\n",
    "Si deseas generarlo tú mismo, primero debes descargar el archivo `nat2022.csv` desde el **[sitio web del INSEE](https://www.insee.fr/fr/statistiques/7633685?sommaire=7635552)**.\n"
   ]
  },
  {
   "cell_type": "code",
   "execution_count": 13,
   "metadata": {},
   "outputs": [],
   "source": [
    "import pandas as pd\n",
    "\n",
    "# Chargement du fichier CSV\n",
    "df = pd.read_csv('nat2022.csv', sep=';')\n",
    "\n",
    "# On enlève la catégorie '_PRENOMS_RARES' qui regroupe les prénoms peu fréquents\n",
    "df_filtered = df[df['preusuel'] != '_PRENOMS_RARES']\n",
    "\n",
    "# Pour compter, on fait la somme des nombres de naissances pour chaque prénom\n",
    "df_grouped = df_filtered.groupby('preusuel', as_index=False)['nombre'].sum()\n",
    "\n",
    "# On va trier les prénoms par popularité\n",
    "df_sorted = df_grouped.sort_values(by='nombre', ascending=False)\n",
    "\n",
    "# On extrait les 30 000 prénoms les plus populaires\n",
    "top_prenoms = df_sorted['preusuel'].head(30000).values\n",
    "\n",
    "with open('prenoms.txt', 'w', encoding='utf-8') as file:\n",
    "  for prenom in top_prenoms:\n",
    "    file.write(f\"{prenom}\\n\")\n"
   ]
  },
  {
   "cell_type": "markdown",
   "metadata": {},
   "source": [
    "En el siguiente *notebook*, **analizaremos el *dataset*** (caracteres únicos, distribución, etc.).\n"
   ]
  }
 ],
 "metadata": {
  "kernelspec": {
   "display_name": "Python 3",
   "language": "python",
   "name": "python3"
  },
  "language_info": {
   "codemirror_mode": {
    "name": "ipython",
    "version": 3
   },
   "file_extension": ".py",
   "mimetype": "text/x-python",
   "name": "python",
   "nbconvert_exporter": "python",
   "pygments_lexer": "ipython3",
   "version": "3.11.9"
  }
 },
 "nbformat": 4,
 "nbformat_minor": 2
}
