{
 "cells": [
  {
   "cell_type": "markdown",
   "metadata": {},
   "source": [
    "# Introducción a los modelos generativos\n"
   ]
  },
  {
   "cell_type": "markdown",
   "metadata": {},
   "source": [
    "En los cursos anteriores, estudiamos diversos modelos de *deep learning*, incluyendo modelos discriminativos y generativos. Este curso se centra en los **modelos generativos**: explicaremos su funcionamiento, presentaremos ejemplos y proporcionaremos implementaciones prácticas.\n"
   ]
  },
  {
   "cell_type": "markdown",
   "metadata": {},
   "source": [
    "## Modelos discriminativos vs. generativos\n"
   ]
  },
  {
   "cell_type": "markdown",
   "metadata": {},
   "source": [
    "A continuación, se definen los modelos discriminativos y generativos:\n",
    "\n",
    "- **Modelo discriminativo**: Su objetivo es **distinguir entre diferentes tipos de datos**. Durante el entrenamiento, utiliza datos de entrada $X$ y sus etiquetas asociadas $Y$. Su finalidad es **clasificar nuevos datos de entrada**.\n",
    "  *Ejemplos*: Clasificación (imágenes, texto, audio), detección de objetos y segmentación.\n",
    "\n",
    "- **Modelo generativo**: Aprende la **distribución de probabilidad de los datos** para generar nuevos ejemplos similares a los del conjunto de entrenamiento. A diferencia de los modelos discriminativos, **no requiere etiquetas** durante el entrenamiento. Hasta ahora, hemos visto modelos generativos en el [curso 5 sobre PLN](../05_NLP/README.md).\n",
    "\n",
    "> **Nota**: Los *autoencoders* clásicos **no pertenecen a ninguna de estas categorías**, ya que no predicen etiquetas ni aprenden la distribución de probabilidad de los datos de entrada. Sin embargo, los *autoencoders variacionales* (VAE), basados en una arquitectura similar, **sí permiten aprender esta distribución**.\n"
   ]
  },
  {
   "cell_type": "markdown",
   "metadata": {},
   "source": [
    "Formalmente:\n",
    "- Los modelos **discriminativos** aprenden la probabilidad condicional $P(X \\mid Y)$.\n",
    "- Los modelos **generativos** aprenden $P(X)$ (sin etiquetas) o $P(X, Y)$ (con etiquetas).\n"
   ]
  },
  {
   "cell_type": "markdown",
   "metadata": {},
   "source": [
    "## Contenido del curso\n"
   ]
  },
  {
   "cell_type": "markdown",
   "metadata": {},
   "source": [
    "Este curso presenta las **principales familias de modelos generativos**, junto con implementaciones prácticas para cada una:\n",
    "\n",
    "- **GAN** (*Generative Adversarial Networks*): Cubiertos en los *notebooks* 2 y 3.\n",
    "  Funcionan con **dos modelos en competencia**:\n",
    "  - Un **generador** que crea datos similares a la distribución de entrenamiento.\n",
    "  - Un **discriminador** que distingue entre datos reales y generados.\n",
    "\n",
    "- **VAE** (*Variational Autoencoders*): Abordados en los *notebooks* 4 y 5.\n",
    "  A diferencia de los *autoencoders* clásicos, los VAE aprenden una **distribución de probabilidad en el espacio latente** (no una representación determinista).\n",
    "\n",
    "- **Normalizing Flows**: Explorados en los *notebooks* 6 y 7.\n",
    "  Utilizan **transformaciones biyectivas** para convertir una distribución simple (ej. gaussiana) en la distribución de los datos de entrenamiento.\n",
    "\n",
    "- **Modelos de difusión** (*Diffusion models*): Tratados en los *notebooks* 4 y 5.\n",
    "  Entrenan una red para **reduccir progresivamente el ruido** en una imagen. Se aplican iterativamente para generar imágenes a partir de ruido gaussiano.\n",
    "\n",
    "![modelos_generativos](./images/generative_models.png)\n",
    "\n",
    "> **Nota 1**: Los modelos *autoregresivos* (como GPT) no se cubren aquí, ya que se detallaron en el [curso 5 sobre PLN](../05_NLP/README.md).\n",
    ">\n",
    "> **Nota 2**: Este curso es una **introducción** a los modelos generativos. Para profundizar, consulta el curso *Stanford CS236*:\n",
    "> - [Sitio web del curso](https://deepgenerativemodels.github.io/)\n",
    "> - [Lista de reproducción en YouTube](https://www.youtube.com/watch?v=XZ0PMRWXBEU&list=PLoROMvodv4rPOWA-omMM6STXaWW4FvJT8&ab_channel=StanfordOnline)\n"
   ]
  }
 ],
 "metadata": {
  "language_info": {
   "name": "python"
  }
 },
 "nbformat": 4,
 "nbformat_minor": 2
}
