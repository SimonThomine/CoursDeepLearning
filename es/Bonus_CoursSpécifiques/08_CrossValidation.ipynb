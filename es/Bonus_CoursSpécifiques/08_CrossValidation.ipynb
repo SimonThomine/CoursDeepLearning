{
 "cells": [
  {
   "cell_type": "markdown",
   "metadata": {},
   "source": [
    "# Introducción a la validación cruzada\n"
   ]
  },
  {
   "cell_type": "markdown",
   "metadata": {},
   "source": [
    "La **validación cruzada** (*cross-validation*) es una técnica que permite evaluar con precisión un modelo de *deep learning* utilizando todo el conjunto de datos disponible para el entrenamiento. Este contenido está basado en el [artículo](https://towardsdatascience.com/cross-validation-explained-evaluating-estimator-performance-e51e5430ff85), del cual también se extrajeron las imágenes utilizadas.\n"
   ]
  },
  {
   "cell_type": "markdown",
   "metadata": {},
   "source": [
    "## Problemas de los modelos de *deep learning*\n"
   ]
  },
  {
   "cell_type": "markdown",
   "metadata": {},
   "source": [
    "Como se mencionó anteriormente, uno de los principales problemas de los modelos de *deep learning* es el **sobreajuste** (*overfitting*). Para profundizar en este tema, consulta el [módulo adicional sobre regularización](06_Regularisation.ipynb). No basta con que un modelo tenga un buen rendimiento en los datos de entrenamiento; lo esencial es que también funcione bien con los datos de prueba.\n",
    "\n",
    "![Sobreajuste 2](./images/overfit2.png)\n",
    "\n",
    "La **validación cruzada** es una técnica que facilita la detección del *overfitting* y permite ajustar con mayor precisión los hiperparámetros para mitigar este problema.\n"
   ]
  },
  {
   "cell_type": "markdown",
   "metadata": {},
   "source": [
    "## ¿Cómo funciona la validación cruzada?\n"
   ]
  },
  {
   "cell_type": "markdown",
   "metadata": {},
   "source": [
    "La técnica de **validación cruzada** se divide en **3 etapas**:\n",
    "1. Se particiona el conjunto de datos en un número determinado de subconjuntos.\n",
    "2. Se reserva uno de los subconjuntos y se entrena el modelo con los datos restantes.\n",
    "3. Finalmente, se evalúa el modelo utilizando el subconjunto que se apartó inicialmente.\n",
    "\n",
    "Este proceso se repite hasta que todos los subconjuntos hayan sido evaluados. Por ejemplo, si el conjunto de datos se divide en **10 subconjuntos**, el modelo se entrenará **10 veces**. Al finalizar todos los entrenamientos, se calcula el rendimiento promedio del modelo en las diferentes iteraciones para obtener una evaluación general.\n",
    "\n",
    "![Validación cruzada](./images/crossval.png)\n",
    "\n",
    "Existen **tres variantes principales** de validación cruzada, todas ellas similares entre sí:\n",
    "- *k-fold cross validation* (validación cruzada *k*-pliegues).\n",
    "- *stratified k-fold cross validation* (validación cruzada *k*-pliegues estratificada).\n",
    "- *leave one out cross validation* (LOOCV, validación cruzada dejando uno fuera).\n"
   ]
  },
  {
   "cell_type": "markdown",
   "metadata": {},
   "source": [
    "### Validación cruzada *k*-pliegues (*k-fold*)\n"
   ]
  },
  {
   "cell_type": "markdown",
   "metadata": {},
   "source": [
    "La **validación cruzada *k*-pliegues** es la versión más clásica. En este método, el conjunto de datos se divide en $k$ subconjuntos. Se entrenan $k$ modelos, cada vez utilizando un subconjunto diferente para validación, y se promedia el rendimiento para evaluar el modelo de manera general.\n",
    "\n",
    "![Validación cruzada *k*-pliegues](./images/kfold.png)\n",
    "\n",
    "**¿Cómo elegir el parámetro $k$?**\n",
    "En general, se selecciona un valor de $k$ tal que los subconjuntos sean lo suficientemente grandes para representar estadísticamente el conjunto de datos original. La elección de $k$ también depende del tiempo y los recursos disponibles, ya que un valor mayor implica un mayor número de entrenamientos.\n",
    "\n",
    "Un valor comúnmente utilizado es $k=10$.\n"
   ]
  },
  {
   "cell_type": "markdown",
   "metadata": {},
   "source": [
    "### Validación cruzada *k*-pliegues estratificada\n"
   ]
  },
  {
   "cell_type": "markdown",
   "metadata": {},
   "source": [
    "Este método es casi idéntico a la validación cruzada *k*-pliegues tradicional, pero con una restricción adicional: **cada subconjunto debe mantener la misma distribución de clases que el conjunto de datos original**. Esto garantiza que la evaluación del modelo sea equitativa en términos de rendimiento para cada clase.\n",
    "\n",
    "![Validación cruzada *k*-pliegues estratificada](./images/skfold.png)\n"
   ]
  },
  {
   "cell_type": "markdown",
   "metadata": {},
   "source": [
    "### Validación cruzada dejando uno fuera (*leave-one-out*, LOOCV)\n"
   ]
  },
  {
   "cell_type": "markdown",
   "metadata": {},
   "source": [
    "Esta técnica es muy similar a la validación cruzada *k*-pliegues, pero con un valor de $k$ igual al tamaño del conjunto de datos ($k = n$). En cada iteración, el modelo se entrena con **todos los datos excepto uno**, lo que implica entrenar el modelo $n$ veces. Aunque este enfoque puede ser costoso en tiempo y recursos, su ventaja es que el modelo se entrena con casi la totalidad de los datos disponibles.\n",
    "\n",
    "En la práctica, este método no se utiliza con frecuencia, excepto en casos de **ajuste fino** (*finetuning*) con conjuntos de datos pequeños, donde resulta especialmente útil.\n"
   ]
  },
  {
   "cell_type": "markdown",
   "metadata": {},
   "source": [
    "## Ventajas e importancia de la validación cruzada\n"
   ]
  },
  {
   "cell_type": "markdown",
   "metadata": {},
   "source": [
    "La validación cruzada ofrece múltiples ventajas:\n",
    "- **Detección más sencilla del *overfitting***: Permite identificar este problema y ajustar los hiperparámetros de manera adecuada.\n",
    "- **Evaluación más confiable en contextos científicos**: Al utilizar esta técnica, se reduce el sesgo que podría introducirse al dividir aleatoriamente los datos de entrenamiento y validación, lo que garantiza resultados más robustos.\n"
   ]
  },
  {
   "cell_type": "markdown",
   "metadata": {},
   "source": [
    "Si dispones de los recursos necesarios (tiempo y capacidad de cómputo), **se recomienda utilizar la validación cruzada de manera sistemática** para evaluar tus modelos.\n"
   ]
  }
 ],
 "metadata": {
  "language_info": {
   "name": "python"
  }
 },
 "nbformat": 4,
 "nbformat_minor": 2
}
