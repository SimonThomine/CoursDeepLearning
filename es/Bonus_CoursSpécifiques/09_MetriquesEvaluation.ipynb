{
 "cells": [
  {
   "cell_type": "markdown",
   "metadata": {},
   "source": [
    "# Métricas de evaluación de modelos\n"
   ]
  },
  {
   "cell_type": "markdown",
   "metadata": {},
   "source": [
    "La evaluación es una etapa clave en el entrenamiento de un modelo. Hasta ahora, hemos utilizado principalmente la *pérdida* en los datos de prueba o métricas básicas como la precisión. Dependiendo del problema a resolver, diferentes métricas permiten evaluar diversos aspectos del modelo. Este curso presenta varias de ellas, para que las utilices según tus necesidades.\n"
   ]
  },
  {
   "cell_type": "markdown",
   "metadata": {},
   "source": [
    "## Métricas para clasificación\n"
   ]
  },
  {
   "cell_type": "markdown",
   "metadata": {},
   "source": [
    "### Matriz de confusión\n"
   ]
  },
  {
   "cell_type": "markdown",
   "metadata": {},
   "source": [
    "En clasificación binaria, las predicciones del modelo se pueden visualizar de la siguiente manera:\n",
    "\n",
    "![Clasificación](./images/classi.png)\n",
    "\n",
    "*Fuente: [Wikipedia](https://en.wikipedia.org/wiki/Precision_and_recall)*\n"
   ]
  },
  {
   "cell_type": "markdown",
   "metadata": {},
   "source": [
    "Aquí están los términos básicos:\n",
    "- **Falso positivo (FP)**: Elemento clasificado como positivo cuando en realidad es negativo.\n",
    "- **Verdadero positivo (VP)**: Elemento clasificado como positivo y que efectivamente lo es.\n",
    "- **Falso negativo (FN)**: Elemento clasificado como negativo cuando en realidad es positivo.\n",
    "- **Verdadero negativo (VN)**: Elemento clasificado como negativo y que efectivamente lo es.\n",
    "\n",
    "Estos conceptos se pueden representar en una matriz de confusión:\n",
    "\n",
    "![Matriz de confusión](./images/confusion.png)\n",
    "\n",
    "*Nota:* En una clasificación multiclase, la matriz de confusión ayuda a identificar las confusiones entre las diferentes clases.\n"
   ]
  },
  {
   "cell_type": "markdown",
   "metadata": {},
   "source": [
    "### Precisión, exhaustividad y especificidad\n"
   ]
  },
  {
   "cell_type": "markdown",
   "metadata": {},
   "source": [
    "A partir de la matriz de confusión, se pueden calcular varias métricas:\n",
    "- **Precisión**: $Precisión=\\frac{VP}{VP+FP}$. Proporción de elementos positivos correctamente clasificados entre todos los clasificados como positivos.\n",
    "- **Exhaustividad (o sensibilidad)**: $Exhaustividad=\\frac{VP}{VP+FN}$. Proporción de elementos positivos correctamente clasificados entre todos los elementos positivos reales.\n",
    "- **Especificidad (o selectividad)**: $Especificidad=\\frac{VN}{VN+FP}$. Proporción de elementos negativos correctamente clasificados entre todos los elementos negativos reales.\n"
   ]
  },
  {
   "cell_type": "markdown",
   "metadata": {},
   "source": [
    "### Exactitud\n"
   ]
  },
  {
   "cell_type": "markdown",
   "metadata": {},
   "source": [
    "La **exactitud** (cuidado, no confundir con la precisión) mide el número de predicciones correctas sobre el total de predicciones. Su fórmula es:\n",
    "$Exactitud=\\frac{VP+VN}{VP+VN+FP+FN}$\n",
    "\n",
    "*Nota:* Usar con precaución en casos de desequilibrio de clases (*class imbalance*).\n"
   ]
  },
  {
   "cell_type": "markdown",
   "metadata": {},
   "source": [
    "### Puntuación F1\n"
   ]
  },
  {
   "cell_type": "markdown",
   "metadata": {},
   "source": [
    "La **puntuación F1** es una métrica comúnmente utilizada. Es la media armónica entre precisión y exhaustividad:\n",
    "$F1=2 \\times \\frac{precisión \\times exhaustividad}{precisión + exhaustividad}$\n",
    "\n",
    "Si la precisión y la exhaustividad son cercanas, la puntuación F1 estará cerca de su promedio.\n"
   ]
  },
  {
   "cell_type": "markdown",
   "metadata": {},
   "source": [
    "### Curva ROC\n"
   ]
  },
  {
   "cell_type": "markdown",
   "metadata": {},
   "source": [
    "La **curva ROC** (*Receiver Operating Characteristic*) muestra el rendimiento de un modelo de clasificación binaria a diferentes umbrales. Incluye:\n",
    "- **Eje X**: Tasa de falsos positivos ($1-especificidad$). Proporción de elementos negativos mal clasificados como positivos.\n",
    "- **Eje Y**: Tasa de verdaderos positivos ($exhaustividad$). Proporción de elementos positivos bien clasificados.\n",
    "\n",
    "Cada punto de la curva corresponde a un umbral de decisión diferente.\n",
    "\n",
    "![ROC](./images/roc.png)\n",
    "\n",
    "*Fuente: [Blogpost](https://sefiks.com/2020/12/10/a-gentle-introduction-to-roc-curve-and-auc/)*\n",
    "\n",
    "Para evaluar un modelo, se calcula el área bajo la curva (AUROC):\n",
    "- Clasificador aleatorio: AUROC = 0.5\n",
    "- Clasificador perfecto: AUROC = 1\n"
   ]
  },
  {
   "cell_type": "markdown",
   "metadata": {},
   "source": [
    "### Pérdida logarítmica\n"
   ]
  },
  {
   "cell_type": "markdown",
   "metadata": {},
   "source": [
    "Se puede utilizar simplemente el valor de la *pérdida* en los datos de prueba como métrica. Dado que la pérdida refleja el objetivo, esto puede ser suficiente en muchos casos.\n"
   ]
  },
  {
   "cell_type": "markdown",
   "metadata": {},
   "source": [
    "## Métricas para regresión y autoencodificadores\n"
   ]
  },
  {
   "cell_type": "markdown",
   "metadata": {},
   "source": [
    "### Error Absoluto Medio (MAE)\n"
   ]
  },
  {
   "cell_type": "markdown",
   "metadata": {},
   "source": [
    "En los modelos de regresión o autoencodificadores, se comparan las predicciones con los valores reales calculando una distancia. El **Error Absoluto Medio (MAE)** es la media de los errores absolutos:\n",
    "$\\text{MAE} = \\frac{1}{n} \\sum_{i=1}^{n} \\left| y_i - \\hat{y}_i \\right|$\n"
   ]
  },
  {
   "cell_type": "markdown",
   "metadata": {},
   "source": [
    "### Error Cuadrático Medio (MSE)\n"
   ]
  },
  {
   "cell_type": "markdown",
   "metadata": {},
   "source": [
    "Se utiliza frecuentemente el **Error Cuadrático Medio (MSE)**, que es la media de los cuadrados de los errores:\n",
    "$\\text{MSE} = \\frac{1}{n} \\sum_{i=1}^{n} \\left( y_i - \\hat{y}_i \\right)^2$\n"
   ]
  },
  {
   "cell_type": "markdown",
   "metadata": {},
   "source": [
    "## Métricas para detección y segmentación\n"
   ]
  },
  {
   "cell_type": "markdown",
   "metadata": {},
   "source": [
    "### Precisión Promedio (AP) y Precisión Promedio Media (mAP)\n"
   ]
  },
  {
   "cell_type": "markdown",
   "metadata": {},
   "source": [
    "En detección, no se puede evaluar simplemente la precisión. Es necesario considerar diferentes umbrales de exhaustividad para una evaluación pertinente. La **precisión promedio (AP)** se calcula de la siguiente manera:\n",
    "\n",
    "$\\text{AP} = \\int_{0}^{1} \\text{Precisión}(r) \\, \\text{d}r$\n",
    "\n",
    "O de manera discreta:\n",
    "\n",
    "$\\text{AP} = \\sum_{k=1}^{K} \\text{Precisión}(r_k) \\cdot (r_k - r_{k-1})$\n",
    "\n",
    "Donde:\n",
    "- $\\text{Precisión}(r)$: Precisión en el nivel de exhaustividad $r$\n",
    "- $K$: Número de puntos de evaluación de la exhaustividad\n",
    "- $r_k$ y $r_{k-1}$: Niveles de exhaustividad en los puntos $k$ y $k-1$\n"
   ]
  },
  {
   "cell_type": "markdown",
   "metadata": {},
   "source": [
    "La **precisión promedio media (mAP)** es la media de las AP para todas las clases en un problema de detección multiclase. Proporciona una evaluación global del modelo considerando todas las clases.\n",
    "\n",
    "$\\text{mAP} = \\frac{1}{C} \\sum_{c=1}^{C} \\text{AP}_c$\n"
   ]
  },
  {
   "cell_type": "markdown",
   "metadata": {},
   "source": [
    "### Intersección sobre Unión (IoU)\n"
   ]
  },
  {
   "cell_type": "markdown",
   "metadata": {},
   "source": [
    "En detección y segmentación, el **IoU (Intersección sobre Unión)** es una métrica clave. En detección, se fija un umbral de IoU por debajo del cual una detección se considera inválida (no contabilizada para el mAP). En segmentación, el IoU evalúa directamente la calidad.\n",
    "\n",
    "$\\text{IoU} = \\frac{|\\text{Intersección}|}{|\\text{Unión}|} = \\frac{|\\text{Predicción} \\cap \\text{Realidad}|}{|\\text{Predicción} \\cup \\text{Realidad}|}$\n",
    "\n",
    "*Nota:* El IoU penaliza los objetos pequeños y las clases raras. Para reducir este sesgo, se puede utilizar el *coeficiente de Dice*.\n"
   ]
  },
  {
   "cell_type": "markdown",
   "metadata": {},
   "source": [
    "### Coeficiente de Dice\n"
   ]
  },
  {
   "cell_type": "markdown",
   "metadata": {},
   "source": [
    "En segmentación, se utiliza frecuentemente el **coeficiente de Dice** en lugar del IoU. Su fórmula es:\n",
    "\n",
    "$\\text{Dice} = \\frac{2 \\times |\\text{Predicción} \\cap \\text{Realidad}|}{|\\text{Predicción}| + |\\text{Realidad}|}$\n",
    "\n",
    "El coeficiente de Dice enfatiza la intersección entre la predicción y la realidad, dando más peso a los elementos comunes.\n"
   ]
  },
  {
   "cell_type": "markdown",
   "metadata": {},
   "source": [
    "## Evaluación de modelos de lenguaje\n"
   ]
  },
  {
   "cell_type": "markdown",
   "metadata": {},
   "source": [
    "Evaluar los modelos de lenguaje es complejo. Aunque se puede utilizar la *pérdida* en los datos de prueba, esto no proporciona una idea precisa del rendimiento real. Existen varias metodologías y benchmarks para evaluar estos modelos según diferentes criterios.\n",
    "\n",
    "*Fuentes:*\n",
    "- [Blog sobre métricas de evaluación](https://www.confident-ai.com/blog/llm-evaluation-metrics-everything-you-need-for-llm-evaluation)\n",
    "- [Tabla de clasificación de LLMs en Hugging Face](https://huggingface.co/spaces/open-llm-leaderboard/open_llm_leaderboard)\n"
   ]
  },
  {
   "cell_type": "markdown",
   "metadata": {},
   "source": [
    "## Evaluación de modelos de generación de imágenes\n"
   ]
  },
  {
   "cell_type": "markdown",
   "metadata": {},
   "source": [
    "Evaluar los modelos de generación de imágenes es complejo. A menudo, se necesita una evaluación humana para juzgar la calidad de las imágenes generadas.\n",
    "\n",
    "*Fuente:* [Blog sobre la evaluación de modelos generativos](https://dagshub.com/blog/how-to-evaluate-generative-image-models/)\n"
   ]
  }
 ],
 "metadata": {
  "language_info": {
   "name": "python"
  }
 },
 "nbformat": 4,
 "nbformat_minor": 2
}
