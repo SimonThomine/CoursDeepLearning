{
 "cells": [
  {
   "cell_type": "markdown",
   "metadata": {},
   "source": [
    "# Réseau fully connected"
   ]
  },
  {
   "cell_type": "markdown",
   "metadata": {},
   "source": [
    "## Architecture"
   ]
  },
  {
   "cell_type": "markdown",
   "metadata": {},
   "source": [
    "Dans les cours précédents (cours 2), nous avons construits des réseau de neurons fully connected pour des problèmes de classification. Ici, nous avons à faire à un problème de prédiction et nos données sont discrètes.  "
   ]
  },
  {
   "cell_type": "markdown",
   "metadata": {},
   "source": [
    "### Inspiration"
   ]
  },
  {
   "cell_type": "markdown",
   "metadata": {},
   "source": [
    "Le réseau construit dans ce notebook est basé sur l'article [\"A Neural Probabilistic Language Model\"](https://www.jmlr.org/papers/volume3/bengio03a/bengio03a.pdf).  \n",
    "Voici à quoi ressemble l'architecture de ce réseau :   \n",
    "<img src=\"images/bengio.png\" alt=\"bengio\" width=\"400\"/>  \n",
    "Figure extraite de l'article original."
   ]
  },
  {
   "cell_type": "markdown",
   "metadata": {},
   "source": [
    "L'article original est utilisé en prenant des mots en entrée et en prédisant un mot. Dans notre cas, nous allons utiliser les caractères comme dans le notebook précédent.  \n",
    "**Matrice d'embedding $C$** : Ce qu'on remarque à première vue dans le réseau c'est la présence d'une matrice $C$ qui va encoder le mot (ou le caractère dans un espace latent). C'est une pratique presque systématiquement utilisé en NLP car cela permet de rapprocher les mots \"similaires\" dans l'espace latent.  \n",
    "Par exemple, dans la plupart des phrases on pourrait interchanger les mots \"chien\" et \"chat\", ce qui signifie que ces mots vont avoir une representation proche dans l'espace latent tandis que les mots \"chien\" et \"est\" ne vont pas avoir une representation proche.   \n",
    "**Reste du réseau** : Le reste du réseau est plus classique, il prend en entrée la concatenation des embeddings de chaque mot (ou caractère) et prédit un mot (ou caractère en sortie)."
   ]
  },
  {
   "cell_type": "markdown",
   "metadata": {},
   "source": [
    "Le modèle de l'article est entraîné par minimisation du negative log likelihood (comme ce que nous avons fait dans le notebook précédent avec le modèle bigramme)."
   ]
  },
  {
   "cell_type": "markdown",
   "metadata": {},
   "source": [
    "### Notre approche"
   ]
  },
  {
   "cell_type": "markdown",
   "metadata": {},
   "source": [
    "Dans l'article, ils utilisent 3 mots pour prédire le 4ème mot. Nous allons nous baser sur le même principe et prédire le 4ème caractère à partir des 3 caractères précédents.  \n",
    "La dimension de l'espace latent utilisé dans l'article est 30 pour un dictionnaire contenant 17 000 mots distincts. Comme nous avons 46 caracactères, prenons une dimension d'embedding de 10 assez arbitrairement."
   ]
  },
  {
   "cell_type": "markdown",
   "metadata": {},
   "source": [
    "## Implémentation "
   ]
  },
  {
   "cell_type": "markdown",
   "metadata": {},
   "source": [
    "Commençons par reconstruire nos listes stoi et itos du notebook précédent : "
   ]
  },
  {
   "cell_type": "code",
   "execution_count": 1,
   "metadata": {},
   "outputs": [],
   "source": [
    "import torch\n",
    "import torch.nn.functional as F\n",
    "import matplotlib.pyplot as plt\n",
    "from torch.utils.data import TensorDataset, DataLoader, random_split\n",
    "%matplotlib inline"
   ]
  },
  {
   "cell_type": "code",
   "execution_count": 2,
   "metadata": {},
   "outputs": [],
   "source": [
    "words = open('prenoms.txt', 'r').read().splitlines()\n",
    "chars = sorted(list(set(''.join(words))))\n",
    "stoi = {s:i+1 for i,s in enumerate(chars)}\n",
    "stoi['.'] = 0\n",
    "itos = {i:s for s,i in stoi.items()}"
   ]
  },
  {
   "cell_type": "markdown",
   "metadata": {},
   "source": [
    "### Dataset et dataloader"
   ]
  },
  {
   "cell_type": "markdown",
   "metadata": {},
   "source": [
    "Construisons notre dataset qui va être un peu différent car les entrées seront au nombre de 3 au lieu de une. "
   ]
  },
  {
   "cell_type": "code",
   "execution_count": 3,
   "metadata": {},
   "outputs": [
    {
     "name": "stdout",
     "output_type": "stream",
     "text": [
      "... ---> M\n",
      "..M ---> A\n",
      ".MA ---> R\n",
      "MAR ---> I\n",
      "ARI ---> E\n",
      "RIE ---> .\n",
      "... ---> J\n",
      "..J ---> E\n",
      ".JE ---> A\n",
      "JEA ---> N\n",
      "EAN ---> .\n"
     ]
    }
   ],
   "source": [
    "block_size = 3 # La longueur du contexte, combien de caractères pour prédire le suivant ?\n",
    "X, Y = [], []\n",
    "for k,w in enumerate(words):\n",
    "  context = [0] * block_size\n",
    "  for ch in w + '.':\n",
    "    ix = stoi[ch]\n",
    "    X.append(context)\n",
    "    Y.append(ix)\n",
    "    if (k<2): ## On affiche ce à quoi ressemble le dataset pour les deux premiers mots\n",
    "      print(''.join(itos[i] for i in context), '--->', itos[ix])\n",
    "    context = context[1:] + [ix] # crop and append"
   ]
  },
  {
   "cell_type": "code",
   "execution_count": 4,
   "metadata": {},
   "outputs": [
    {
     "name": "stdout",
     "output_type": "stream",
     "text": [
      "torch.Size([226325, 3]) torch.int64 torch.Size([226325]) torch.int64\n"
     ]
    }
   ],
   "source": [
    "X = torch.tensor(X)\n",
    "Y = torch.tensor(Y)\n",
    "print(X.shape, X.dtype, Y.shape, Y.dtype)"
   ]
  },
  {
   "cell_type": "markdown",
   "metadata": {},
   "source": [
    "On va maintenant utiliser pytorch pour construire nos dataset de training, validation et test."
   ]
  },
  {
   "cell_type": "code",
   "execution_count": 5,
   "metadata": {},
   "outputs": [
    {
     "name": "stdout",
     "output_type": "stream",
     "text": [
      "Taille du dataset de training :  181060\n",
      "Taille du dataset de validation :  22632\n",
      "Taille du dataset de test :  22633\n"
     ]
    }
   ],
   "source": [
    "dataset=TensorDataset(X, Y)\n",
    "train_size = int(0.8 * len(dataset))\n",
    "val_size = int(0.1 * len(dataset))\n",
    "test_size = len(dataset) - train_size - val_size\n",
    "train_dataset, val_dataset, test_dataset = random_split(TensorDataset(X, Y),[train_size, val_size, test_size])\n",
    "print(\"Taille du dataset de training : \",len(train_dataset))\n",
    "print(\"Taille du dataset de validation : \",len(val_dataset))\n",
    "print(\"Taille du dataset de test : \",len(test_dataset))"
   ]
  },
  {
   "cell_type": "markdown",
   "metadata": {},
   "source": [
    "Et on va créer nos dataloaders pour l'optimisation par mini-batch."
   ]
  },
  {
   "cell_type": "code",
   "execution_count": 6,
   "metadata": {},
   "outputs": [],
   "source": [
    "train_loader = DataLoader(train_dataset, batch_size=256, shuffle=True)\n",
    "val_loader = DataLoader(val_dataset, batch_size=256, shuffle=False)\n",
    "test_loader = DataLoader(test_dataset, batch_size=256, shuffle=False)"
   ]
  },
  {
   "cell_type": "markdown",
   "metadata": {},
   "source": [
    "### Couches du réseau "
   ]
  },
  {
   "cell_type": "markdown",
   "metadata": {},
   "source": [
    "Pour comprendre en profondeur le réseau que l'on construit ici, nous n'utiliserons pas les fonctions nn.Linear() de pytorch pour la construction des couches.   \n",
    "On va commencer par définir le nombre de neurones des différentes couches."
   ]
  },
  {
   "cell_type": "code",
   "execution_count": 7,
   "metadata": {},
   "outputs": [],
   "source": [
    "embed_dim=10 # Dimension de l'embedding de C\n",
    "hidden_dim=200 # Dimension de la couche cachée"
   ]
  },
  {
   "cell_type": "markdown",
   "metadata": {},
   "source": [
    "Construisons notre matrice $C$ d'embedding (qui a des paramètres apprenables)."
   ]
  },
  {
   "cell_type": "code",
   "execution_count": 8,
   "metadata": {},
   "outputs": [
    {
     "data": {
      "text/plain": [
       "torch.Size([226325, 3, 10])"
      ]
     },
     "execution_count": 8,
     "metadata": {},
     "output_type": "execute_result"
    }
   ],
   "source": [
    "C = torch.randn((46, embed_dim))\n",
    "C[X].shape"
   ]
  },
  {
   "cell_type": "markdown",
   "metadata": {},
   "source": [
    "En appelant C[X], grâce au formidable [indexing de pytorch](http://blog.ezyang.com/2019/05/pytorch-internals/). On obtient les valeurs d'embedding de chacun des 3 caractères de nos 226325 exemples."
   ]
  },
  {
   "cell_type": "markdown",
   "metadata": {},
   "source": [
    "On peut maintenant créer nos couches cachées $W_1$ et $W_2$ ainsi que leurs biais $b_1$ et $b_2$."
   ]
  },
  {
   "cell_type": "code",
   "execution_count": 9,
   "metadata": {},
   "outputs": [
    {
     "name": "stdout",
     "output_type": "stream",
     "text": [
      "Nombre de paramètres du modèle :  15906\n"
     ]
    }
   ],
   "source": [
    "W1 = torch.randn((block_size*embed_dim, hidden_dim))\n",
    "b1 = torch.randn(hidden_dim)\n",
    "W2 = torch.randn((hidden_dim, 46))\n",
    "b2 = torch.randn(46)\n",
    "parameters = [C, W1, b1, W2, b2]\n",
    "print(\"Nombre de paramètres du modèle : \",sum(p.nelement() for p in parameters))"
   ]
  },
  {
   "cell_type": "markdown",
   "metadata": {},
   "source": [
    "Pour pouvoir entraîner ces couches, il faut activer le paramètre requires_grad de pytorch."
   ]
  },
  {
   "cell_type": "code",
   "execution_count": 10,
   "metadata": {},
   "outputs": [],
   "source": [
    "for p in parameters:\n",
    "  p.requires_grad = True"
   ]
  },
  {
   "cell_type": "markdown",
   "metadata": {},
   "source": [
    "### Comment trouver le bon learning rate ?"
   ]
  },
  {
   "cell_type": "markdown",
   "metadata": {},
   "source": [
    "Le choix du learning rate est très important lors de l'entraînement d'un réseau de neurones et c'est souvent difficile de savoir quelle valeur choisir avant d'avoir fait des tests.   \n",
    "Une bonne façon de choisir le learning rate est la suivante :   \n",
    "On construit une liste de 1000 valeurs entre -3 et 0 puis on prend $10^{valeur}$ pour chaque valeur\n",
    "Cela va nous donner une liste de valeurs entre $10^{-3} = 0.001$ et $10^{0}=1$ qui sont un panel de valeurs potentielles pour notre learning rate."
   ]
  },
  {
   "cell_type": "code",
   "execution_count": 11,
   "metadata": {},
   "outputs": [],
   "source": [
    "lre = torch.linspace(-3, 0, 1000)\n",
    "lrs = 10**lre"
   ]
  },
  {
   "cell_type": "markdown",
   "metadata": {},
   "source": [
    "On va ensuite tracker les valeurs de loss en fonction du learning rate sur l'ensemble de nos valeurs sur l'entraînement."
   ]
  },
  {
   "cell_type": "code",
   "execution_count": 12,
   "metadata": {},
   "outputs": [],
   "source": [
    "lri = []\n",
    "lossi = []\n",
    "count=0\n",
    "while count<999:\n",
    "  for x,y in train_loader:\n",
    "    count+=1\n",
    "    if count==999:\n",
    "        break\n",
    "    # forward pass\n",
    "    emb = C[x]\n",
    "    h = torch.tanh(emb.view(-1, block_size*embed_dim) @ W1 + b1)\n",
    "    logits = h @ W2 + b2 \n",
    "    loss = F.cross_entropy(logits, y)\n",
    "    \n",
    "    # retropropagation\n",
    "    for p in parameters:\n",
    "        p.grad = None\n",
    "    loss.backward()\n",
    "    \n",
    "    # Mise à jour des poids du modèle\n",
    "    lr = lrs[count]\n",
    "    for p in parameters:\n",
    "        p.data += -lr * p.grad\n",
    "\n",
    "    lri.append(lre[count])\n",
    "    lossi.append(loss.log10().item())"
   ]
  },
  {
   "cell_type": "code",
   "execution_count": 13,
   "metadata": {},
   "outputs": [
    {
     "data": {
      "text/plain": [
       "[<matplotlib.lines.Line2D at 0x72f7efeba5d0>]"
      ]
     },
     "execution_count": 13,
     "metadata": {},
     "output_type": "execute_result"
    },
    {
     "data": {
      "image/png": "[encoded data removed]",
      "text/plain": [
       "<Figure size 640x480 with 1 Axes>"
      ]
     },
     "metadata": {},
     "output_type": "display_data"
    }
   ],
   "source": [
    "plt.plot(lri, lossi)"
   ]
  },
  {
   "cell_type": "markdown",
   "metadata": {},
   "source": [
    "Avec cette courbe, on peut déduire qu'une bonne valeur de learning rate se situe aux alentours de $10^{-1}$ et $10^{-0.5}$.  \n",
    "On va donc choisir un learning rate de 0.2 que l'on diminuera au cours de l'entraînement (pratique courante pour une convergence rapide et un optimisation précise sur la fin de l'entraînement)."
   ]
  },
  {
   "cell_type": "markdown",
   "metadata": {},
   "source": [
    "### Point sur la tangente hyperbolique"
   ]
  },
  {
   "cell_type": "markdown",
   "metadata": {},
   "source": [
    "Dans notre optimisation, nous avons utilisé la fonction tangente hyperbolique comme fonction d'activation. Il s'agit d'une fonction d'activation qui est assez souvent utilisé à la place de ReLU ou de sigmoïde.   \n",
    "Elle est définie de la manière suivante :   \n",
    "$\\tanh(x) = \\frac{\\sinh(x)}{\\cosh(x)} = \\frac{e^x - e^{-x}}{e^x + e^{-x}}$  \n",
    "Et on peut la visualiser en python : "
   ]
  },
  {
   "cell_type": "code",
   "execution_count": 14,
   "metadata": {},
   "outputs": [
    {
     "data": {
      "image/png": "[encoded data removed]",
      "text/plain": [
       "<Figure size 400x300 with 1 Axes>"
      ]
     },
     "metadata": {},
     "output_type": "display_data"
    }
   ],
   "source": [
    "import numpy as np\n",
    "x = np.linspace(-10, 10, 400)\n",
    "\n",
    "y = np.tanh(x)\n",
    "\n",
    "plt.figure(figsize=(4, 3))\n",
    "plt.plot(x, y, label='tanh(x)')\n",
    "plt.title('Tangente Hyperbolique')\n",
    "plt.xlabel('x')\n",
    "plt.ylabel('tanh(x)')\n",
    "plt.grid(True)\n",
    "plt.legend()\n",
    "plt.show()"
   ]
  },
  {
   "cell_type": "markdown",
   "metadata": {},
   "source": [
    "### Optimisation du réseau "
   ]
  },
  {
   "cell_type": "markdown",
   "metadata": {},
   "source": [
    "Passons maintenant à l'optimisation de notre réseau. Définissons nos hyperparamètres : "
   ]
  },
  {
   "cell_type": "code",
   "execution_count": 15,
   "metadata": {},
   "outputs": [],
   "source": [
    "lr=0.2\n",
    "epochs=100\n",
    "\n",
    "# Reinitialisons les paramètres pour plus de simplicité si on a besoin de relancer l'entraînement\n",
    "C = torch.randn((46, embed_dim))\n",
    "W1 = torch.randn((block_size*embed_dim, hidden_dim))\n",
    "b1 = torch.randn(hidden_dim)\n",
    "W2 = torch.randn((hidden_dim, 46))\n",
    "b2 = torch.randn(46)\n",
    "parameters = [C, W1, b1, W2, b2]\n",
    "for p in parameters:\n",
    "  p.requires_grad = True\n"
   ]
  },
  {
   "cell_type": "code",
   "execution_count": 16,
   "metadata": {},
   "outputs": [
    {
     "name": "stdout",
     "output_type": "stream",
     "text": [
      "loss epoch0:  tensor(5.3935, grad_fn=<DivBackward0>)\n",
      "loss epoch5:  tensor(2.5468, grad_fn=<DivBackward0>)\n",
      "loss epoch10:  tensor(2.4281, grad_fn=<DivBackward0>)\n",
      "loss epoch15:  tensor(2.3713, grad_fn=<DivBackward0>)\n",
      "loss epoch20:  tensor(2.3359, grad_fn=<DivBackward0>)\n",
      "loss epoch25:  tensor(2.3083, grad_fn=<DivBackward0>)\n",
      "loss epoch30:  tensor(2.2863, grad_fn=<DivBackward0>)\n",
      "loss epoch35:  tensor(2.2704, grad_fn=<DivBackward0>)\n",
      "loss epoch40:  tensor(2.2550, grad_fn=<DivBackward0>)\n",
      "loss epoch45:  tensor(2.2434, grad_fn=<DivBackward0>)\n",
      "loss epoch50:  tensor(2.3153, grad_fn=<DivBackward0>)\n",
      "loss epoch55:  tensor(2.3158, grad_fn=<DivBackward0>)\n",
      "loss epoch60:  tensor(2.3151, grad_fn=<DivBackward0>)\n",
      "loss epoch65:  tensor(2.3148, grad_fn=<DivBackward0>)\n",
      "loss epoch70:  tensor(2.3152, grad_fn=<DivBackward0>)\n",
      "loss epoch75:  tensor(2.3153, grad_fn=<DivBackward0>)\n",
      "loss epoch80:  tensor(2.3151, grad_fn=<DivBackward0>)\n",
      "loss epoch85:  tensor(2.3154, grad_fn=<DivBackward0>)\n",
      "loss epoch90:  tensor(2.3153, grad_fn=<DivBackward0>)\n",
      "loss epoch95:  tensor(2.3154, grad_fn=<DivBackward0>)\n"
     ]
    }
   ],
   "source": [
    "lossi=[]\n",
    "stepi = []\n",
    "for epoch in range(epochs):\n",
    "  loss_epoch=0\n",
    "  for x,y in train_loader:\n",
    "    \n",
    "    # forward pass\n",
    "    emb = C[x]\n",
    "    h = torch.tanh(emb.view(-1, block_size*embed_dim) @ W1 + b1)\n",
    "    logits = h @ W2 + b2 \n",
    "    loss = F.cross_entropy(logits, y)\n",
    "    \n",
    "    # retropropagation\n",
    "    for p in parameters:\n",
    "        p.grad = None\n",
    "    loss.backward()\n",
    "    \n",
    "    # Mise à jour des poids du modèle\n",
    "    lr=lr if epoch<50 else lr*0.1\n",
    "    for p in parameters:\n",
    "        p.data += -lr * p.grad\n",
    "    loss_epoch+=loss\n",
    "\n",
    "  loss_epoch=loss_epoch/len(train_loader)\n",
    "  if epoch%5==0:\n",
    "      print(\"loss epoch\"+str(epoch) + \": \",loss_epoch)\n",
    "  stepi.append(epoch)\n",
    "  lossi.append(loss_epoch.item())\n",
    "    "
   ]
  },
  {
   "cell_type": "code",
   "execution_count": 17,
   "metadata": {},
   "outputs": [
    {
     "data": {
      "text/plain": [
       "[<matplotlib.lines.Line2D at 0x72f78c20e750>]"
      ]
     },
     "execution_count": 17,
     "metadata": {},
     "output_type": "execute_result"
    },
    {
     "data": {
      "image/png": "[encoded data removed]",
      "text/plain": [
       "<Figure size 640x480 with 1 Axes>"
      ]
     },
     "metadata": {},
     "output_type": "display_data"
    }
   ],
   "source": [
    "plt.plot(stepi, lossi)"
   ]
  },
  {
   "cell_type": "markdown",
   "metadata": {},
   "source": [
    "### Test du modèle"
   ]
  },
  {
   "cell_type": "markdown",
   "metadata": {},
   "source": [
    "Maintenant que le modèle est entraîné, on va vérifier ses performances sur les données de test. Si le loss sur les données de test est à peu près similaire au loss d'entraînement alors le modèle est bien entraîné. Dans le cas contraire, il peut s'agir d'overfitting. "
   ]
  },
  {
   "cell_type": "code",
   "execution_count": 18,
   "metadata": {},
   "outputs": [
    {
     "name": "stdout",
     "output_type": "stream",
     "text": [
      "tensor(2.3533)\n"
     ]
    }
   ],
   "source": [
    "# On annule le calcul des gradients car on n'est plus en phase d'entraînement.\n",
    "for p in parameters:\n",
    "  p.requires_grad = False\n",
    "loss_test=0\n",
    "for x,y in test_loader:\n",
    "      \n",
    "  # forward pass\n",
    "  emb = C[x]\n",
    "  h = torch.tanh(emb.view(-1, 30) @ W1 + b1)\n",
    "  logits = h @ W2 + b2 \n",
    "  loss = F.cross_entropy(logits, y)\n",
    "      \n",
    "  \n",
    "  \n",
    "  loss_test+=loss\n",
    "loss_test=loss_test/len(test_loader)\n",
    "print(loss_test)"
   ]
  },
  {
   "cell_type": "markdown",
   "metadata": {},
   "source": [
    "On a un likelihood sur les données de test relativement proche de celui des données d'entraînement, on peut donc conclure que l'entraînement s'est plutôt bien passé."
   ]
  },
  {
   "cell_type": "markdown",
   "metadata": {},
   "source": [
    "On peut remarquer que la valeur du negative log likelihood sur notre modèle est inférieure à celle du modèle bigramme du notebook précédent ($2.3<2.5$). La qualité des prénoms générés devraient donc être plus qualitative."
   ]
  },
  {
   "cell_type": "markdown",
   "metadata": {},
   "source": [
    "### Géneration de prénoms avec notre modèle"
   ]
  },
  {
   "cell_type": "markdown",
   "metadata": {},
   "source": [
    "Générons une vingtaine de prénoms pour juger nous-même de la qualité de la génération."
   ]
  },
  {
   "cell_type": "code",
   "execution_count": 19,
   "metadata": {},
   "outputs": [
    {
     "name": "stdout",
     "output_type": "stream",
     "text": [
      "TAFFLORANESTEVE-LANE.\n",
      "JASHAN.\n",
      "LABRAUMERINEE.\n",
      "NALIE.\n",
      "GAID.\n",
      "EVEKYNABISEBA.\n",
      "TJIMETKE.\n",
      "HINISHAURIA-ALISIANEARONATHINESHAINE.\n",
      "AYAHADATHIDIANE.\n",
      "LÉELLIA.\n",
      "LOAMILEY.\n",
      "MECHERENE.\n",
      "ANAHIDI.\n",
      "LES-PHIAMANDAN.\n",
      "JEAN-LANITKIENELLEAH.\n",
      "CHARELLENNE-MICAREDES-AADIE.\n",
      "FAROUNAELLSANE.\n",
      "FIBINNE.\n",
      "AIKIRAINESFRISAFERIN.\n",
      "YANANE.\n"
     ]
    }
   ],
   "source": [
    "for _ in range(20):\n",
    "  out = []\n",
    "  context = [0] * block_size \n",
    "  while True:\n",
    "    emb = C[torch.tensor([context])] \n",
    "    h = torch.tanh(emb.view(1, -1) @ W1 + b1)\n",
    "    logits = h @ W2 + b2\n",
    "    probs = F.softmax(logits, dim=1)\n",
    "    ix = torch.multinomial(probs, num_samples=1).item()\n",
    "    context = context[1:] + [ix]\n",
    "    out.append(ix)\n",
    "    if ix == 0:\n",
    "      break\n",
    "  \n",
    "  print(''.join(itos[i] for i in out))"
   ]
  },
  {
   "cell_type": "markdown",
   "metadata": {},
   "source": [
    "Les prénoms sont bizarres mais ressemble déjà beaucoup plus à des prénoms \"possibles\" que la géneration du modèle bigramme précédent. "
   ]
  },
  {
   "cell_type": "markdown",
   "metadata": {},
   "source": [
    "**Exercice** : Vous pouvez essayer de modifier les neurones des couches ou les hyperparamètres pour améliorer le modèle et constater la différence dans la qualité de génération. "
   ]
  },
  {
   "cell_type": "markdown",
   "metadata": {},
   "source": [
    "## Visualisation des embeddings"
   ]
  },
  {
   "cell_type": "markdown",
   "metadata": {},
   "source": [
    "Plus tôt dans le notebook, nous avons expliqué l'intuition derrière la matrice d'embedding $C$ qui sert à \"rapprocher\" les mots (ou caractères) ayant un sens proche. On ne peut pas facilement visualiser la positions de chaque caractère dans la matrice $C$. Pour avoir une visualisation, on va donc ré-entraîner un modèle mais avec une dimension d'embedding de 2 au lieu de 10. Cela nous permettra de visualiser l'intêret de la matrice $C$."
   ]
  },
  {
   "cell_type": "code",
   "execution_count": 20,
   "metadata": {},
   "outputs": [],
   "source": [
    "lr=0.2\n",
    "epochs=100\n",
    "\n",
    "C = torch.randn((46, 2)) # 2 au lieu de embed_dim\n",
    "W1 = torch.randn((block_size*2, hidden_dim))\n",
    "b1 = torch.randn(hidden_dim)\n",
    "W2 = torch.randn((hidden_dim, 46))\n",
    "b2 = torch.randn(46)\n",
    "parameters = [C, W1, b1, W2, b2]\n",
    "for p in parameters:\n",
    "  p.requires_grad = True"
   ]
  },
  {
   "cell_type": "code",
   "execution_count": 21,
   "metadata": {},
   "outputs": [
    {
     "name": "stdout",
     "output_type": "stream",
     "text": [
      "loss epoch0:  tensor(3.4739, grad_fn=<DivBackward0>)\n",
      "loss epoch5:  tensor(2.5911, grad_fn=<DivBackward0>)\n",
      "loss epoch10:  tensor(2.5198, grad_fn=<DivBackward0>)\n",
      "loss epoch15:  tensor(2.4770, grad_fn=<DivBackward0>)\n",
      "loss epoch20:  tensor(2.4469, grad_fn=<DivBackward0>)\n",
      "loss epoch25:  tensor(2.4220, grad_fn=<DivBackward0>)\n",
      "loss epoch30:  tensor(2.4038, grad_fn=<DivBackward0>)\n",
      "loss epoch35:  tensor(2.3900, grad_fn=<DivBackward0>)\n",
      "loss epoch40:  tensor(2.3805, grad_fn=<DivBackward0>)\n",
      "loss epoch45:  tensor(2.3673, grad_fn=<DivBackward0>)\n",
      "loss epoch50:  tensor(2.4049, grad_fn=<DivBackward0>)\n",
      "loss epoch55:  tensor(2.4047, grad_fn=<DivBackward0>)\n",
      "loss epoch60:  tensor(2.4051, grad_fn=<DivBackward0>)\n",
      "loss epoch65:  tensor(2.4052, grad_fn=<DivBackward0>)\n",
      "loss epoch70:  tensor(2.4047, grad_fn=<DivBackward0>)\n",
      "loss epoch75:  tensor(2.4046, grad_fn=<DivBackward0>)\n",
      "loss epoch80:  tensor(2.4051, grad_fn=<DivBackward0>)\n",
      "loss epoch85:  tensor(2.4049, grad_fn=<DivBackward0>)\n",
      "loss epoch90:  tensor(2.4049, grad_fn=<DivBackward0>)\n",
      "loss epoch95:  tensor(2.4048, grad_fn=<DivBackward0>)\n"
     ]
    }
   ],
   "source": [
    "lossi=[]\n",
    "stepi = []\n",
    "for epoch in range(epochs):\n",
    "  loss_epoch=0\n",
    "  for x,y in train_loader:\n",
    "    \n",
    "    # forward pass\n",
    "    emb = C[x]\n",
    "    h = torch.tanh(emb.view(-1, 6) @ W1 + b1) #6 au lieu de 30\n",
    "    logits = h @ W2 + b2 \n",
    "    loss = F.cross_entropy(logits, y)\n",
    "    \n",
    "    # retropropagation\n",
    "    for p in parameters:\n",
    "        p.grad = None\n",
    "    loss.backward()\n",
    "    \n",
    "    # Mise à jour des poids du modèle\n",
    "    lr=lr if epoch<50 else lr*0.1\n",
    "    for p in parameters:\n",
    "        p.data += -lr * p.grad\n",
    "    loss_epoch+=loss\n",
    "  \n",
    "  loss_epoch=loss_epoch/len(train_loader)\n",
    "  if epoch%5==0:\n",
    "      print(\"loss epoch\"+str(epoch) + \": \",loss_epoch)\n",
    "  stepi.append(epoch)\n",
    "  lossi.append(loss_epoch.item())"
   ]
  },
  {
   "cell_type": "markdown",
   "metadata": {},
   "source": [
    "Comme vous le voyez, le loss est plus important car une dimension d'embedding de 2 est insuffisante pour correctement representer chaque caractère.  \n",
    "Par contre, on peut maintenant visualiser la position des mots dans l'espace latent. "
   ]
  },
  {
   "cell_type": "code",
   "execution_count": 22,
   "metadata": {},
   "outputs": [
    {
     "data": {
      "image/png": "[encoded data removed]",
      "text/plain": [
       "<Figure size 800x800 with 1 Axes>"
      ]
     },
     "metadata": {},
     "output_type": "display_data"
    }
   ],
   "source": [
    "# visualize dimensions 0 and 1 of the embedding matrix C for all characters\n",
    "plt.figure(figsize=(8,8))\n",
    "plt.scatter(C[:,0].data, C[:,1].data, s=200)\n",
    "for i in range(C.shape[0]):\n",
    "  plt.text(C[i,0].item(), C[i,1].item(), itos[i], ha=\"center\", va=\"center\", color='white')\n",
    "plt.grid('minor')"
   ]
  },
  {
   "cell_type": "markdown",
   "metadata": {},
   "source": [
    "On peut voir une tendance avec un regroupement des voyelles et un regroupement des consonnes (qui sont souvent interchangeables dans un prénom). Les caractères très rares qui n'apparaissent sans doute que très rarement dans le dataset ont des embeddings vraiment à part ('ç', 'ö', 'ë'). On peut également remarquer la proximité entre '.' et '-' ce qui est très logique quand on pense à ce qu'est un prénom composé dans la langue française.   \n",
    "Cela montre que la matrice $C$ a appris une sorte de mapping des caractères en fonction de leur proximité sémantique."
   ]
  }
 ],
 "metadata": {
  "kernelspec": {
   "display_name": "dev",
   "language": "python",
   "name": "python3"
  },
  "language_info": {
   "codemirror_mode": {
    "name": "ipython",
    "version": 3
   },
   "file_extension": ".py",
   "mimetype": "text/x-python",
   "name": "python",
   "nbconvert_exporter": "python",
   "pygments_lexer": "ipython3",
   "version": "3.1.-1"
  }
 },
 "nbformat": 4,
 "nbformat_minor": 2
}
