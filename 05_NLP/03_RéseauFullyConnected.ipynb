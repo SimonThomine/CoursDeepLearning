{
 "cells": [
  {
   "cell_type": "markdown",
   "metadata": {},
   "source": [
    "# Réseau fully connected"
   ]
  },
  {
   "cell_type": "markdown",
   "metadata": {},
   "source": [
    "## Architecture"
   ]
  },
  {
   "cell_type": "markdown",
   "metadata": {},
   "source": [
    "Dans les cours précédents (cours 2), nous avons construits des réseau de neurons fully connected pour des problèmes de classification. Ici, nous avons à faire à un problème de prédiction et nos données sont discrètes.  "
   ]
  },
  {
   "cell_type": "markdown",
   "metadata": {},
   "source": [
    "### Inspiration"
   ]
  },
  {
   "cell_type": "markdown",
   "metadata": {},
   "source": [
    "Le réseau construit dans ce notebook est basé sur l'article [\"A Neural Probabilistic Language Model\"](https://www.jmlr.org/papers/volume3/bengio03a/bengio03a.pdf).  \n",
    "Voici à quoi ressemble l'architecture de ce réseau :   \n",
    "<img src=\"images/bengio.png\" alt=\"bengio\" width=\"400\"/>  \n",
    "Figure extraite de l'article original."
   ]
  },
  {
   "cell_type": "markdown",
   "metadata": {},
   "source": [
    "L'article original est utilisé en prenant des mots en entrée et en prédisant un mot. Dans notre cas, nous allons utiliser les caractères comme dans le notebook précédent.  \n",
    "**Matrice d'embedding $C$** : Ce qu'on remarque à première vue dans le réseau c'est la présence d'une matrice $C$ qui va encoder le mot (ou le caractère dans un espace latent). C'est une pratique presque systématiquement utilisé en NLP car cela permet de rapprocher les mots \"similaires\" dans l'espace latent.  \n",
    "Par exemple, dans la plupart des phrases on pourrait interchanger les mots \"chien\" et \"chat\", ce qui signifie que ces mots vont avoir une representation proche dans l'espace latent tandis que les mots \"chien\" et \"est\" ne vont pas avoir une representation proche.   \n",
    "**Reste du réseau** : Le reste du réseau est plus classique, il prend en entrée la concatenation des embeddings de chaque mot (ou caractère) et prédit un mot (ou caractère en sortie)."
   ]
  },
  {
   "cell_type": "markdown",
   "metadata": {},
   "source": [
    "Le modèle de l'article est entraîné par minimisation du negative log likelihood (comme ce que nous avons fait dans le notebook précédent avec le modèle bigramme)."
   ]
  },
  {
   "cell_type": "markdown",
   "metadata": {},
   "source": [
    "### Notre approche"
   ]
  },
  {
   "cell_type": "markdown",
   "metadata": {},
   "source": [
    "Dans l'article, ils utilisent 3 mots pour prédire le 4ème mot. Nous allons nous baser sur le même principe et prédire le 4ème caractère à partir des 3 caractères précédents.  \n",
    "La dimension de l'espace latent utilisé dans l'article est 30 pour un dictionnaire contenant 17 000 mots distincts. Comme nous avons 46 caracactères, prenons une dimension d'embedding de 10 assez arbitrairement."
   ]
  },
  {
   "cell_type": "markdown",
   "metadata": {},
   "source": [
    "## Implémentation "
   ]
  },
  {
   "cell_type": "markdown",
   "metadata": {},
   "source": [
    "Commençons par reconstruire nos listes stoi et itos du notebook précédent : "
   ]
  },
  {
   "cell_type": "code",
   "execution_count": 9,
   "metadata": {},
   "outputs": [],
   "source": [
    "import torch\n",
    "import torch.nn.functional as F\n",
    "import matplotlib.pyplot as plt\n",
    "from torch.utils.data import TensorDataset, DataLoader, random_split\n",
    "%matplotlib inline"
   ]
  },
  {
   "cell_type": "code",
   "execution_count": 3,
   "metadata": {},
   "outputs": [],
   "source": [
    "words = open('prenoms.txt', 'r').read().splitlines()\n",
    "chars = sorted(list(set(''.join(words))))\n",
    "stoi = {s:i+1 for i,s in enumerate(chars)}\n",
    "stoi['.'] = 0\n",
    "itos = {i:s for s,i in stoi.items()}"
   ]
  },
  {
   "cell_type": "markdown",
   "metadata": {},
   "source": [
    "### Dataset et dataloader"
   ]
  },
  {
   "cell_type": "markdown",
   "metadata": {},
   "source": [
    "Construisons notre dataset qui va être un peu différent car les entrées seront au nombre de 3 au lieu de une. "
   ]
  },
  {
   "cell_type": "code",
   "execution_count": 6,
   "metadata": {},
   "outputs": [
    {
     "name": "stdout",
     "output_type": "stream",
     "text": [
      "... ---> M\n",
      "..M ---> A\n",
      ".MA ---> R\n",
      "MAR ---> I\n",
      "ARI ---> E\n",
      "RIE ---> .\n",
      "... ---> J\n",
      "..J ---> E\n",
      ".JE ---> A\n",
      "JEA ---> N\n",
      "EAN ---> .\n"
     ]
    }
   ],
   "source": [
    "block_size = 3 # La longueur du contexte, combien de caractères pour prédire le suivant ?\n",
    "X, Y = [], []\n",
    "for k,w in enumerate(words):\n",
    "  \n",
    "  context = [0] * block_size\n",
    "  for ch in w + '.':\n",
    "    ix = stoi[ch]\n",
    "    X.append(context)\n",
    "    Y.append(ix)\n",
    "    if (k<2): ## On affiche ce à quoi ressemble le dataset pour les deux premiers mots\n",
    "        print(''.join(itos[i] for i in context), '--->', itos[ix])\n",
    "    context = context[1:] + [ix] # crop and append"
   ]
  },
  {
   "cell_type": "code",
   "execution_count": 8,
   "metadata": {},
   "outputs": [
    {
     "name": "stdout",
     "output_type": "stream",
     "text": [
      "torch.Size([226325, 3]) torch.int64 torch.Size([226325]) torch.int64\n"
     ]
    },
    {
     "name": "stderr",
     "output_type": "stream",
     "text": [
      "/tmp/ipykernel_261819/4009735651.py:1: UserWarning: To copy construct from a tensor, it is recommended to use sourceTensor.clone().detach() or sourceTensor.clone().detach().requires_grad_(True), rather than torch.tensor(sourceTensor).\n",
      "  X = torch.tensor(X)\n",
      "/tmp/ipykernel_261819/4009735651.py:2: UserWarning: To copy construct from a tensor, it is recommended to use sourceTensor.clone().detach() or sourceTensor.clone().detach().requires_grad_(True), rather than torch.tensor(sourceTensor).\n",
      "  Y = torch.tensor(Y)\n"
     ]
    }
   ],
   "source": [
    "X = torch.tensor(X)\n",
    "Y = torch.tensor(Y)\n",
    "print(X.shape, X.dtype, Y.shape, Y.dtype)"
   ]
  },
  {
   "cell_type": "markdown",
   "metadata": {},
   "source": [
    "On va maintenant utiliser pytorch pour construire nos dataset de training, validation et test."
   ]
  },
  {
   "cell_type": "code",
   "execution_count": 12,
   "metadata": {},
   "outputs": [
    {
     "name": "stdout",
     "output_type": "stream",
     "text": [
      "Taille du dataset de training :  181060\n",
      "Taille du dataset de validation :  22632\n",
      "Taille du dataset de test :  22633\n"
     ]
    }
   ],
   "source": [
    "dataset=TensorDataset(X, Y)\n",
    "train_size = int(0.8 * len(dataset))\n",
    "val_size = int(0.1 * len(dataset))\n",
    "test_size = len(dataset) - train_size - val_size\n",
    "train_dataset, val_dataset, test_dataset = random_split(TensorDataset(X, Y),[train_size, val_size, test_size])\n",
    "print(\"Taille du dataset de training : \",len(train_dataset))\n",
    "print(\"Taille du dataset de validation : \",len(val_dataset))\n",
    "print(\"Taille du dataset de test : \",len(test_dataset))"
   ]
  },
  {
   "cell_type": "markdown",
   "metadata": {},
   "source": [
    "Et on va créer nos dataloaders pour l'optimisation par mini-batch."
   ]
  },
  {
   "cell_type": "code",
   "execution_count": 25,
   "metadata": {},
   "outputs": [],
   "source": [
    "train_loader = DataLoader(train_dataset, batch_size=256, shuffle=True)\n",
    "val_loader = DataLoader(val_dataset, batch_size=256, shuffle=False)\n",
    "test_loader = DataLoader(test_dataset, batch_size=256, shuffle=False)"
   ]
  },
  {
   "cell_type": "markdown",
   "metadata": {},
   "source": [
    "### Couches du réseau "
   ]
  },
  {
   "cell_type": "markdown",
   "metadata": {},
   "source": [
    "Pour comprendre en profondeur le réseau que l'on construit ici, nous n'utiliserons pas les fonctions nn.Linear() de pytorch pour la construction des couches.   \n",
    "On va commencer par définir le nombre de neurones des différentes couches."
   ]
  },
  {
   "cell_type": "code",
   "execution_count": 27,
   "metadata": {},
   "outputs": [],
   "source": [
    "embed_dim=10 # Dimension de l'embedding de C\n",
    "hidden_dim=200 # Dimension de la couche cachée"
   ]
  },
  {
   "cell_type": "markdown",
   "metadata": {},
   "source": [
    "Construisons notre matrice $C$ d'embedding (qui a des paramètres apprenables)."
   ]
  },
  {
   "cell_type": "code",
   "execution_count": 94,
   "metadata": {},
   "outputs": [
    {
     "data": {
      "text/plain": [
       "torch.Size([226325, 3, 10])"
      ]
     },
     "execution_count": 94,
     "metadata": {},
     "output_type": "execute_result"
    }
   ],
   "source": [
    "C = torch.randn((46, embed_dim))\n",
    "C[X].shape"
   ]
  },
  {
   "cell_type": "markdown",
   "metadata": {},
   "source": [
    "En appelant C[X], grâce au formidable [indexing de pytorch](http://blog.ezyang.com/2019/05/pytorch-internals/). On obtient les valeurs d'embedding de chacun des 3 caractères de nos 226325 exemples."
   ]
  },
  {
   "cell_type": "markdown",
   "metadata": {},
   "source": [
    "On peut maintenant créer nos couches cachées $W_1$ et $W_2$ ainsi que leurs biais $b_1$ et $b_2$."
   ]
  },
  {
   "cell_type": "code",
   "execution_count": 95,
   "metadata": {},
   "outputs": [
    {
     "name": "stdout",
     "output_type": "stream",
     "text": [
      "Nombre de paramètres du modèle :  15906\n"
     ]
    }
   ],
   "source": [
    "W1 = torch.randn((block_size*embed_dim, hidden_dim))\n",
    "b1 = torch.randn(hidden_dim)\n",
    "W2 = torch.randn((hidden_dim, 46))\n",
    "b2 = torch.randn(46)\n",
    "parameters = [C, W1, b1, W2, b2]\n",
    "print(\"Nombre de paramètres du modèle : \",sum(p.nelement() for p in parameters))"
   ]
  },
  {
   "cell_type": "markdown",
   "metadata": {},
   "source": [
    "Pour pouvoir entraîner ces couches, il faut activer le paramètre requires_grad de pytorch."
   ]
  },
  {
   "cell_type": "code",
   "execution_count": 96,
   "metadata": {},
   "outputs": [],
   "source": [
    "for p in parameters:\n",
    "  p.requires_grad = True"
   ]
  },
  {
   "cell_type": "markdown",
   "metadata": {},
   "source": [
    "### Comment trouver le bon learning rate ?"
   ]
  },
  {
   "cell_type": "markdown",
   "metadata": {},
   "source": [
    "Le choix du learning rate est très important lors de l'entraînement d'un réseau de neurones et c'est souvent difficile de savoir quelle valeur choisir avant d'avoir fait des tests.   \n",
    "Une bonne façon de choisir le learning rate est la suivante :   \n",
    "On construit une liste de 1000 valeurs entre -3 et 0 puis on prend $10^{valeur}$ pour chaque valeur\n",
    "Cela va nous donner une liste de valeurs entre $10^{-3} = 0.001$ et $10^{0}=1$ qui sont un panel de valeurs potentielles pour notre learning rate."
   ]
  },
  {
   "cell_type": "code",
   "execution_count": 68,
   "metadata": {},
   "outputs": [],
   "source": [
    "lre = torch.linspace(-3, 0, 1000)\n",
    "lrs = 10**lre"
   ]
  },
  {
   "cell_type": "markdown",
   "metadata": {},
   "source": [
    "On va ensuite tracker les valeurs de loss en fonction du learning rate sur l'ensemble de nos valeurs sur l'entraînement."
   ]
  },
  {
   "cell_type": "code",
   "execution_count": 71,
   "metadata": {},
   "outputs": [],
   "source": [
    "lri = []\n",
    "lossi = []\n",
    "count=0\n",
    "while count<999:\n",
    "    for x,y in train_loader:\n",
    "        count+=1\n",
    "        if count==999:\n",
    "            break\n",
    "        # forward pass\n",
    "        emb = C[x]\n",
    "        h = torch.tanh(emb.view(-1, 30) @ W1 + b1)\n",
    "        logits = h @ W2 + b2 \n",
    "        loss = F.cross_entropy(logits, y)\n",
    "        \n",
    "        # retropropagation\n",
    "        for p in parameters:\n",
    "            p.grad = None\n",
    "        loss.backward()\n",
    "        \n",
    "        # Mise à jour des poids du modèle\n",
    "        lr = lrs[count]\n",
    "        for p in parameters:\n",
    "            p.data += -lr * p.grad\n",
    "\n",
    "        lri.append(lre[count])\n",
    "        lossi.append(loss.log10().item())"
   ]
  },
  {
   "cell_type": "code",
   "execution_count": 72,
   "metadata": {},
   "outputs": [
    {
     "data": {
      "text/plain": [
       "[<matplotlib.lines.Line2D at 0x7081f0ef1550>]"
      ]
     },
     "execution_count": 72,
     "metadata": {},
     "output_type": "execute_result"
    },
    {
     "data": {
      "image/png": "[encoded data removed]",
      "text/plain": [
       "<Figure size 640x480 with 1 Axes>"
      ]
     },
     "metadata": {},
     "output_type": "display_data"
    }
   ],
   "source": [
    "plt.plot(lri, lossi)\n"
   ]
  },
  {
   "cell_type": "markdown",
   "metadata": {},
   "source": [
    "Avec cette courbe, on peut déduire qu'une bonne valeur de learning rate se situe aux alentours de $10^{-1}$ et $10^{-0.5}$.  \n",
    "On va donc choisir un learning rate de 0.2 que l'on diminuera au cours de l'entraînement (pratique courante pour une convergence rapide et un optimisation précise sur la fin de l'entraînement)."
   ]
  },
  {
   "cell_type": "markdown",
   "metadata": {},
   "source": [
    "### Point sur la tangente hyperbolique"
   ]
  },
  {
   "cell_type": "markdown",
   "metadata": {},
   "source": [
    "Dans notre optimisation, nous avons utilisé la fonction tangente hyperbolique comme fonction d'activation. Il s'agit d'une fonction d'activation qui est assez souvent utilisé à la place de ReLU ou de sigmoïde.   \n",
    "Elle est définie de la manière suivante :   \n",
    "$\\tanh(x) = \\frac{\\sinh(x)}{\\cosh(x)} = \\frac{e^x - e^{-x}}{e^x + e^{-x}}$  \n",
    "Et on peut la visualiser en python : "
   ]
  },
  {
   "cell_type": "code",
   "execution_count": 75,
   "metadata": {},
   "outputs": [
    {
     "data": {
      "image/png": "[encoded data removed]",
      "text/plain": [
       "<Figure size 400x300 with 1 Axes>"
      ]
     },
     "metadata": {},
     "output_type": "display_data"
    }
   ],
   "source": [
    "import numpy as np\n",
    "x = np.linspace(-10, 10, 400)\n",
    "\n",
    "y = np.tanh(x)\n",
    "\n",
    "plt.figure(figsize=(4, 3))\n",
    "plt.plot(x, y, label='tanh(x)')\n",
    "plt.title('Tangente Hyperbolique')\n",
    "plt.xlabel('x')\n",
    "plt.ylabel('tanh(x)')\n",
    "plt.grid(True)\n",
    "plt.legend()\n",
    "plt.show()"
   ]
  },
  {
   "cell_type": "markdown",
   "metadata": {},
   "source": [
    "### Optimisation du réseau "
   ]
  },
  {
   "cell_type": "markdown",
   "metadata": {},
   "source": [
    "Passons maintenant à l'optimisation de notre réseau. Définissons nos hyperparamètres : "
   ]
  },
  {
   "cell_type": "code",
   "execution_count": 82,
   "metadata": {},
   "outputs": [],
   "source": [
    "lr=0.2\n",
    "epochs=20"
   ]
  },
  {
   "cell_type": "code",
   "execution_count": 97,
   "metadata": {},
   "outputs": [],
   "source": [
    "stepi = []\n",
    "for epoch in range(epochs):\n",
    "    loss_epoch=0\n",
    "    for x,y in train_loader:\n",
    "      \n",
    "        # forward pass\n",
    "        emb = C[x]\n",
    "        h = torch.tanh(emb.view(-1, 30) @ W1 + b1)\n",
    "        logits = h @ W2 + b2 \n",
    "        loss = F.cross_entropy(logits, y)\n",
    "        \n",
    "        # retropropagation\n",
    "        for p in parameters:\n",
    "            p.grad = None\n",
    "        loss.backward()\n",
    "        \n",
    "        # Mise à jour des poids du modèle\n",
    "        lr=lr if epoch<50 else lr*0.1\n",
    "        for p in parameters:\n",
    "            p.data += -lr * p.grad\n",
    "        loss_epoch+=loss\n",
    "    loss_epoch=loss_epoch/len(train_loader)\n",
    "    stepi.append(epoch)\n",
    "    lossi.append(loss_epoch.detach().item())\n",
    "    "
   ]
  },
  {
   "cell_type": "code",
   "execution_count": 93,
   "metadata": {},
   "outputs": [
    {
     "ename": "AttributeError",
     "evalue": "'list' object has no attribute 'numpy'",
     "output_type": "error",
     "traceback": [
      "\u001b[0;31m---------------------------------------------------------------------------\u001b[0m",
      "\u001b[0;31mAttributeError\u001b[0m                            Traceback (most recent call last)",
      "Cell \u001b[0;32mIn[93], line 1\u001b[0m\n\u001b[0;32m----> 1\u001b[0m plt\u001b[38;5;241m.\u001b[39mplot(stepi, \u001b[43mlossi\u001b[49m\u001b[38;5;241;43m.\u001b[39;49m\u001b[43mnumpy\u001b[49m())\n",
      "\u001b[0;31mAttributeError\u001b[0m: 'list' object has no attribute 'numpy'"
     ]
    }
   ],
   "source": [
    "plt.plot(stepi, lossi)"
   ]
  },
  {
   "cell_type": "code",
   "execution_count": null,
   "metadata": {},
   "outputs": [],
   "source": []
  }
 ],
 "metadata": {
  "kernelspec": {
   "display_name": "dev",
   "language": "python",
   "name": "python3"
  },
  "language_info": {
   "codemirror_mode": {
    "name": "ipython",
    "version": 3
   },
   "file_extension": ".py",
   "mimetype": "text/x-python",
   "name": "python",
   "nbconvert_exporter": "python",
   "pygments_lexer": "ipython3",
   "version": "3.11.8"
  }
 },
 "nbformat": 4,
 "nbformat_minor": 2
}
