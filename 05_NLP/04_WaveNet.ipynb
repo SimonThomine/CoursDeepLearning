{
 "cells": [
  {
   "cell_type": "markdown",
   "metadata": {},
   "source": [
    "# Pytorch et WaveNet"
   ]
  },
  {
   "cell_type": "markdown",
   "metadata": {},
   "source": [
    "Dans ce cours, nous allons nous nous inspire de l'architecture du modèle [wavenet](https://deepmind.google/discover/blog/wavenet-a-generative-model-for-raw-audio/)  proposé par google deepmind pour le traitement de l'audio.  \n",
    "Notre but dans ce cours est prendre plus de caractères pour le contexte de notre prédicteur du prochain mot.  \n",
    "Le cours commence par la transformation du cours précédent avec les fonctions de pytorch. "
   ]
  },
  {
   "cell_type": "markdown",
   "metadata": {},
   "source": [
    "## Architecture "
   ]
  },
  {
   "cell_type": "markdown",
   "metadata": {},
   "source": [
    "L'architecture d'un WaveNet est une architecture hierarchique qui accorde plus de poids aux éléments de contexte les plus proches.   \n",
    "Voici à quoi ressemble l'architecture  :   \n",
    "<img src=\"images/wavenet.png\" alt=\"bengio\" width=\"600\"/>    \n",
    "Figure extraite de l'article original.\n",
    "\n"
   ]
  },
  {
   "cell_type": "markdown",
   "metadata": {},
   "source": [
    "## Implémentation du modèle fully connected avec pytorch"
   ]
  },
  {
   "cell_type": "markdown",
   "metadata": {},
   "source": [
    "### Dataset"
   ]
  },
  {
   "cell_type": "markdown",
   "metadata": {},
   "source": [
    "Reprenons le code du notebook précédent pour la génération du dataset. "
   ]
  },
  {
   "cell_type": "code",
   "execution_count": 86,
   "metadata": {},
   "outputs": [],
   "source": [
    "import torch\n",
    "import torch.nn.functional as F\n",
    "import matplotlib.pyplot as plt # for making figures\n",
    "from torch.utils.data import TensorDataset, DataLoader, random_split\n",
    "\n",
    "%matplotlib inline"
   ]
  },
  {
   "cell_type": "code",
   "execution_count": 87,
   "metadata": {},
   "outputs": [
    {
     "name": "stdout",
     "output_type": "stream",
     "text": [
      "['MARIE', 'JEAN', 'PIERRE', 'MICHEL', 'ANDRÉ', 'JEANNE', 'PHILIPPE', 'LOUIS']\n"
     ]
    }
   ],
   "source": [
    "# Lecture du dataset\n",
    "words = open('prenoms.txt', 'r').read().splitlines()\n",
    "print(words[:8])"
   ]
  },
  {
   "cell_type": "code",
   "execution_count": 88,
   "metadata": {},
   "outputs": [],
   "source": [
    "words = open('prenoms.txt', 'r').read().splitlines()\n",
    "chars = sorted(list(set(''.join(words))))\n",
    "stoi = {s:i+1 for i,s in enumerate(chars)}\n",
    "stoi['.'] = 0\n",
    "itos = {i:s for s,i in stoi.items()}"
   ]
  },
  {
   "cell_type": "markdown",
   "metadata": {},
   "source": [
    "Pour changer, augmentons le contexte en le passant de 3 à 8. Cela nous donnera un indicateur de performance car nous utiliserons aussi 8 pour notre WaveNet."
   ]
  },
  {
   "cell_type": "code",
   "execution_count": 89,
   "metadata": {},
   "outputs": [],
   "source": [
    "block_size = 8 # La longueur du contexte, combien de caractères pour prédire le suivant ?\n",
    "X, Y = [], []\n",
    "for k,w in enumerate(words):\n",
    "  \n",
    "  context = [0] * block_size\n",
    "  for ch in w + '.':\n",
    "    ix = stoi[ch]\n",
    "    X.append(context)\n",
    "    Y.append(ix)\n",
    "    context = context[1:] + [ix] \n",
    "X = torch.tensor(X)\n",
    "Y = torch.tensor(Y)"
   ]
  },
  {
   "cell_type": "code",
   "execution_count": 90,
   "metadata": {},
   "outputs": [],
   "source": [
    "dataset=TensorDataset(X, Y)\n",
    "train_size = int(0.8 * len(dataset))\n",
    "val_size = int(0.1 * len(dataset))\n",
    "test_size = len(dataset) - train_size - val_size\n",
    "train_dataset, val_dataset, test_dataset = random_split(TensorDataset(X, Y),[train_size, val_size, test_size])\n",
    "train_loader = DataLoader(train_dataset, batch_size=256, shuffle=True)\n",
    "val_loader = DataLoader(val_dataset, batch_size=256, shuffle=False)\n",
    "test_loader = DataLoader(test_dataset, batch_size=256, shuffle=False)"
   ]
  },
  {
   "cell_type": "markdown",
   "metadata": {},
   "source": [
    "### Création du modèle et entraînement"
   ]
  },
  {
   "cell_type": "markdown",
   "metadata": {},
   "source": [
    "Pour commencer, nous allons réimplementer le modèle du notebook précédent mais avec pytorch. Cela nous permettra également d'ajouter d'autres couches utiles comme la batch norm et d'autres fonctions d'activation. "
   ]
  },
  {
   "cell_type": "code",
   "execution_count": 91,
   "metadata": {},
   "outputs": [],
   "source": [
    "import torch \n",
    "import torch.nn as nn\n",
    "import torch.nn.functional as F"
   ]
  },
  {
   "cell_type": "code",
   "execution_count": 95,
   "metadata": {},
   "outputs": [],
   "source": [
    "class fcn(nn.Module):\n",
    "    def __init__(self,embed_dim=10,context_len=8,hidden_dim=300, *args, **kwargs) -> None:\n",
    "        super().__init__(*args, **kwargs)\n",
    "        self.embed_dim=embed_dim\n",
    "        self.context_len=context_len\n",
    "        \n",
    "        #La fonction nn.Embedding de pytorch est l'équivalent de la matrice C \n",
    "        self.embedding=nn.Embedding(46,embed_dim)\n",
    "        self.layer1=nn.Linear(embed_dim*context_len,hidden_dim)\n",
    "        self.layer2=nn.Linear(hidden_dim,46)\n",
    "    \n",
    "    def forward(self,x):       \n",
    "        embed=self.embedding(x) # Remplace la matrice C\n",
    "        embed=embed.view(-1,self.embed_dim*self.context_len)\n",
    "        hidden=F.tanh(self.layer1(embed))\n",
    "        logits=self.layer2(hidden)\n",
    "        return logits\n"
   ]
  },
  {
   "cell_type": "code",
   "execution_count": 96,
   "metadata": {},
   "outputs": [],
   "source": [
    "model=fcn(context_len=8)\n",
    "epochs=40\n",
    "lr=0.2\n",
    "optimizer=torch.optim.SGD(model.parameters(),lr=lr)\n",
    "for p in model.parameters():\n",
    "  p.requires_grad = True"
   ]
  },
  {
   "cell_type": "code",
   "execution_count": 97,
   "metadata": {},
   "outputs": [
    {
     "name": "stdout",
     "output_type": "stream",
     "text": [
      "loss epoch0:  tensor(2.5331, grad_fn=<DivBackward0>)\n",
      "loss epoch5:  tensor(2.1632, grad_fn=<DivBackward0>)\n",
      "loss epoch10:  tensor(2.0618, grad_fn=<DivBackward0>)\n",
      "loss epoch15:  tensor(2.0000, grad_fn=<DivBackward0>)\n",
      "loss epoch20:  tensor(1.9553, grad_fn=<DivBackward0>)\n",
      "loss epoch25:  tensor(1.9247, grad_fn=<DivBackward0>)\n",
      "loss epoch30:  tensor(1.9014, grad_fn=<DivBackward0>)\n",
      "loss epoch35:  tensor(1.8844, grad_fn=<DivBackward0>)\n"
     ]
    }
   ],
   "source": [
    "lossi=[]\n",
    "stepi = []\n",
    "for epoch in range(epochs):\n",
    "    loss_epoch=0\n",
    "    for x,y in train_loader:\n",
    "      \n",
    "        # forward pass\n",
    "        logits=model(x)\n",
    "        loss = F.cross_entropy(logits, y)\n",
    "        \n",
    "        # retropropagation\n",
    "        optimizer.zero_grad()\n",
    "        loss.backward()\n",
    "        optimizer.step()\n",
    "        # Mise à jour des poids du modèle\n",
    "\n",
    "        loss_epoch+=loss\n",
    "    \n",
    "    loss_epoch=loss_epoch/len(train_loader)\n",
    "    if epoch%5==0:\n",
    "        print(\"loss epoch\"+str(epoch) + \": \",loss_epoch)\n",
    "    stepi.append(epoch)\n",
    "    lossi.append(loss_epoch.item())"
   ]
  },
  {
   "cell_type": "code",
   "execution_count": 98,
   "metadata": {},
   "outputs": [
    {
     "name": "stdout",
     "output_type": "stream",
     "text": [
      "tensor(2.0859, grad_fn=<DivBackward0>)\n"
     ]
    }
   ],
   "source": [
    "# On annule le calcul des gradients car on n'est plus en phase d'entraînement.\n",
    "model.eval()\n",
    "loss_test=0\n",
    "for x,y in test_loader:\n",
    "      \n",
    "    # forward pass\n",
    "    logits=model(x)\n",
    "    loss = F.cross_entropy(logits, y)\n",
    "        \n",
    "    loss_test+=loss\n",
    "loss_test=loss_test/len(test_loader)\n",
    "print(loss_test)"
   ]
  },
  {
   "cell_type": "markdown",
   "metadata": {},
   "source": [
    "Le loss de test est un peu supérieur au loss de train donc le modèle a un peu overfit mais ça reste léger et on a encore de la marge pour augmenter les capacités du réseau.\n",
    "On peut maintenant vérifier la qualité de la génération de prénoms."
   ]
  },
  {
   "cell_type": "code",
   "execution_count": 103,
   "metadata": {},
   "outputs": [
    {
     "name": "stdout",
     "output_type": "stream",
     "text": [
      "KARONE.\n",
      "NAISZ.\n",
      "KILSEBARDE.\n",
      "NOËRLINE.\n",
      "REYIANA.\n"
     ]
    }
   ],
   "source": [
    "for _ in range(5):\n",
    "    out = []\n",
    "    context = [0] * block_size \n",
    "    while True:\n",
    "      logits=model(torch.tensor([context]))\n",
    "      probs = F.softmax(logits, dim=1)\n",
    "      ix = torch.multinomial(probs, num_samples=1).item()\n",
    "      context = context[1:] + [ix]\n",
    "      out.append(ix)\n",
    "      if ix == 0:\n",
    "        break\n",
    "    \n",
    "    print(''.join(itos[i] for i in out))"
   ]
  },
  {
   "cell_type": "markdown",
   "metadata": {},
   "source": [
    "Les prénoms générés sont correctes mais améliorables.  \n",
    "Voyons voir si on peut obtenir un meilleur loss sur les données de test avec l'approche WaveNet."
   ]
  },
  {
   "cell_type": "markdown",
   "metadata": {},
   "source": [
    "## Implémentation du WaveNet avec pytorch"
   ]
  },
  {
   "cell_type": "markdown",
   "metadata": {},
   "source": [
    "Le dataset est le même que pour la partie précédente, pas besoin de changer quoi que ce soit."
   ]
  },
  {
   "cell_type": "markdown",
   "metadata": {},
   "source": [
    "### Comment gérer l'architecture hierarchique"
   ]
  },
  {
   "cell_type": "markdown",
   "metadata": {},
   "source": [
    "Ce qu'on veut dans notre modèle c'est traîter en parallele des groupes de d'embedding en regroupant les caractères consécutifs.   \n",
    "Sur pytorch, si on fait passer un tenseur de taille $B \\times L \\times C$ dans une couche linéaire de taille $C \\times H$, on obtient un tenseur de taille $B \\times L \\times H$ et c'est exactement ce que l'on veut pour implémenter le réseau wavenet."
   ]
  },
  {
   "cell_type": "markdown",
   "metadata": {},
   "source": [
    "Maintenant, il faut trouver comment modifier la taille du tenseur pour faire les opérations du wavenet. Nos 8 embeddings sont regroupés par deux puis traités en parralèles, à la prochaine couches, on regroupe à nouveau par deux. Donc à chaque étape, on double la taille $H$ (ou $C$) et on divise par deux $L$.   \n",
    "Pour être plus clair, au début nous avons un tenseur de taille $B \\times 8 \\times 10$ que l'on veut transformer en tenseur de taille $B \\times 4 \\times 20$   \n",
    "On peut implémenter ça avec view() de pytorch."
   ]
  },
  {
   "cell_type": "code",
   "execution_count": 133,
   "metadata": {},
   "outputs": [
    {
     "name": "stdout",
     "output_type": "stream",
     "text": [
      "torch.Size([256, 4, 20])\n"
     ]
    }
   ],
   "source": [
    "dummy=torch.randn([256,8,10])\n",
    "# On divise par deux L et on double H/C\n",
    "dummy=dummy.view(-1,dummy.shape[1]//2,dummy.shape[2]*2)\n",
    "print(dummy.shape)"
   ]
  },
  {
   "cell_type": "markdown",
   "metadata": {},
   "source": [
    "Essayons de formaliser ça avec une couche que l'on pourra utiliser dans notre réseau : "
   ]
  },
  {
   "cell_type": "code",
   "execution_count": null,
   "metadata": {},
   "outputs": [],
   "source": [
    "class FlattenConsecutive:\n",
    "  # n est le facteur de regroupement (toujours 2 pour nous)\n",
    "  def __init__(self, n):\n",
    "    self.n = n   \n",
    "  def __call__(self, x):\n",
    "    # On récupère les dimensions de l'entrée\n",
    "    B, T, C = x.shape \n",
    "    # On fait la transformation x2 et /2\n",
    "    x = x.view(B, T//self.n, C*self.n)\n",
    "\n",
    "    if x.shape[1] == 1: \n",
    "      x = x.squeeze(1) # Si le tensor a une dimension qui vaut 1, on la supprime\n",
    "    self.out = x\n",
    "    return self.out\n",
    "  def parameters(self):\n",
    "    return []"
   ]
  },
  {
   "cell_type": "markdown",
   "metadata": {},
   "source": [
    "### Création du modèle"
   ]
  },
  {
   "cell_type": "code",
   "execution_count": 119,
   "metadata": {},
   "outputs": [],
   "source": [
    "class wavenet(nn.Module):\n",
    "    def __init__(self,embed_dim=10,len_context=8,len_hidden=128, *args, **kwargs) -> None:\n",
    "        super().__init__(*args, **kwargs)\n",
    "        self.len_context=len_context\n",
    "        self.embed_dim=embed_dim\n",
    "        self.len_hidden=len_hidden\n",
    "        # TODO sequential sur tout \n",
    "        self.embedding=nn.Embedding(46,embed_dim)\n",
    "        self.layer1=nn.Sequential(\n",
    "            nn.Linear(embed_dim*2,len_hidden,bias=False),\n",
    "            nn.Tanh()\n",
    "            )\n",
    "        self.layer2=nn.Sequential(\n",
    "            nn.Linear(len_hidden*2,len_hidden),\n",
    "            nn.Tanh()\n",
    "            )\n",
    "        self.layer3=nn.Sequential(\n",
    "            nn.Linear(len_hidden*2,len_hidden),\n",
    "            nn.Tanh()\n",
    "            )\n",
    "\n",
    "        self.linear=nn.Linear(len_hidden,46)\n",
    "\n",
    "    def forward(self,x):\n",
    "        x=self.embedding(x)\n",
    "        x=x.view(-1,self.len_context//2,x.shape[-1]*2)\n",
    "        x=self.layer1(x)\n",
    "        x=x.view(-1,self.len_context//4,self.len_hidden*2)\n",
    "        x=self.layer2(x)\n",
    "        x=x.view(-1,self.len_hidden*2)\n",
    "        x=self.layer3(x)\n",
    "        logits=self.linear(x)\n",
    "        return logits\n"
   ]
  },
  {
   "cell_type": "code",
   "execution_count": 120,
   "metadata": {},
   "outputs": [],
   "source": [
    "model=wavenet()\n",
    "epochs=40\n",
    "lr=0.2\n",
    "optimizer=torch.optim.SGD(model.parameters(),lr=lr)\n",
    "for p in model.parameters():\n",
    "  p.requires_grad = True"
   ]
  },
  {
   "cell_type": "code",
   "execution_count": 131,
   "metadata": {},
   "outputs": [
    {
     "name": "stdout",
     "output_type": "stream",
     "text": [
      "loss epoch0:  tensor(1.7468, grad_fn=<DivBackward0>)\n"
     ]
    },
    {
     "ename": "KeyboardInterrupt",
     "evalue": "",
     "output_type": "error",
     "traceback": [
      "\u001b[0;31m---------------------------------------------------------------------------\u001b[0m",
      "\u001b[0;31mKeyboardInterrupt\u001b[0m                         Traceback (most recent call last)",
      "Cell \u001b[0;32mIn[131], line 7\u001b[0m\n\u001b[1;32m      5\u001b[0m loss_epoch\u001b[38;5;241m=\u001b[39m\u001b[38;5;241m0\u001b[39m\n\u001b[1;32m      6\u001b[0m \u001b[38;5;28;01mfor\u001b[39;00m x,y \u001b[38;5;129;01min\u001b[39;00m train_loader:\n\u001b[0;32m----> 7\u001b[0m   logits\u001b[38;5;241m=\u001b[39m\u001b[43mmodel\u001b[49m\u001b[43m(\u001b[49m\u001b[43mx\u001b[49m\u001b[43m)\u001b[49m\n\u001b[1;32m      8\u001b[0m   loss \u001b[38;5;241m=\u001b[39m F\u001b[38;5;241m.\u001b[39mcross_entropy(logits, y)\n\u001b[1;32m      9\u001b[0m   \u001b[38;5;66;03m# retropropagation\u001b[39;00m\n",
      "File \u001b[0;32m~/Documents/CoursDeepLearning/.conda/lib/python3.11/site-packages/torch/nn/modules/module.py:1532\u001b[0m, in \u001b[0;36mModule._wrapped_call_impl\u001b[0;34m(self, *args, **kwargs)\u001b[0m\n\u001b[1;32m   1530\u001b[0m     \u001b[38;5;28;01mreturn\u001b[39;00m \u001b[38;5;28mself\u001b[39m\u001b[38;5;241m.\u001b[39m_compiled_call_impl(\u001b[38;5;241m*\u001b[39margs, \u001b[38;5;241m*\u001b[39m\u001b[38;5;241m*\u001b[39mkwargs)  \u001b[38;5;66;03m# type: ignore[misc]\u001b[39;00m\n\u001b[1;32m   1531\u001b[0m \u001b[38;5;28;01melse\u001b[39;00m:\n\u001b[0;32m-> 1532\u001b[0m     \u001b[38;5;28;01mreturn\u001b[39;00m \u001b[38;5;28;43mself\u001b[39;49m\u001b[38;5;241;43m.\u001b[39;49m\u001b[43m_call_impl\u001b[49m\u001b[43m(\u001b[49m\u001b[38;5;241;43m*\u001b[39;49m\u001b[43margs\u001b[49m\u001b[43m,\u001b[49m\u001b[43m \u001b[49m\u001b[38;5;241;43m*\u001b[39;49m\u001b[38;5;241;43m*\u001b[39;49m\u001b[43mkwargs\u001b[49m\u001b[43m)\u001b[49m\n",
      "File \u001b[0;32m~/Documents/CoursDeepLearning/.conda/lib/python3.11/site-packages/torch/nn/modules/module.py:1541\u001b[0m, in \u001b[0;36mModule._call_impl\u001b[0;34m(self, *args, **kwargs)\u001b[0m\n\u001b[1;32m   1536\u001b[0m \u001b[38;5;66;03m# If we don't have any hooks, we want to skip the rest of the logic in\u001b[39;00m\n\u001b[1;32m   1537\u001b[0m \u001b[38;5;66;03m# this function, and just call forward.\u001b[39;00m\n\u001b[1;32m   1538\u001b[0m \u001b[38;5;28;01mif\u001b[39;00m \u001b[38;5;129;01mnot\u001b[39;00m (\u001b[38;5;28mself\u001b[39m\u001b[38;5;241m.\u001b[39m_backward_hooks \u001b[38;5;129;01mor\u001b[39;00m \u001b[38;5;28mself\u001b[39m\u001b[38;5;241m.\u001b[39m_backward_pre_hooks \u001b[38;5;129;01mor\u001b[39;00m \u001b[38;5;28mself\u001b[39m\u001b[38;5;241m.\u001b[39m_forward_hooks \u001b[38;5;129;01mor\u001b[39;00m \u001b[38;5;28mself\u001b[39m\u001b[38;5;241m.\u001b[39m_forward_pre_hooks\n\u001b[1;32m   1539\u001b[0m         \u001b[38;5;129;01mor\u001b[39;00m _global_backward_pre_hooks \u001b[38;5;129;01mor\u001b[39;00m _global_backward_hooks\n\u001b[1;32m   1540\u001b[0m         \u001b[38;5;129;01mor\u001b[39;00m _global_forward_hooks \u001b[38;5;129;01mor\u001b[39;00m _global_forward_pre_hooks):\n\u001b[0;32m-> 1541\u001b[0m     \u001b[38;5;28;01mreturn\u001b[39;00m \u001b[43mforward_call\u001b[49m\u001b[43m(\u001b[49m\u001b[38;5;241;43m*\u001b[39;49m\u001b[43margs\u001b[49m\u001b[43m,\u001b[49m\u001b[43m \u001b[49m\u001b[38;5;241;43m*\u001b[39;49m\u001b[38;5;241;43m*\u001b[39;49m\u001b[43mkwargs\u001b[49m\u001b[43m)\u001b[49m\n\u001b[1;32m   1543\u001b[0m \u001b[38;5;28;01mtry\u001b[39;00m:\n\u001b[1;32m   1544\u001b[0m     result \u001b[38;5;241m=\u001b[39m \u001b[38;5;28;01mNone\u001b[39;00m\n",
      "Cell \u001b[0;32mIn[119], line 34\u001b[0m, in \u001b[0;36mwavenet.forward\u001b[0;34m(self, x)\u001b[0m\n\u001b[1;32m     32\u001b[0m x\u001b[38;5;241m=\u001b[39mx\u001b[38;5;241m.\u001b[39mview(\u001b[38;5;241m-\u001b[39m\u001b[38;5;241m1\u001b[39m,\u001b[38;5;28mself\u001b[39m\u001b[38;5;241m.\u001b[39mlen_hidden\u001b[38;5;241m*\u001b[39m\u001b[38;5;241m2\u001b[39m)\n\u001b[1;32m     33\u001b[0m x\u001b[38;5;241m=\u001b[39m\u001b[38;5;28mself\u001b[39m\u001b[38;5;241m.\u001b[39mlayer3(x)\n\u001b[0;32m---> 34\u001b[0m logits\u001b[38;5;241m=\u001b[39m\u001b[38;5;28;43mself\u001b[39;49m\u001b[38;5;241;43m.\u001b[39;49m\u001b[43mlinear\u001b[49m\u001b[43m(\u001b[49m\u001b[43mx\u001b[49m\u001b[43m)\u001b[49m\n\u001b[1;32m     35\u001b[0m \u001b[38;5;28;01mreturn\u001b[39;00m logits\n",
      "File \u001b[0;32m~/Documents/CoursDeepLearning/.conda/lib/python3.11/site-packages/torch/nn/modules/module.py:1532\u001b[0m, in \u001b[0;36mModule._wrapped_call_impl\u001b[0;34m(self, *args, **kwargs)\u001b[0m\n\u001b[1;32m   1530\u001b[0m     \u001b[38;5;28;01mreturn\u001b[39;00m \u001b[38;5;28mself\u001b[39m\u001b[38;5;241m.\u001b[39m_compiled_call_impl(\u001b[38;5;241m*\u001b[39margs, \u001b[38;5;241m*\u001b[39m\u001b[38;5;241m*\u001b[39mkwargs)  \u001b[38;5;66;03m# type: ignore[misc]\u001b[39;00m\n\u001b[1;32m   1531\u001b[0m \u001b[38;5;28;01melse\u001b[39;00m:\n\u001b[0;32m-> 1532\u001b[0m     \u001b[38;5;28;01mreturn\u001b[39;00m \u001b[38;5;28;43mself\u001b[39;49m\u001b[38;5;241;43m.\u001b[39;49m\u001b[43m_call_impl\u001b[49m\u001b[43m(\u001b[49m\u001b[38;5;241;43m*\u001b[39;49m\u001b[43margs\u001b[49m\u001b[43m,\u001b[49m\u001b[43m \u001b[49m\u001b[38;5;241;43m*\u001b[39;49m\u001b[38;5;241;43m*\u001b[39;49m\u001b[43mkwargs\u001b[49m\u001b[43m)\u001b[49m\n",
      "File \u001b[0;32m~/Documents/CoursDeepLearning/.conda/lib/python3.11/site-packages/torch/nn/modules/module.py:1541\u001b[0m, in \u001b[0;36mModule._call_impl\u001b[0;34m(self, *args, **kwargs)\u001b[0m\n\u001b[1;32m   1536\u001b[0m \u001b[38;5;66;03m# If we don't have any hooks, we want to skip the rest of the logic in\u001b[39;00m\n\u001b[1;32m   1537\u001b[0m \u001b[38;5;66;03m# this function, and just call forward.\u001b[39;00m\n\u001b[1;32m   1538\u001b[0m \u001b[38;5;28;01mif\u001b[39;00m \u001b[38;5;129;01mnot\u001b[39;00m (\u001b[38;5;28mself\u001b[39m\u001b[38;5;241m.\u001b[39m_backward_hooks \u001b[38;5;129;01mor\u001b[39;00m \u001b[38;5;28mself\u001b[39m\u001b[38;5;241m.\u001b[39m_backward_pre_hooks \u001b[38;5;129;01mor\u001b[39;00m \u001b[38;5;28mself\u001b[39m\u001b[38;5;241m.\u001b[39m_forward_hooks \u001b[38;5;129;01mor\u001b[39;00m \u001b[38;5;28mself\u001b[39m\u001b[38;5;241m.\u001b[39m_forward_pre_hooks\n\u001b[1;32m   1539\u001b[0m         \u001b[38;5;129;01mor\u001b[39;00m _global_backward_pre_hooks \u001b[38;5;129;01mor\u001b[39;00m _global_backward_hooks\n\u001b[1;32m   1540\u001b[0m         \u001b[38;5;129;01mor\u001b[39;00m _global_forward_hooks \u001b[38;5;129;01mor\u001b[39;00m _global_forward_pre_hooks):\n\u001b[0;32m-> 1541\u001b[0m     \u001b[38;5;28;01mreturn\u001b[39;00m \u001b[43mforward_call\u001b[49m\u001b[43m(\u001b[49m\u001b[38;5;241;43m*\u001b[39;49m\u001b[43margs\u001b[49m\u001b[43m,\u001b[49m\u001b[43m \u001b[49m\u001b[38;5;241;43m*\u001b[39;49m\u001b[38;5;241;43m*\u001b[39;49m\u001b[43mkwargs\u001b[49m\u001b[43m)\u001b[49m\n\u001b[1;32m   1543\u001b[0m \u001b[38;5;28;01mtry\u001b[39;00m:\n\u001b[1;32m   1544\u001b[0m     result \u001b[38;5;241m=\u001b[39m \u001b[38;5;28;01mNone\u001b[39;00m\n",
      "File \u001b[0;32m~/Documents/CoursDeepLearning/.conda/lib/python3.11/site-packages/torch/nn/modules/linear.py:116\u001b[0m, in \u001b[0;36mLinear.forward\u001b[0;34m(self, input)\u001b[0m\n\u001b[1;32m    115\u001b[0m \u001b[38;5;28;01mdef\u001b[39;00m \u001b[38;5;21mforward\u001b[39m(\u001b[38;5;28mself\u001b[39m, \u001b[38;5;28minput\u001b[39m: Tensor) \u001b[38;5;241m-\u001b[39m\u001b[38;5;241m>\u001b[39m Tensor:\n\u001b[0;32m--> 116\u001b[0m     \u001b[38;5;28;01mreturn\u001b[39;00m \u001b[43mF\u001b[49m\u001b[38;5;241;43m.\u001b[39;49m\u001b[43mlinear\u001b[49m\u001b[43m(\u001b[49m\u001b[38;5;28;43minput\u001b[39;49m\u001b[43m,\u001b[49m\u001b[43m \u001b[49m\u001b[38;5;28;43mself\u001b[39;49m\u001b[38;5;241;43m.\u001b[39;49m\u001b[43mweight\u001b[49m\u001b[43m,\u001b[49m\u001b[43m \u001b[49m\u001b[38;5;28;43mself\u001b[39;49m\u001b[38;5;241;43m.\u001b[39;49m\u001b[43mbias\u001b[49m\u001b[43m)\u001b[49m\n",
      "\u001b[0;31mKeyboardInterrupt\u001b[0m: "
     ]
    }
   ],
   "source": [
    "lossi_train=[]\n",
    "lossi_val=[]\n",
    "stepi = []\n",
    "for epoch in range(epochs):\n",
    "  loss_epoch=0\n",
    "  for x,y in train_loader:\n",
    "    logits=model(x)\n",
    "    loss = F.cross_entropy(logits, y)\n",
    "    # retropropagation\n",
    "    optimizer.zero_grad()\n",
    "    loss.backward()\n",
    "    optimizer.step()\n",
    "    # Mise à jour des poids du modèle\n",
    "    loss_epoch+=loss\n",
    "  loss_epoch=loss_epoch/len(train_loader)\n",
    "  if epoch%5==0:\n",
    "    print(\"loss epoch\"+str(epoch) + \": \",loss_epoch)\n",
    "  stepi.append(epoch)\n",
    "  lossi_train.append(loss_epoch.item())\n",
    "  "
   ]
  },
  {
   "cell_type": "code",
   "execution_count": 122,
   "metadata": {},
   "outputs": [
    {
     "name": "stdout",
     "output_type": "stream",
     "text": [
      "tensor(2.0293, grad_fn=<DivBackward0>)\n"
     ]
    }
   ],
   "source": [
    "model.eval()\n",
    "loss_test=0\n",
    "for x,y in test_loader:\n",
    "      \n",
    "    # forward pass\n",
    "    logits=model(x)\n",
    "    loss = F.cross_entropy(logits, y)\n",
    "        \n",
    "    loss_test+=loss\n",
    "loss_test=loss_test/len(test_loader)\n",
    "print(loss_test)"
   ]
  },
  {
   "cell_type": "code",
   "execution_count": 126,
   "metadata": {},
   "outputs": [
    {
     "name": "stdout",
     "output_type": "stream",
     "text": [
      "HALEA.\n",
      "MAXI.\n",
      "EMMANUEL.\n",
      "BAISTES.\n",
      "VINCEY.\n"
     ]
    }
   ],
   "source": [
    "for _ in range(5):\n",
    "    out = []\n",
    "    context = [0] * block_size \n",
    "    while True:\n",
    "      logits=model(torch.tensor([context]))\n",
    "      probs = F.softmax(logits, dim=1)\n",
    "      ix = torch.multinomial(probs, num_samples=1).item()\n",
    "      context = context[1:] + [ix]\n",
    "      out.append(ix)\n",
    "      if ix == 0:\n",
    "        break\n",
    "    \n",
    "    print(''.join(itos[i] for i in out))"
   ]
  }
 ],
 "metadata": {
  "kernelspec": {
   "display_name": "Python 3",
   "language": "python",
   "name": "python3"
  },
  "language_info": {
   "codemirror_mode": {
    "name": "ipython",
    "version": 3
   },
   "file_extension": ".py",
   "mimetype": "text/x-python",
   "name": "python",
   "nbconvert_exporter": "python",
   "pygments_lexer": "ipython3",
   "version": "3.11.9"
  }
 },
 "nbformat": 4,
 "nbformat_minor": 2
}
