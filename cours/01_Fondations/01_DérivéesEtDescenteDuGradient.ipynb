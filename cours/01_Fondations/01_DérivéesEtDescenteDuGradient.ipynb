{
 "cells": [
  {
   "cell_type": "markdown",
   "metadata": {},
   "source": [
    "# Dérivée et descente du gradient "
   ]
  },
  {
   "cell_type": "markdown",
   "metadata": {},
   "source": [
    "Ce cours a pour but de présenter l'algorithme de descente du gradient qui est un des piliers du deep learning. Pour cela, il est néssaire de faire quelques rappels sur la dérivée."
   ]
  },
  {
   "cell_type": "code",
   "execution_count": 1,
   "metadata": {},
   "outputs": [],
   "source": [
    "import matplotlib.pyplot as plt \n",
    "import numpy as np"
   ]
  },
  {
   "cell_type": "markdown",
   "metadata": {},
   "source": [
    "## Compréhension intuitive de la dérivée"
   ]
  },
  {
   "cell_type": "markdown",
   "metadata": {},
   "source": [
    "Définissons une fonction : $f(x) = 2x^2 - 3x + 4$"
   ]
  },
  {
   "cell_type": "code",
   "execution_count": 3,
   "metadata": {},
   "outputs": [
    {
     "data": {
      "text/plain": [
       "13"
      ]
     },
     "execution_count": 3,
     "metadata": {},
     "output_type": "execute_result"
    }
   ],
   "source": [
    "def f(x):\n",
    "  return 2*x**2-3*x+4\n",
    "f(3)"
   ]
  },
  {
   "cell_type": "markdown",
   "metadata": {},
   "source": [
    "Traçons cette fonction sur un graphe avec matplotlib."
   ]
  },
  {
   "cell_type": "code",
   "execution_count": 4,
   "metadata": {},
   "outputs": [
    {
     "data": {
      "text/plain": [
       "[<matplotlib.lines.Line2D at 0x7ae9dcdf63d0>]"
      ]
     },
     "execution_count": 4,
     "metadata": {},
     "output_type": "execute_result"
    },
    {
     "data": {
      "image/png": "[encoded data removed]",
      "text/plain": [
       "<Figure size 640x480 with 1 Axes>"
      ]
     },
     "metadata": {},
     "output_type": "display_data"
    }
   ],
   "source": [
    "xs = np.arange(-5, 5, 0.25)\n",
    "ys = f(xs)\n",
    "plt.plot(xs, ys)"
   ]
  },
  {
   "cell_type": "markdown",
   "metadata": {},
   "source": [
    "Le calcul de la dérivée permet de connaître la pente de la courbe en un point.  \n",
    "Pour calculer la dérivée d'une fonction, on utilise la définition de la dérivée :   \n",
    "$f'(x) = \\lim_{h \\to 0} \\frac{f(x+h)-h}{h}$  \n",
    "En prenant un h suffisament petit, on peut estimer la pente de la courbe numériquement.\n",
    "\n",
    "**Note** : La pente de la courbe correspond au rapport entre la variation de $x$ et de $y$. Si quand on augmente $x$ de 1, y augment de 2 alors la pente de la courbe vaut 2."
   ]
  },
  {
   "cell_type": "code",
   "execution_count": 4,
   "metadata": {},
   "outputs": [
    {
     "name": "stdout",
     "output_type": "stream",
     "text": [
      "Dérivée en x=-1 :  -6.999800000002665\n",
      "Dérivée en x=2 :  5.000200000004895\n"
     ]
    }
   ],
   "source": [
    "h=0.0001\n",
    "x=-1.0\n",
    "print(\"Dérivée en x=-1 : \", (f(x+h)-f(x))/h)\n",
    "x=2.0\n",
    "print(\"Dérivée en x=2 : \", (f(x+h)-f(x))/h)"
   ]
  },
  {
   "cell_type": "markdown",
   "metadata": {},
   "source": [
    "D'après le graphique, on voit bien que la pente de la courbe est négative en $x=-1$  et positive en $x=2$.  \n",
    "Le **signe** de la dérivée permet de connaître la sens de la pente et la **valeur** de la dérivée permet de connaître l'intensité de la pente.  \n",
    "On peut vérifier nos résultats à l'aide des [dérivées usuelles](https://fr.wikipedia.org/wiki/Table_de_d%C3%A9riv%C3%A9es_usuelles)  : Si $f(x)=2x²-3x+4$ alors $f'(x)=4x-3$  \n",
    "On retrouve $f'(-1)=4 \\times -1-3=-7 \\approx -6.999800000002665$  \n",
    "et $f'(2)=4 \\times 2-3=5 \\approx 5.000200000004895$    \n",
    "Les résultats ne sont pas exacts car h n'est pas infinitésiment petit dans notre calcul numérique."
   ]
  },
  {
   "cell_type": "code",
   "execution_count": 5,
   "metadata": {},
   "outputs": [],
   "source": [
    "# On définit deriv_f = f'(x)\n",
    "def deriv_f(x):\n",
    "  return 4*x-3"
   ]
  },
  {
   "cell_type": "markdown",
   "metadata": {},
   "source": [
    "## Les bases de l'optimisation par descente de gradient"
   ]
  },
  {
   "cell_type": "markdown",
   "metadata": {},
   "source": [
    "Le but de l'optimisation va être de minimiser ou maximiser une fonction objectif qui correspond à l'objectif que l'on s'est fixé.   \n",
    "Si notre but est de trouver le minimum de la fonction, il y a plusieurs façons de faire.   \n",
    "Une première façon est de résoudre l'équation $f'(x)=0$ :  \n",
    "$4x-3=0$  \n",
    "$4x=3$  \n",
    "$x=\\frac{3}{4}$  \n",
    "Ce calcul nous permet de trouver le minimum de $f(x)$ dans notre cas. Cependant, dans un cas général, résoudre $f'(x)=0$ permet de trouver les optimums (maximums et minimums) et pas forcément le minimum global.\n",
    "\n",
    "Une seconde façon est d'utiliser une méthode d'optimisation que l'on appelle la **descente du gradient**. Pour appliquer cette méthode, on commence par se placer en un point quelconque, par exemple $x=2$.  \n",
    "On calcule la dérivée $f'(2)=5$. La pente est positive ie si $x$ augmente alors $f(x)$ augmente et si $x$ diminue alors $f(x)$ diminue.   \n",
    "Notre but est de trouver le minimum de $f(x)$, on va donc changer notre x en fonction de la pente et d'un facteur $\\alpha$ = 0,1 (*learning rate*).  \n",
    "On se retrouve avec $x_{new}=x - pente \\times \\alpha= 2-0.5=1.5$ et on peut recalculer la dérivée à notre nouveau point $f'(1.5)=4 \\times 1.5-3=3$, la dérivée est encore positive, il faut donc à nouveau diminuer la valeur de $x$.  \n",
    "La méthode d'optimisation de la descente du gradient consiste à créer une boucle qui va modifier la valeur de $x$ jusqu'à atteindre un minimum en se basant sur un facteur $\\alpha$ et le signe de la dérivée. A noter que l'on tient compte de l'intensité de la pente dans notre calcul.    \n",
    "On peut coder la descente du gradient de cette manière."
   ]
  },
  {
   "cell_type": "code",
   "execution_count": 6,
   "metadata": {},
   "outputs": [
    {
     "name": "stdout",
     "output_type": "stream",
     "text": [
      "approximate minimum found YAY, x =  0.7599999999999989\n"
     ]
    }
   ],
   "source": [
    "# Descente du gradient\n",
    "x=2.0 # valeur aléatoire de x\n",
    "alpha=0.01 # pas\n",
    "iterations=250 # nombre d'itérations\n",
    "\n",
    "for i in range(iterations):\n",
    "  grad=deriv_f(x)\n",
    "  if (grad>0):\n",
    "    x=x-alpha\n",
    "  elif(grad<0):\n",
    "    x=x+alpha\n",
    "  else:\n",
    "    print(\"minimum found YAY, x = \",x)\n",
    "print(\"approximate minimum found YAY, x = \",x)"
   ]
  },
  {
   "cell_type": "markdown",
   "metadata": {},
   "source": [
    "On retrouve $x \\approx \\frac{3}{4}$. Avec un pas plus faible ($\\alpha$) et plus d'itérations, on peut retrouver une valeur encore plus précise."
   ]
  },
  {
   "cell_type": "markdown",
   "metadata": {},
   "source": [
    "## La règle de la chaîne "
   ]
  },
  {
   "cell_type": "markdown",
   "metadata": {},
   "source": [
    "Avant de passer aux choses sérieuses, il est nécessaire de faire un dernier rappel mathématique d'une importance capitale pour l'apprentissage profond. C'est cette règle qui permet l'entraînement des paramètres des couches \"cachées\" du réseau.  \n",
    "Il s'agit du théorème de dérivation des fonctions composées (plus souvent appelé règle de la chaîne ou chain-rule en anglais) qui énonce le principe suivant :   \n",
    "Si une variable y dépend d'une seconde variable u, qui dépend à son tour d'une variable x alors : \n",
    "$\\frac{dy}{dx}=\\frac{dy}{du}\\cdot\\frac{du}{dx}$  \n"
   ]
  },
  {
   "cell_type": "markdown",
   "metadata": {},
   "source": [
    "Reprenons un exemple de descente du gradient sur des fonctions qui dépendent les unes des autres.  \n",
    "$u=2x²-x-2$  \n",
    "$y=3u+1$  \n",
    "$\\frac{dy}{dx}=\\frac{dy}{du}\\cdot\\frac{du}{dx}$ avec $\\frac{dy}{du}=3$ et $\\frac{du}{dx}=2x-1$  \n",
    "$\\frac{dy}{dx}=3(2x-1)$  \n",
    "$\\frac{dy}{dx}=6x-3$  \n",
    "On sait maintenant comment la variation de $x$ impacte $y$ et on peut appliquer notre algorithme de descente du gradient.\n"
   ]
  },
  {
   "cell_type": "code",
   "execution_count": 7,
   "metadata": {},
   "outputs": [
    {
     "name": "stdout",
     "output_type": "stream",
     "text": [
      "approximate minimum found YAY, x =  0.49999999999999867\n"
     ]
    }
   ],
   "source": [
    "x=2.0\n",
    "def deriv_y_x(x):\n",
    "  return 6*x-3\n",
    "for i in range(iterations):\n",
    "  grad=deriv_y_x(x)\n",
    "  if (grad>0):\n",
    "    x=x-alpha\n",
    "  elif(grad<0):\n",
    "    x=x+alpha\n",
    "  else:\n",
    "    print(\"minimum found YAY, x = \",x)\n",
    "print(\"approximate minimum found YAY, x = \",x)"
   ]
  },
  {
   "cell_type": "markdown",
   "metadata": {},
   "source": [
    "## Optimisation de plusieurs variables "
   ]
  },
  {
   "cell_type": "markdown",
   "metadata": {},
   "source": [
    "Jusqu'à présent, on s'est contenté de trouver le minimum d'une fonction contenant une seule variable $x$.  \n",
    "Un avantage des méthodes d'optimisation est que l'on peut optimiser plusieurs variables simultanément avec la descente du gradient. Pour cela, il faut calculer la dérivée par rapport à chacune des variables.   "
   ]
  },
  {
   "cell_type": "markdown",
   "metadata": {},
   "source": [
    "Pour notre exemple, prenons 3 variables a, b et c dans le modèle suivant :   \n",
    "$u=3a²-2a+b²+1$  \n",
    "$y=2u+c$  \n",
    "Pour pouvoir appliquer la descente du gradient, on doit calculer $\\frac{dy}{da}$, $\\frac{dy}{db}$ et $\\frac{dy}{dc}$  \n",
    "Pour cela les deux premiers, on utilise la règle de la chaîne ce qui nous donne :   \n",
    "- Pour la varible a :  \n",
    "$\\frac{dy}{da} = \\frac{dy}{du}\\cdot\\frac{du}{da}$    \n",
    "$\\frac{dy}{da} = 2(6a-2) = 12a-4$   \n",
    "\n",
    "- Pour la variable b :  \n",
    "$\\frac{dy}{da} = \\frac{dy}{du}\\cdot\\frac{du}{db}$ \n",
    "$\\frac{dy}{da} = 2(2b) = 4b$   \n",
    "\n",
    "- Pour la varible c :  \n",
    "$\\frac{dy}{dc}=1$  \n",
    "A partir de ces équations, on peut appliquer la descente du gradient."
   ]
  },
  {
   "cell_type": "code",
   "execution_count": 8,
   "metadata": {},
   "outputs": [
    {
     "name": "stdout",
     "output_type": "stream",
     "text": [
      "approximate minimum found YAY, a = 0.29999999999999966 b = -3.191891195797325e-16 c = -11.50000000000003\n"
     ]
    }
   ],
   "source": [
    "def deriv_y_a(a):\n",
    "  return 12*a-4\n",
    "def deriv_y_b(b):\n",
    "  return 4*b\n",
    "def deriv_y_c(c):\n",
    "  return 1\n",
    "\n",
    "a=1.0\n",
    "b=1.0\n",
    "c=1.0\n",
    "alpha=0.05\n",
    "def deriv_y_x(x):\n",
    "  return 6*x-3\n",
    "for i in range(iterations):\n",
    "  grad_a=deriv_y_a(a)\n",
    "  grad_b=deriv_y_b(b)\n",
    "  grad_c=deriv_y_c(b)\n",
    "  if (grad_a>0):\n",
    "    a=a-alpha\n",
    "  else:\n",
    "    a=a+alpha\n",
    "  if (grad_b>0):\n",
    "    b=b-alpha\n",
    "  else:\n",
    "    b=b+alpha\n",
    "  if (grad_c>0):\n",
    "    c=c-alpha\n",
    "  else:\n",
    "    c=c+alpha\n",
    "print(\"approximate minimum found YAY, a = \"+str(a)+\" b = \"+str(b)+\" c = \"+str(c))"
   ]
  },
  {
   "cell_type": "markdown",
   "metadata": {},
   "source": [
    "On a pu trouver des valeurs qui minimisent la valeur de $y$. La paramètre c va tendre vers moins l'infini avec beaucoup d'itérations tandis que le paramètre b va valoir 0 et la paramètre a va valoir 0.3."
   ]
  }
 ],
 "metadata": {
  "kernelspec": {
   "display_name": "dev",
   "language": "python",
   "name": "python3"
  },
  "language_info": {
   "codemirror_mode": {
    "name": "ipython",
    "version": 3
   },
   "file_extension": ".py",
   "mimetype": "text/x-python",
   "name": "python",
   "nbconvert_exporter": "python",
   "pygments_lexer": "ipython3",
   "version": "3.11.9"
  }
 },
 "nbformat": 4,
 "nbformat_minor": 2
}
