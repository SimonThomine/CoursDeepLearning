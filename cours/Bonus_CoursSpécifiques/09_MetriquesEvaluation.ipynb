{
 "cells": [
  {
   "cell_type": "markdown",
   "metadata": {},
   "source": [
    "# Métriques d'évaluation de modèles"
   ]
  },
  {
   "cell_type": "markdown",
   "metadata": {},
   "source": [
    "Une partie essentielle de l'entraînement d'un modèle est son évaluation. Jusqu'à présent, nous avons uniquement utilisé le *loss* de test ou des métriques simples comme la précision pour évaluer notre modèle.    \n",
    "\n",
    "En fonction du problème à résoudre, il existe différents types de métriques permettant d'évaluer différents aspects de notre modèle. Ce cours présente plusieurs métriques que l'on peut choisir ou non d'utiliser pour évaluer notre modèle."
   ]
  },
  {
   "cell_type": "markdown",
   "metadata": {},
   "source": [
    "## Métriques de classification"
   ]
  },
  {
   "cell_type": "markdown",
   "metadata": {},
   "source": [
    "### Matrice de confusion"
   ]
  },
  {
   "cell_type": "markdown",
   "metadata": {},
   "source": [
    "Dans un cadre de classification binaire, on peut se representer les prédictions du modèle de la manière suivante : \n",
    "\n",
    "<img src=\"images/classi.png\" alt=\"classi\" width=\"300\"/>\n",
    "\n",
    "Figure extraite de [wikipedia](https://en.wikipedia.org/wiki/Precision_and_recall)"
   ]
  },
  {
   "cell_type": "markdown",
   "metadata": {},
   "source": [
    "Définissons d'abord les termes de base : \n",
    "- **Faux positif (fp)** : L'élément a été classé comme positif alors qu'il est négatif.\n",
    "- **Vrai positif (vp)** : L'élément a été classé comme positif et il est réellement positif.\n",
    "- **Faux négatif (fn)** : L'élément a été classé comme négatif alors qu'il est positif.\n",
    "- **Vrai négatif (vn)** : L'élément a été classé comme négatif et il est réellement négatif.\n",
    "\n",
    "Pour se representer la figure plus haut, on peut créer une matrice de confusion : \n",
    "\n",
    "<img src=\"images/confusion.png\" alt=\"confusion\" width=\"500\"/>\n",
    "\n",
    "**Note** : Pour une classification avec plus de deux classes, on peut aussi construire une matrice de confusion. Cela nous donnera des informations sur les classes que le modèle confond. "
   ]
  },
  {
   "cell_type": "markdown",
   "metadata": {},
   "source": [
    "### Précision, rappel et spécificité"
   ]
  },
  {
   "cell_type": "markdown",
   "metadata": {},
   "source": [
    "A partir de la matrice de confusion et des termes de base (fn,vp etc ...), on peut calculer plusieurs métriques intéressants : \n",
    "- **Précision** : La précision est définie par l'équation suivante : $Précision=\\frac{vp}{vp+fp}$. C'est la mesure qui indique combien d'éléments positifs ont été correctement classifiés sur l'ensemble des éléments classifiés positifs par le modèle. \n",
    "- **Rappel ou sensitivité** : Le rappel est défini par l'équation suivante : $Rappel=\\frac{vp}{vp+fn}$. C'est la mesure qui indique combien d'éléments positifs ont été correctement classifiés sur l'ensemble des éléments positifs.\n",
    "- **Spécificité ou sélectivité** : La spécificité est définie par l'équation suivante : $Spécificité=\\frac{vn}{vn+fp}$. C'est le nombre d'éléments négatifs correctement classifiées sur l'ensemble des éléments négatifs."
   ]
  },
  {
   "cell_type": "markdown",
   "metadata": {},
   "source": [
    "### Accuracy"
   ]
  },
  {
   "cell_type": "markdown",
   "metadata": {},
   "source": [
    "La métrique *accuracy* (nom un peu trompeur car la traduction de *accuracy* en français c'est précision mais que ce ne sont pas les mêmes métriques) est définie comme le nombre de prédictions correctes sur le nombre total de prédictions.  \n",
    "Son équation est la suivante :    \n",
    "$Accuracy=\\frac{vp+vn}{vp+vn+fp+fn}$\n",
    "\n",
    "**Note** : Il faut faire attention avec cette métrique en cas de *class imbalance* car celui ci peut être trompeur. "
   ]
  },
  {
   "cell_type": "markdown",
   "metadata": {},
   "source": [
    "### F1-score"
   ]
  },
  {
   "cell_type": "markdown",
   "metadata": {},
   "source": [
    "Le F1-score est une mesure très souvent utilisée pour évaluer la performance du modèle : il s'agit en fait de la moyenne harmonique de la précision et du rappel.   \n",
    "Son équation est la suivante :   \n",
    "$F1=2 \\times \\frac{précision \\times rappel}{précision + rappel}$\n",
    "\n",
    "Si les valeurs de précision et de rappel sont proches, le F1-score correpond à peu près à la moyenne."
   ]
  },
  {
   "cell_type": "markdown",
   "metadata": {},
   "source": [
    "### Courbe ROC"
   ]
  },
  {
   "cell_type": "markdown",
   "metadata": {},
   "source": [
    "La courbe ROC (*Receiver Operating Characteristic*) est un graphique qui illustre les performances d'un modèle de classification binaire à différents seuils de décision. La courbe ROC contient les éléments suivants : \n",
    "- **Axe des X** est de le taux de faux positifs ($1-spécificité$). C'est le nombre d'éléments négatifs incorrectement classés comme positifs, divisé par le nombre total d'éléments négatifs.\n",
    "- **Axe des Y** est le taux de vrais positifs ($rappel$). C'est le nombre d'éléments positifs correctement classés comme positifs, divisé par le nombre total d'éléments positifs.\n",
    "\n",
    "Chaque point de la courbe va représenter un seuil de décision différent pour la classification des éléments. \n",
    "\n",
    "<img src=\"images/roc.png\" alt=\"roc\" width=\"500\"/>\n",
    "\n",
    "Figure extraite de [blogpost](https://sefiks.com/2020/12/10/a-gentle-introduction-to-roc-curve-and-auc/).\n",
    "\n",
    "Pour juger la qualité d'un modèle, on peut calculer l'aire sous la courbe ROC (AUROC). Dans le cas du *random classifier* on aura un AUROC de 0.5 alors que si il s'agit du classifieur parfait, l'AUROC sera de 1."
   ]
  },
  {
   "cell_type": "markdown",
   "metadata": {},
   "source": [
    "### Log loss"
   ]
  },
  {
   "cell_type": "markdown",
   "metadata": {},
   "source": [
    "Comme métrique, on peut simplement regarder la valeur du *loss* sur les données de test. Comme le *loss* est censé représenter notre objectif, regarder uniquement le *loss* peut être suffisant dans de nombreux cas."
   ]
  },
  {
   "cell_type": "markdown",
   "metadata": {},
   "source": [
    "## Métriques de regression/autoencoder"
   ]
  },
  {
   "cell_type": "markdown",
   "metadata": {},
   "source": [
    "### Mean Absolute Error (MAE)"
   ]
  },
  {
   "cell_type": "markdown",
   "metadata": {},
   "source": [
    "Pour les modèles de régression ou les autoencodeurs, on a plutôt comparer les valeurs prédites par rapport aux valeurs réelles en calculant une distance.   \n",
    "On peut le faire avec la MAE qui est la moyenne des valeurs absolues des erreurs entre les prédictions et les valeurs réelles.   \n",
    "La formule est la suivante :  \n",
    "$\\text{MAE} = \\frac{1}{n} \\sum_{i=1}^{n} \\left| y_i - \\hat{y}_i \\right|$"
   ]
  },
  {
   "cell_type": "markdown",
   "metadata": {},
   "source": [
    "### Mean Squared Error (MSE)"
   ]
  },
  {
   "cell_type": "markdown",
   "metadata": {},
   "source": [
    "Souvent, on préfere utiliser MSE qui est la moyenne des carrés des erreurs entre les prédictions et les valeurs réelles.   \n",
    "La formule est la suivante :  \n",
    "$\\text{MSE} = \\frac{1}{n} \\sum_{i=1}^{n} \\left( y_i - \\hat{y}_i \\right)^2$"
   ]
  },
  {
   "cell_type": "markdown",
   "metadata": {},
   "source": [
    "## Métriques pour la détection et la segmentation"
   ]
  },
  {
   "cell_type": "markdown",
   "metadata": {},
   "source": [
    "### AP et mAP"
   ]
  },
  {
   "cell_type": "markdown",
   "metadata": {},
   "source": [
    "Dans un problème de détection, on ne peut pas simplement évaluer la précision et il faut tenir compte des différents seuils de rappels pour avoir une évaluation sensée.   \n",
    "On la définit *average precision* (AP) de la manière suivante : \n",
    "\n",
    "$\\text{AP} = \\int_{0}^{1} \\text{Precision}(r) \\, \\text{d}r$\n",
    "\n",
    "ou de manière discrète :\n",
    "\n",
    "$\\text{AP} = \\sum_{k=1}^{K} \\text{Precision}(r_k) \\cdot (r_k - r_{k-1})$\n",
    "\n",
    "\n",
    "où :\n",
    "- $\\text{Precision}(r)$ est la précision au rappel $r$.\n",
    "- $K$ est le nombre de points d'évaluation du rappel.\n",
    "- $r_k $ et $r_{k-1}$ sont les rappels aux points $k$ et $k-1$, respectivement."
   ]
  },
  {
   "cell_type": "markdown",
   "metadata": {},
   "source": [
    "La *mean average precision* (mAP) est la moyenne des AP pour toutes les classes dans un problème de détection multi-classes. Elle donne une évaluation globale de la performance du modèle en prenant en compte toutes les classes.\n",
    "\n",
    "$\\text{mAP} = \\frac{1}{C} \\sum_{c=1}^{C} \\text{AP}_c$"
   ]
  },
  {
   "cell_type": "markdown",
   "metadata": {},
   "source": [
    "### Intersection Over Union (IoU)"
   ]
  },
  {
   "cell_type": "markdown",
   "metadata": {},
   "source": [
    "Dans la cadre de la détection et de la segmentation, la mesure d'IoU est très importante. Pour la détection, on va définir un seuil d'IoU en dessous duquel la détection sera considérée comme invalide (donc ne sera pas prise en compte pour le calcul du mAP). Pour la segmentation, l'IoU est une métrique à part entière et permet de juger de la qualité de la segmentation.   \n",
    "La formule est la suivante :  \n",
    "$\\text{IoU} = \\frac{|\\text{Intersection}|}{|\\text{Union}|} = \\frac{|\\text{Prédiction} \\cap \\text{Vérité terrain}|}{|\\text{Prédiction} \\cup \\text{Vérité terrain}|}$\n",
    "\n",
    "**Note** : Un défaut de l'IoU pour évaluer la segmentation est que cette mesure va pénaliser les petits objets et les classes rares. Pour réduire ce biais, on peut utiliser le *dice coefficient*."
   ]
  },
  {
   "cell_type": "markdown",
   "metadata": {},
   "source": [
    "### Dice Coefficient"
   ]
  },
  {
   "cell_type": "markdown",
   "metadata": {},
   "source": [
    "Pour une tâche de segmentation, on va plus souvent utilisé le *dice coefficient* plutôt que l'IoU.    \n",
    "Sa formule est la suivante :  \n",
    "$\\text{Dice} = \\frac{2 \\times |\\text{Prédiction} \\cap \\text{Vérité terrain}|}{|\\text{Prédiction}| + |\\text{Vérité terrain}|}$\n",
    "\n",
    "Le *dice coefficient* met l'accent sur l'importance de l'intersection entre la prédiction et la vérité terrain, en donnant plus de poids à la présence d'éléments communs."
   ]
  },
  {
   "cell_type": "markdown",
   "metadata": {},
   "source": [
    "## Evaluation des modèle de langages "
   ]
  },
  {
   "cell_type": "markdown",
   "metadata": {},
   "source": [
    "L'évaluation des modèles de langages est une tâche très compliquée. De manière évidente, on peut se baser sur le loss de test pour avoir une idée des performances du modèle mais cela ne nous donne pas une réelle information sur les capacités du modèle en pratique.    \n",
    "De nombreuses méthodes et benchmarks ont été proposés pour essayer d'évaluer les modèles de langages selon différents critères.   \n",
    "Ce [blogpost](https://www.confident-ai.com/blog/llm-evaluation-metrics-everything-you-need-for-llm-evaluation) présente les différentes méthodes d'évaluation des LLMs.    \n",
    "Sur hugging face, un [*leaderboard* des LLMs](https://huggingface.co/spaces/open-llm-leaderboard/open_llm_leaderboard) est aussi disponible où chaque modèle open-source est évalué selon différents benchmarks.\n"
   ]
  },
  {
   "cell_type": "markdown",
   "metadata": {},
   "source": [
    "## Evaluation des modèle de génération d'images"
   ]
  },
  {
   "cell_type": "markdown",
   "metadata": {},
   "source": [
    "Pour les modèles de génération d'images, c'est aussi assez compliqué d'évaluer les modèles en se basant sur de simples calculs. En général, on va avoir besoin d'une évaluation humaine pour juger de la qualité de la génération d'images.   \n",
    "Ce [blogpost](https://dagshub.com/blog/how-to-evaluate-generative-image-models/) permet d'avoir une vision d'ensemble de l'évaluation de ce type de modèles. "
   ]
  }
 ],
 "metadata": {
  "language_info": {
   "name": "python"
  }
 },
 "nbformat": 4,
 "nbformat_minor": 2
}
