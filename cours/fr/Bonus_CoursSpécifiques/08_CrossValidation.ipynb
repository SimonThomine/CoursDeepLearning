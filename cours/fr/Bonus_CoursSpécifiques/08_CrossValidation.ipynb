{
 "cells": [
  {
   "cell_type": "markdown",
   "metadata": {},
   "source": [
    "# Introduction à la cross validation"
   ]
  },
  {
   "cell_type": "markdown",
   "metadata": {},
   "source": [
    "La validation croisée ou *cross-validation* est une méthode permettant d'évaluer précisement un modèle de deep learning sur l'ensemble des données disponibles pour l'entrainement. Ce cours est inspiré du [blogpost](https://towardsdatascience.com/cross-validation-explained-evaluating-estimator-performance-e51e5430ff85) et les figures utilisées sont également tirées de ce blogpost."
   ]
  },
  {
   "cell_type": "markdown",
   "metadata": {},
   "source": [
    "## Problème des modèles de Deep Learning"
   ]
  },
  {
   "cell_type": "markdown",
   "metadata": {},
   "source": [
    "Comme on l'a vu précedemment, un des problèmes des modèles de deep learning est l'*overfitting*. Pour en apprendre plus sur l'*overfitting*, vous pouvez vous réferer au [cours bonus sur la régularisation](06_Regularisation.ipynb). En effet, il ne suffit pas d'avoir un modèle performant sur les données d'entrainement, il faut surtout être performant sur les données de test.\n",
    "\n",
    "<img src=\"images/overfit2.png\" alt=\"overfitting\" width=\"800\"/>\n",
    "\n",
    "La *cross-validation* est une technique permettant de détecter plus facilement l'*overfitting* et d'ajuster plus précisement les hyperparamètres pour lutter contre l'*overfitting*."
   ]
  },
  {
   "cell_type": "markdown",
   "metadata": {},
   "source": [
    "## La cross-validation, comment ça marche ? "
   ]
  },
  {
   "cell_type": "markdown",
   "metadata": {},
   "source": [
    "La technique de *cross-validation* peut être décompée en 3 phases :\n",
    "- On va partionner notre dataset en un nombre de subsets choisi.\n",
    "- On va écarter un des subsets et entraîner le modèle sur le reste des subsets.\n",
    "- On va finalement tester notre modèle sur le subset que l'on avait écarté pour l'entraînement.    \n",
    "\n",
    "On répete les deux derniers points jusqu'à ce que tous les subsets aient été évalués. Si on sépare notre dataset en 10 subsets, alors il faudra entraîner le modèle 10 fois. Une fois que tous les entraînements sont terminés, on peut évaluer notre modèle en prenant la moyenne de ses performances sur les différents entrainements.  \n",
    "\n",
    "<img src=\"images/crossval.png\" alt=\"crossval\" width=\"800\"/>\n",
    "\n",
    "\n",
    "Il existe 3 type de cross-validation qui sont assez proches les uns des autres : le *k-fold cross validation*, le *stratified k-fold cross validation* et le *leave one out cross validation* (LOOCV)."
   ]
  },
  {
   "cell_type": "markdown",
   "metadata": {},
   "source": [
    "### K-fold cross validation"
   ]
  },
  {
   "cell_type": "markdown",
   "metadata": {},
   "source": [
    "Le *k-fold cross validation* est la version la plus classique. On divise notre dataset en k subsets. On entraîne k modèles à chaque fois avec un différent set de validation et on fait la moyenne des scores pour évaluer le modèle de manière générale.\n",
    "\n",
    "<img src=\"images/kfold.png\" alt=\"kfold\" width=\"500\"/>\n",
    "\n",
    "**Comment choisir le paramètre k** : En général, on va choisir k de sorte à ce que les subset soit suffisamment important pour representer statistiquement le dataset original. La choix de k va aussi dépendre du temps et des ressources dont l'on dispose car plus k est grand, plus on doit faire d'entrainements.\n",
    "\n",
    "En général, k=10 est une bonne valeur."
   ]
  },
  {
   "cell_type": "markdown",
   "metadata": {},
   "source": [
    "### Stratified K-fold cross validation"
   ]
  },
  {
   "cell_type": "markdown",
   "metadata": {},
   "source": [
    "Cette méthode est presque identique à la *k-fold cross validation* de base mais on rajoute une contrainte. On spécifie que chaque subset doit la même distribution de classes. Cela permet de juger chaque subset sur un pied d'égalité en terme performance relative à chaque classe. \n",
    "\n",
    "<img src=\"images/skfold.png\" alt=\"kfold\" width=\"500\"/>\n"
   ]
  },
  {
   "cell_type": "markdown",
   "metadata": {},
   "source": [
    "### Leave one out cross validation"
   ]
  },
  {
   "cell_type": "markdown",
   "metadata": {},
   "source": [
    "Encore une fois, cette méthode est très proche de la classique *k-fold cross validation* puisqu'il s'agit simplement de cette méthode avec k=n (n étant le taille du dataset). A chaque fois, on va entraîner le modèle sur toutes les données sauf une. Cela va revenir à entraîner notre modèle n fois ce qui peut vite être couteux en temps et en ressources. L'avantage de cette méthode est que l'on peut entraîner le modèle sur presque toutes les données du dataset. En pratique, cette méthode ne s'utilise pas trop sauf dans des cas où l'on fait un *finetuning* sur peu de données (et à ce moment là, elle est très interessante)."
   ]
  },
  {
   "cell_type": "markdown",
   "metadata": {},
   "source": [
    "## Avantages et intêrets de la cross-validation"
   ]
  },
  {
   "cell_type": "markdown",
   "metadata": {},
   "source": [
    "La cross validation a plusieurs avantages : \n",
    "- On va détecter l'overfitting plus facilement et on va pouvoir régler les hyperparamètres en conséquence.\n",
    "- Dans un cadre scientifique, évaluer les modèles avec la *cross validation* permet une évaluation plus fiable et supprime en partie la chance (que l'on pourrait avoir lorsque l'on sépare aléatoirement nos données de train et de validation)."
   ]
  },
  {
   "cell_type": "markdown",
   "metadata": {},
   "source": [
    "Si vous pouvez vous le permettre (suffisament de temps et de ressources de calcul), je vous inviterai à utiliser la *cross validation* systématiquement."
   ]
  }
 ],
 "metadata": {
  "language_info": {
   "name": "python"
  }
 },
 "nbformat": 4,
 "nbformat_minor": 2
}
