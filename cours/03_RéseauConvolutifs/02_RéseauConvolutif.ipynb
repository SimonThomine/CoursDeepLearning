{
 "cells": [
  {
   "cell_type": "markdown",
   "metadata": {},
   "source": [
    "# Réseau convolutif"
   ]
  },
  {
   "cell_type": "markdown",
   "metadata": {},
   "source": [
    "## Intuition"
   ]
  },
  {
   "cell_type": "markdown",
   "metadata": {},
   "source": [
    "A l'image des réseaux fully connected, les réseaux convolutifs sont également constitués d'une succession de couches. L'idée principale est d'augmenter les filtres (canaux) avec la profondeur tout en réduisant la résolution spatiale des *FeatureMap*. En faisant cela, on augmente l'abstraction au fur et à mesure du réseau avec les premières couches qui détecteront plus des informations de contours alors que les couches profondes contiendront des informations plus contextuelles.  \n",
    "\n",
    "Pour un problème de classification (MNIST par exemple), les dernières couches du réseau seront souvent des couches entièrement connectées pour adapter la dimension de sortie des couches de convolutions avec le nombre de classes.  "
   ]
  },
  {
   "cell_type": "markdown",
   "metadata": {},
   "source": [
    "De manière générale, un réseau convolutif est constitué d'une succession de couches de convolution, de couche d'activation (*ReLU*, *sigmoid*, *tanH* etc ) et de couche de *pooling*. La couche de convolution va permettre de changer le nombre de filtres et d'ajouter des paramètres entraînables, la couche d'activation permet de rendre le réseau non linéaire et la couche de *pooling* permet de diminuer la résolution spatiale de l'image.  \n",
    "\n",
    "L'architecture classique d'un réseau de neurones convolutif est la suivante :  \n",
    "\n",
    "<img src=\"images/CNN.png\" alt=\"Convolution\" width=\"800\"/>"
   ]
  },
  {
   "cell_type": "markdown",
   "metadata": {},
   "source": [
    "## Champ réceptif"
   ]
  },
  {
   "cell_type": "markdown",
   "metadata": {},
   "source": [
    "Comme indiqué dans le notebook précédent, une unique couche de convolution permet uniquement une interaction locale entre les pixels (pour un filtre de taille $3 \\times 3$, chaque pixel n'est influencé que par ses pixels adjacents). Cela est très problématique lorsqu'il faut détecter un élément qui occupe l'integralité de l'image.  "
   ]
  },
  {
   "cell_type": "markdown",
   "metadata": {},
   "source": [
    "Cependant, on peut comprendre assez facilement qu'un empilement de couches de convolutions peut conduire à une augmentation de la zone d'influence d'un pixel.  \n",
    "L'image suivante illustre le principe :  \n",
    "\n",
    "<img src=\"images/ReceptiveField.gif\" alt=\"Alt Text\" width=\"500\">  \n",
    "\n",
    "Figure extraire de [blogpost](https://www.linkedin.com/pulse/deep-learning-understanding-receptive-field-computer-n-bhatt/).\n",
    "\n"
   ]
  },
  {
   "cell_type": "markdown",
   "metadata": {},
   "source": [
    "Plus formellement, on définit le champ réceptif d'un pixel par la formule suivante :  \n",
    "$R_{Eff}=R_{Init} + (k-1)*S$  \n",
    "Avec $R_{Eff}$ le champ réceptif de la couche de sortie, $R_{Init}$ le champ réceptif initial, $k$ la taille du noyau de convolution et $S$ le *stride*."
   ]
  },
  {
   "cell_type": "markdown",
   "metadata": {},
   "source": [
    "Lorsqu'on implémente des réseaux convolutifs, il faut donc faire attention à ce paramètre pour être sûr que notre réseau étudie bien l'interaction de l'ensemble des pixels les uns avec les autres. Plus l'image d'entrée est grande, plus il faut un champ réceptif important. "
   ]
  },
  {
   "cell_type": "markdown",
   "metadata": {},
   "source": [
    "**Précision** : Les outils vu dans les cours précédents permettant d'améliorer le modèle sont utilisables également avec les réseaux convolutifs (*BatchNorm*, *Dropout*, etc ...)"
   ]
  },
  {
   "cell_type": "markdown",
   "metadata": {},
   "source": [
    "## Visualisation de ce que le réseau apprend"
   ]
  },
  {
   "cell_type": "markdown",
   "metadata": {},
   "source": [
    "Pour appréhender le fonctionnement d'un réseau de neurones convolutifs et le rôle de chaque couche, on peut visualiser les activations des *FeatureMaps* en fonction de la profondeur.\n",
    "   \n",
    "Voici une visualisation en fonction de la profondeur du réseau :  \n",
    "\n",
    "<img src=\"images/Layers.png\" alt=\"Alt Text\" width=\"800\">  \n",
    "\n"
   ]
  },
  {
   "cell_type": "markdown",
   "metadata": {},
   "source": [
    "Comment on peut le voir, les couches peu profondes vont plus regarder les informations locales comme les contours et les formes basiques tandis que les couches profondes contiendront plutôt des informations de contexte. Bien sûr, il s'agit d'un continuum et les couches intermédiaires contiendront des informations d'une partie importante de l'image. "
   ]
  }
 ],
 "metadata": {
  "language_info": {
   "name": "python"
  }
 },
 "nbformat": 4,
 "nbformat_minor": 2
}
