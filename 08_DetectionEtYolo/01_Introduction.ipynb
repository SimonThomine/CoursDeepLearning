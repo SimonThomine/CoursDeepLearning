{
 "cells": [
  {
   "cell_type": "markdown",
   "metadata": {},
   "source": [
    "# Introduction à la détection d'objets dans les images"
   ]
  },
  {
   "cell_type": "markdown",
   "metadata": {},
   "source": [
    "Nous avons vu précédemment que le traitement d'images regroupe trois grandes catégories : \n",
    "- **La classification** : Est ce qu'un objet est sur l'image ? (Est-ce une photo de chien ?)\n",
    "- **La détection** : Ou se situe un objet sur une image (si celui-ci est présent) ? (Quelle est la position de chien sur cette image ?)\n",
    "- **La segmentation** : Quels sont les pixels qui appartiennent à un objet ? (Quels sont précisement les pixels du chien sur l'image?)  \n",
    "\n",
    "<img src=\"images/ClassDetSeg.jpeg\" alt=\"transformer\" width=\"600\"/> \n",
    "\n",
    "Image extraite de ce [site](https://docs.ultralytics.com/fr/guides/steps-of-a-cv-project/).\n"
   ]
  },
  {
   "cell_type": "markdown",
   "metadata": {},
   "source": [
    "Dans le cours sur les CNN, nous avons vu des problèmes de classification avec une architecture de CNN classique qui se termine par une couche Fully Connected et nous avons également vu un problème de segmentation avec l'utilisation du modèle U-Net.\n",
    "\n",
    "La tâche de détection étant un peu plus complexe à expliquer, ce cours est dédié à proposer une description des méthodes existantes et une implémentation from scratch du modèle [YOLO](https://arxiv.org/pdf/1506.02640).  \n",
    "\n",
    "Dans cette introduction, nous allons d'abord expliquer les différences entre les deux principales catégories de détecteur :  \n",
    "- Méthodes en deux étapes (Two-Stage Detectors) regroupant la famille des [RCNN(Region-based Convolutional Neural Networks)](https://arxiv.org/pdf/1311.2524).\n",
    "- Méthodes en une étape (Single-Stage Detectors) regroupant la famille des [YOLO(You Only Look Once)](https://arxiv.org/pdf/1506.02640)."
   ]
  },
  {
   "cell_type": "markdown",
   "metadata": {},
   "source": []
  }
 ],
 "metadata": {
  "language_info": {
   "name": "python"
  }
 },
 "nbformat": 4,
 "nbformat_minor": 2
}
