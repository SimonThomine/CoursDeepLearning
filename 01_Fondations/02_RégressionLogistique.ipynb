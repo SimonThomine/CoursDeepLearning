{
 "cells": [
  {
   "cell_type": "markdown",
   "metadata": {},
   "source": [
    "# Régression logistique"
   ]
  },
  {
   "cell_type": "markdown",
   "metadata": {},
   "source": [
    "## Le neurone artificiel"
   ]
  },
  {
   "cell_type": "markdown",
   "metadata": {},
   "source": [
    "Il est temps de passer aux choses sérieuses et de présenter le neurone articifiel. \n",
    "\n",
    "La figure ci-dessous montre le fonctionnement d'un neurone artificiel : \n",
    "\n",
    "![Neurone artificiel](./images/NeuroneArtificiel.png)\n",
    "\n",
    "Le neurone artificiel prend en entrée un vecteur $\\mathbf{x}=(x_1,x_2,...,x_n)$, chaque élément $x_i$ du vecteur $\\mathbf{x}$ est ensuite multiplié par un poids $w_i$ puis on somme l'ensemble et on ajoute un biais $b$. Cette somme est ensuite passé dans une fonction qu'on appelle **fonction d'activation** $\\phi$.  \n",
    "$Sortie = \\phi(\\sum_{i=0}^{n} w_i x_i  + b)$  \n",
    "On appelle ce procédé neurone artificiel par analogie avec le fonctionnement d'un [neurone biologique](https://en.wikipedia.org/wiki/Artificial_neuron).  "
   ]
  },
  {
   "cell_type": "markdown",
   "metadata": {},
   "source": [
    "## Les fonctions d'activation"
   ]
  },
  {
   "cell_type": "markdown",
   "metadata": {},
   "source": [
    "**Fonction de Heaviside :** A l'origine, le premier neurone articiel ([le perceptron](https://fr.wikipedia.org/wiki/Perceptron)) utilisait une fonction de seuillage comme fonction d'activation. Cela permet de prendre une décision (0 ou 1) par rapport à la somme pondérée et un seuil défini.  \n",
    "$heaviside(x) = \\left\\{\n",
    "    \\begin{array}{ll}\n",
    "        1 & \\text{si } x > 0 \\\\\n",
    "        0 & \\text{sinon}\n",
    "    \\end{array}\n",
    "\\right. \\text{avec } x=\\sum_{i=0}^{n} w_i x_i  + b$  \n",
    "Cette fonction d'activation est efficace pour obtenir une classification binaire mais elle ne fonctionne pas pour plusieurs classes. De plus, la fonction n'est pas dérivable, il est donc compliqué d'utiliser l'algorithme de la descente du gradient pour optimiser les poids $w_i$ du neurone.  \n",
    "\n",
    "Les fonctions d'activation récente sont beaucoup plus intéressante pour l'entraînement de réseaux de neurones par descente du gradient. Premièrement, on choisit des fonctions dérivables ce qui permet d'appliquer notre algorithme de descente du gradient. Deuxièmement, on choisit des fonctions non-linéaire ce qui permet aux réseaux d'apprendre des représentations complexes. Il y a également d'autres avantages spécifiques à chaque fonction d'activation.   \n",
    "\n",
    "Une des fonctions d'activation \"récente\" est la fonction sigmoïde que nous détaillons ici : \n",
    "\n",
    "**Fonction sigmoïde :** Une autre fonction d'activation particulièrement intéressante par son analogie avec une probabilité est la fonction sigmoïde. Cette fois-ci, la fonction va permettre d'obtenir une valeur entre 0 et 1 par la formule :  \n",
    "$sigmoid(x) = \\frac{1}{1 + e^{-x}} \\text{ avec } x=\\sum_{i=0}^{n} w_i x_i  + b$"
   ]
  },
  {
   "cell_type": "code",
   "execution_count": 1,
   "metadata": {},
   "outputs": [
    {
     "data": {
      "image/png": "[encoded data removed]",
      "text/plain": [
       "<Figure size 640x480 with 1 Axes>"
      ]
     },
     "metadata": {},
     "output_type": "display_data"
    }
   ],
   "source": [
    "# Tracé de la fonction sigmoïde\n",
    "import numpy as np\n",
    "import matplotlib.pyplot as plt\n",
    "\n",
    "def sigmoid(x):\n",
    "    return 1 / (1 + np.exp(-x))\n",
    "x = np.linspace(-10, 10, 100)\n",
    "y = sigmoid(x)\n",
    "\n",
    "plt.plot(x, y)\n",
    "plt.title('Fonction sigmoïde')\n",
    "plt.xlabel('x')\n",
    "plt.ylabel('sigmoid(x)')\n",
    "plt.grid(True)\n",
    "plt.show()"
   ]
  },
  {
   "cell_type": "markdown",
   "metadata": {},
   "source": [
    "Cette fonction est dérivable et sa dérivée vaut :  \n",
    "$sigmoid'(x) = sigmoid(x) \\cdot (1 - f(x))$  \n",
    "On peut donc appliquer la descente du gradient sur notre neurone artificiel lorsqu'on utilise cette fonction d'activation.\n",
    "\n",
    "Il existe de nombreuses autres [fonctions d'activations](https://fr.wikipedia.org/wiki/Fonction_d%27activation) qui ont chacune leurs utilités que nous verrons dans les cours suivants. ($Tanh$,$ReLU$,$Softmax$)\n"
   ]
  },
  {
   "cell_type": "markdown",
   "metadata": {},
   "source": [
    "## Application"
   ]
  },
  {
   "cell_type": "markdown",
   "metadata": {},
   "source": [
    "Pour comprendre la régression logistique, le mieux est de passer par un exemple d'application.  \n",
    "Dans cet exemple, nous allons déterminer si un étudiant va être admis dans l'université de ses rêves à partir de trois informations : son score à l'examen d'entrée, ses notes moyennes de l'année précédente et la qualité de sa lettre de motivation.  \n",
    "Nous n'avons pas accès à la méthode de calcul pour l'admission ou non d'un étudiant mais nous disposons de données et de la décision correspondantes.  \n",
    "Les informations d'entrée sont entre 0 et 1, avec 1 indiquant le meilleur score. Admis = 1 correspond à une admission tandis qu'admis = 0 correspond à un refus.   \n",
    "Nous disposons des informations suivantes :  "
   ]
  },
  {
   "cell_type": "code",
   "execution_count": 2,
   "metadata": {},
   "outputs": [
    {
     "name": "stdout",
     "output_type": "stream",
     "text": [
      "╒══════════╤═══════════╤══════════════╤═════════╕\n",
      "│   Examen │   Moyenne │   Motivation │   Admis │\n",
      "╞══════════╪═══════════╪══════════════╪═════════╡\n",
      "│      0.7 │       0.8 │          0.1 │       1 │\n",
      "├──────────┼───────────┼──────────────┼─────────┤\n",
      "│      0.4 │       0.9 │          0.5 │       0 │\n",
      "├──────────┼───────────┼──────────────┼─────────┤\n",
      "│      0.2 │       0.3 │          0.9 │       0 │\n",
      "├──────────┼───────────┼──────────────┼─────────┤\n",
      "│      0.9 │       0.9 │          0.6 │       1 │\n",
      "╘══════════╧═══════════╧══════════════╧═════════╛\n"
     ]
    }
   ],
   "source": [
    "from tabulate import tabulate\n",
    "\n",
    "# Définition des données d'entraînement\n",
    "values_train = [[0.7, 0.8, 0.1], [0.4, 0.9, 0.5], [0.2, 0.3, 0.9], [0.9, 0.9, 0.6]]\n",
    "labels_train = [1, 0, 0, 1]\n",
    "\n",
    "# Ajout des noms de colonnes\n",
    "data = [['Examen', 'Moyenne', 'Motivation', 'Admis']]\n",
    "data.extend([[values_train[i][0], values_train[i][1], values_train[i][2], labels_train[i]] for i in range(len(values_train))])\n",
    "\n",
    "# Affichage du tableau\n",
    "print(tabulate(data, headers=\"firstrow\", tablefmt=\"fancy_grid\"))"
   ]
  },
  {
   "cell_type": "markdown",
   "metadata": {},
   "source": [
    "Notre but dans ce problème est de déterminer si les étudiants ayant eu les scores $[Examen=0.8, Moyenne=0.7, Motivation=0.2]$ et $[Examen=0.4, Moyenne=0.5, Motivation=0.9]$ ont été admis. "
   ]
  },
  {
   "cell_type": "markdown",
   "metadata": {},
   "source": [
    "Vous l'aurez compris, les données $Examen$, $Moyenne$ et $Motivation$ correspondent à nos $x_i$. Notre but avec la régression logistique est de trouver une valeur optimale des $w_i$ en concordance avec nos données d'entrainement.   \n",
    "Par simplicité, posons $x_0=Examen$, $x_1=Moyenne$ et $x_2=Motivation$ et $y_{true}=Admis$.  "
   ]
  },
  {
   "cell_type": "markdown",
   "metadata": {},
   "source": [
    "### Fonction de coût"
   ]
  },
  {
   "cell_type": "markdown",
   "metadata": {},
   "source": [
    "Dans notre exemple de descente du gradient, notre but était de trouver le minimum d'une fonction. C'est dans ces scénarios que la descente du gradient excelle. Pour notre nouveau problème, il nous faut trouver une fonction qui, lorsqu'on la minimise, améliore les prédictions.  \n",
    "Dans notre classification binaire, $y_{true}$ vaut 1 si l'élève est admis et 0 sinon.  \n",
    "Notre but est de prédire si l'élève est admis ou non en prédisant la sortie $pred$.  \n",
    "Lors de l'entraînement, on veut entraîner notre modèle de régression logistique à prédire $ pred \\approx y_{true}$. \n",
    "Pour cela, on utilise la fonction de vraisemblance négative qui s'exprime de la manière suivante :   \n",
    "$\\text{loss} = - \\left( y_{\\text{true}} \\cdot \\log(\\text{pred}) + (1 - y_{\\text{true}}) \\cdot \\log(1 - \\text{pred}) \\right)$\n",
    "\n",
    "Pour plus de détails sur la régression logistique et la perte de vraisemblance négative, vous pouvez consulter ce [lien](https://blog.demir.io/understanding-logistic-regression-26802c0da856)."
   ]
  },
  {
   "cell_type": "markdown",
   "metadata": {},
   "source": [
    "L'important est de comprendre comment varie cette fonction en fonction de notre prédiction $pred$ et du label $y_{true}$.  \n",
    "Pour cela, prenons le cas où le label est $y_{true}=1$. Analysons deux cas :  \n",
    "Si $pred=0.9$, c'est-à-dire que notre modèle prédit que l'élève sera admis à 90% de chance ce qui est une bonne prédiction alors :  \n",
    "$\\text{loss} = - \\left( 1.0 \\cdot \\log(0.9) + (1 - 1.0) \\cdot \\log(1 - 0.9) \\right)$  \n",
    "$\\text{loss} = - \\left( 1.0 \\cdot \\log(0.9) + 0 \\cdot \\log(1 - 0.9) \\right)$  \n",
    "$\\text{loss} = - \\left( 1.0 \\cdot \\log(0.9)\\right)$   \n",
    "$\\text{loss} = - \\left( 1.0 \\cdot \\log(0.9)\\right)$  \n",
    "$\\text{loss} = 0.046$   \n",
    "Le loss est faible, c'est une bonne chose car la prédiction est bonne.\n",
    "\n",
    "Si $pred=0.2$, c'est-à-dire que notre modèle prédit que l'élève sera admis à 20% de chance ce qui est une mauvaise prédiction alors :  \n",
    "$\\text{loss} = - \\left( 1.0 \\cdot \\log(0.2) + (1 - 1.0) \\cdot \\log(1 - 0.2) \\right)$  \n",
    "$\\text{loss} = - \\left( 1.0 \\cdot \\log(0.2) + 0 \\cdot \\log(1 - 0.2) \\right)$  \n",
    "$\\text{loss} = - \\left( 1.0 \\cdot \\log(0.2)\\right)$   \n",
    "$\\text{loss} = - \\left( 1.0 \\cdot \\log(0.2)\\right)$  \n",
    "$\\text{loss} = 0.70$   \n",
    "Le loss est important, c'est une bonne chose car la prédiction est mauvaise.\n",
    "\n",
    "Pour un cas où $y_{true}=0$, on retrouve un loss faible quand la $pred$ est proche 0 et un loss important quand $pred$ est proche de 1 (faire le calcul pour s'exercer si besoin). "
   ]
  },
  {
   "cell_type": "markdown",
   "metadata": {},
   "source": [
    "### Calcul des dérivées"
   ]
  },
  {
   "cell_type": "markdown",
   "metadata": {},
   "source": [
    "Maintenant que l'on dispose d'une fonction à minimiser, il est nécessaire de calculer la dérivée de cette fonction en fonction de chacun des poids $w_0$, $w_1$, $w_2$ et $b$. \n",
    "On doit donc calculer $\\frac{\\partial loss}{\\partial w_0}$, $\\frac{\\partial loss}{\\partial w_1}$, $\\frac{\\partial loss}{\\partial w_2}$ et $\\frac{\\partial loss}{\\partial b}$. \n",
    "Pour les poids $w_0$, $w_1$ et $w_2$, la dérivée s'effectue de la même manière.  \n",
    "Avec la règle de la chaîne, pour $w_0$, on a : \n",
    "$\\frac{\\partial loss}{\\partial w_0} = \\frac{\\partial loss}{\\partial pred} \\cdot \\frac{\\partial pred}{\\partial w_0}$   \n",
    "\n",
    "Pour rappel, notre prédiction $pred$ correspond à la sortie de notre régression logistique avec la fonction d'activation $sigmoid$. \n",
    "\n",
    "Pour le premier terme, la dérivée du loss en fonction de pred nous donne :  \n",
    "$\\frac{\\partial loss}{\\partial pred} = -(\\frac{y_{true}}{pred} - \\frac{1-y_{true}}{1-pred}) $  \n",
    "Le calcul ne sera pas détaillé ici mais vous pouvez le faire vous-même pour vous en assurer.  \n",
    "\n",
    "Pour le second terme, la dérivée de pred en fonction de $w_0$ nous donne :    \n",
    "$\\frac{\\partial pred}{\\partial w_0} = pred \\cdot (1-pred) \\cdot x_0$\n",
    "\n",
    "En combinant les deux termes, on obtient :  \n",
    "$\\frac{\\partial loss}{\\partial w_0} =-(\\frac{y_{true}}{pred} - \\frac{1-y_{true}}{1-pred}) \\cdot pred \\cdot (1-pred) \\cdot x_0$  \n",
    "\n",
    "Et après simplification (magique),  \n",
    "$\\frac{\\partial loss}{\\partial w_0} = (pred-y_{true}) \\cdot x_0$  \n",
    "\n",
    "Sans détailler le calcul, on obtient également :  \n",
    "$\\frac{\\partial loss}{\\partial b} = pred-y_{true}$ "
   ]
  },
  {
   "cell_type": "markdown",
   "metadata": {},
   "source": [
    "### Régression logistique"
   ]
  },
  {
   "cell_type": "markdown",
   "metadata": {},
   "source": [
    "Maintenant que l'on a tous les éléments, \n",
    "définissons notre fonction de regression logistique en python :"
   ]
  },
  {
   "cell_type": "code",
   "execution_count": 3,
   "metadata": {},
   "outputs": [],
   "source": [
    "# Notre classe de regression logistique\n",
    "class logistic_regression():\n",
    "  def __init__(self) -> None:\n",
    "    self.w0=np.random.randn()\n",
    "    self.w1=np.random.randn()\n",
    "    self.w2=np.random.randn()\n",
    "    self.b=0\n",
    "  def __call__(self,x0,x1,x2):\n",
    "    # Somme pondérée et ajout du biais\n",
    "    pond=self.w0*x0+self.w1*x1+self.w2*x2+self.b\n",
    "    # Application de la sigmoïde\n",
    "    pred=sigmoid(pond)\n",
    "    return pred\n",
    "    \n",
    "def loss(y_true, y_pred):\n",
    "  # Calcul du loss (log vraisemblance négative)\n",
    "  loss = - (y_true * np.log(y_pred) + (1 - y_true) * np.log(1 - y_pred))\n",
    "  return loss\n",
    "    \n",
    "\n",
    "def update_weights(model,pred, x0, x1, x2, y_true, learning_rate):\n",
    "       \n",
    "  # On calcule les dérivées en fonction des poids et du biais \n",
    "  dL_dw0 = (pred - y_true) * x0\n",
    "  dL_dw1 = (pred - y_true) * x1\n",
    "  dL_dw2 = (pred - y_true) * x2\n",
    "  dL_db = pred - y_true\n",
    "      \n",
    "  # On modifie les paramètres pour réduire le loss \n",
    "  # La modification des poids dépend du learning rate, du signe de la dérivée et de la valeur de la dérivée\n",
    "  model.w0 -= learning_rate * dL_dw0\n",
    "  model.w1 -= learning_rate * dL_dw1\n",
    "  model.w2 -= learning_rate * dL_dw2\n",
    "  model.b -= learning_rate * dL_db"
   ]
  },
  {
   "cell_type": "code",
   "execution_count": 4,
   "metadata": {},
   "outputs": [],
   "source": [
    "\n",
    "# Initialisation du modèle et des hyperparamètres\n",
    "learning_rate = 0.01\n",
    "epochs = 1000 # le nombre d'itérations d'entrainement\n",
    "model = logistic_regression()"
   ]
  },
  {
   "cell_type": "markdown",
   "metadata": {},
   "source": [
    "Avant d'entraîner le modèle, testons nos prédictions sur les deux élèves dont on désire connaître le résultat de l'admission."
   ]
  },
  {
   "cell_type": "code",
   "execution_count": 5,
   "metadata": {},
   "outputs": [
    {
     "name": "stdout",
     "output_type": "stream",
     "text": [
      "L'élève avec Examen = 0.8, Moyenne = 0.7 et Motivation = 0.7 a 60% de chance d'être admis\n",
      "L'élève avec Examen = 0.4, Moyenne = 0.5 et Motivation = 0.9 a 59% de chance d'être admis\n"
     ]
    }
   ],
   "source": [
    "values_test=[[0.8,0.7,0.7],[0.4,0.5,0.9]]\n",
    "for value in values_test:\n",
    "  x0,x1,x2=value\n",
    "  pred = model(x0, x1, x2)\n",
    "  print(\"L'élève avec Examen = \"+str(x0)+ \", Moyenne = \"+str(x1)+\" et Motivation = \"+str(x2)+ \" a \"+str(round(pred*100)) + \"% de chance d'être admis\")"
   ]
  },
  {
   "cell_type": "markdown",
   "metadata": {},
   "source": [
    "On voit que le modèle est très incertain et qu'il donne des probabilités au hasard ce qui est logique car ses poids sont initialisés aléatoirement.  \n",
    "Maintenant, entrainons le modèle sur nos données d'entrainement. "
   ]
  },
  {
   "cell_type": "code",
   "execution_count": 9,
   "metadata": {},
   "outputs": [
    {
     "name": "stdout",
     "output_type": "stream",
     "text": [
      "Epoch 1/40000, Loss: 0.01468091027998586\n",
      "Epoch 5000/40000, Loss: 0.013032955086147595\n",
      "Epoch 10000/40000, Loss: 0.011715352279809266\n",
      "Epoch 15000/40000, Loss: 0.010638348324912276\n",
      "Epoch 20000/40000, Loss: 0.009741762611763436\n",
      "Epoch 25000/40000, Loss: 0.008983896958517028\n",
      "Epoch 30000/40000, Loss: 0.008334957514714105\n",
      "Epoch 35000/40000, Loss: 0.007773096000082178\n",
      "Epoch 40000/40000, Loss: 0.007281930357182074\n"
     ]
    }
   ],
   "source": [
    "# Entraînement\n",
    "for epoch in range(epochs):\n",
    "  # Mise à jour des poids pour chaque exemple\n",
    "  total_loss = 0\n",
    "  for (x0, x1, x2), y_true in zip(values_train, labels_train):\n",
    "    pred = model(x0, x1, x2)\n",
    "    update_weights(model,pred, x0, x1, x2, y_true, learning_rate)\n",
    "    total_loss += loss(y_true, pred)\n",
    "\n",
    "  avg_loss = total_loss / len(labels_train)\n",
    "  \n",
    "  # Affichage de la perte pour suivre la progression de l'entraînement\n",
    "  if ((epoch + 1) % 5000 == 0) or (epoch==0):\n",
    "    print(f\"Epoch {epoch + 1}/{epochs}, Loss: {avg_loss}\")"
   ]
  },
  {
   "cell_type": "code",
   "execution_count": 10,
   "metadata": {},
   "outputs": [
    {
     "name": "stdout",
     "output_type": "stream",
     "text": [
      "19.464301071981186 -3.27230109363944 -8.244865180820856 -4.903197398150705\n",
      "L'élève avec Examen = 0.8, Moyenne = 0.7 et Motivation = 0.7 a 93% de chance d'être admis\n",
      "L'élève avec Examen = 0.4, Moyenne = 0.5 et Motivation = 0.9 a 0% de chance d'être admis\n"
     ]
    }
   ],
   "source": [
    "print(model.w0, model.w1, model.w2, model.b)\n",
    "\n",
    "for value in values_test:\n",
    "  x0,x1,x2=value\n",
    "  pred = model(x0, x1, x2)\n",
    "  print(\"L'élève avec Examen = \"+str(x0)+ \", Moyenne = \"+str(x1)+\" et Motivation = \"+str(x2)+ \" a \"+str(round(pred*100)) + \"% de chance d'être admis\")"
   ]
  },
  {
   "cell_type": "markdown",
   "metadata": {},
   "source": [
    "Comme on peut le voir, notre modèle est maintenant beaucoup plus confiant des ses prédictions et il nous donne des prédictions cohérentes par rapport aux données d'entrainement. "
   ]
  }
 ],
 "metadata": {
  "kernelspec": {
   "display_name": "dev",
   "language": "python",
   "name": "python3"
  },
  "language_info": {
   "codemirror_mode": {
    "name": "ipython",
    "version": 3
   },
   "file_extension": ".py",
   "mimetype": "text/x-python",
   "name": "python",
   "nbconvert_exporter": "python",
   "pygments_lexer": "ipython3",
   "version": "3.11.9"
  }
 },
 "nbformat": 4,
 "nbformat_minor": 2
}
