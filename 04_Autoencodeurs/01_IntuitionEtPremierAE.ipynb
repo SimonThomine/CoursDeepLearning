{
 "cells": [
  {
   "cell_type": "markdown",
   "metadata": {},
   "source": [
    "# Introduction aux autoencodeurs"
   ]
  },
  {
   "cell_type": "markdown",
   "metadata": {},
   "source": [
    "## Apprentissage supervisé et non supervisé"
   ]
  },
  {
   "cell_type": "markdown",
   "metadata": {},
   "source": [
    "### Apprentissage supervisé"
   ]
  },
  {
   "cell_type": "markdown",
   "metadata": {},
   "source": [
    "Dans les cours précédents, nous avons uniquement abordé des cas d'apprentissage supervisé. Pour faire simple, ce sont les cas où, dans les données d'entraînement, on possède un élèment d'entrée **x** et une sortie **y**. Le but du modèle sera alors de prendre **x** en entrée et de prédire la valeur de **y**.  \n",
    "Pour MNIST, nous avions une image **x** et un label y correspondant à un chiffre en 0 et 9. Pour la segmentation, on avait une image **x** et un masque **y** en sortie. "
   ]
  },
  {
   "cell_type": "markdown",
   "metadata": {},
   "source": [
    "### Apprentissage non supervisé"
   ]
  },
  {
   "cell_type": "markdown",
   "metadata": {},
   "source": [
    "Dans le cas de l'apprentissage non supervisé, nous avons des données non labelisées c'est à dire qu'on a le **x** mais pas le **y**. Dans ce cas, il ne sera pas possible de prédire une valeur bien définie par exemple mais on peut imaginer entraîner un modèle à regrouper des éléments semblables (c'est ce qu'on appelle le clustering).   \n",
    "Dans ce cours, nous allons plutôt nous intéresser à la détection d'anomalies non supervisées. Cela va consister à entraîner un modèle sur un certain type de données et utiliser ce modèle pour détecter des élèments qui seraient distincts du jeu de données d'entraînement. "
   ]
  },
  {
   "cell_type": "markdown",
   "metadata": {},
   "source": [
    "## Autoencodeur"
   ]
  },
  {
   "cell_type": "markdown",
   "metadata": {},
   "source": [
    "### Architecture"
   ]
  },
  {
   "cell_type": "markdown",
   "metadata": {},
   "source": [
    "Le modèle de base utilisé pour ce type de tâches se nomme \"autoencodeur\". Il a une architecture propre du modèle U-Net que l'on a vu dans le cours précédent.  \n",
    "Voici l'architecture classique d'un autoencodeur :  \n",
    "<img src=\"images/AE.png\" alt=\"AE\" width=\"600\"/>"
   ]
  },
  {
   "cell_type": "markdown",
   "metadata": {},
   "source": [
    "Comme vous pouvez le voir, il a une forme de \"sablier\". L'idée de l'autoencodeur est de créer une representation compressée de la données d'entrée et de la reconstruire à partir de cette representation compressée. On peut d'ailleurs utiliser ce modèle dans un objectif de compression de données.   "
   ]
  },
  {
   "cell_type": "markdown",
   "metadata": {},
   "source": [
    "### Utilisation pour la détection d'anomalies non supervisée"
   ]
  },
  {
   "cell_type": "markdown",
   "metadata": {},
   "source": [
    "Pour la détection d'anomalies non supervisée, prenons un exemple de ce qu'il va se passer. On entraîne notre autoencodeur à reconstruire des images du chiffre 5 pendant l'entraînement. Une fois que le modèle est entraîné, il pourra reconstruire une image de 5 à la perfection. Si notre objectif est de détecter si une image est une image de 5 ou une image d'un autre chiffre, il suffit de donner l'image à notre autoencodeur et en fonction de la qualité de la reconstruction ($image_{base} - image_{recons}$), on pourra savoir si il s'agit d'un 5 ou non.   \n",
    "L'image suivante illustre cette description :  \n",
    "<img src=\"images/AE_mnist.png\" alt=\"AE\" width=\"600\"/>"
   ]
  },
  {
   "cell_type": "markdown",
   "metadata": {},
   "source": [
    "## Application pratique sur MNIST"
   ]
  },
  {
   "cell_type": "markdown",
   "metadata": {},
   "source": [
    "Pour clarifier la description précédente, nous allons entraîner le modèle autoencodeur de reconstruction des 5 avec Pytorch. "
   ]
  },
  {
   "cell_type": "code",
   "execution_count": 225,
   "metadata": {},
   "outputs": [],
   "source": [
    "import numpy as np\n",
    "import random\n",
    "import torch\n",
    "import torch.nn as nn\n",
    "import torch.nn.functional as F\n",
    "import torchvision.transforms as T\n",
    "from torchvision import datasets\n",
    "from torch.utils.data import DataLoader\n",
    "import matplotlib.pyplot as plt\n",
    "\n",
    "# Pour la reproducibilité\n",
    "np.random.seed(1337)\n",
    "random.seed(1337)"
   ]
  },
  {
   "cell_type": "markdown",
   "metadata": {},
   "source": [
    "### Création des datasets d'entraînement et de test"
   ]
  },
  {
   "cell_type": "code",
   "execution_count": 226,
   "metadata": {},
   "outputs": [],
   "source": [
    "transform=T.ToTensor() # Pour convertir les éléments en tensor torch directement\n",
    "dataset = datasets.MNIST(root='./../data', train=True, download=True,transform=transform)\n",
    "test_dataset = datasets.MNIST(root='./../data', train=False,transform=transform)"
   ]
  },
  {
   "cell_type": "markdown",
   "metadata": {},
   "source": [
    "Nous avons récuperé nos dataset de train/val et de test. On cherche à ne garder que les 5 dans notre dataset d'entraînement. Pour cela, supprimons les éléments du dataset qui contiennent un chiffre différent de 5."
   ]
  },
  {
   "cell_type": "code",
   "execution_count": 227,
   "metadata": {},
   "outputs": [],
   "source": [
    "# On récupere les indices des images de 5\n",
    "indices = [i for i, label in enumerate(dataset.targets) if label == 5]\n",
    "# On créer un nouveau dataset avec uniquement les 5\n",
    "filtered_dataset = torch.utils.data.Subset(dataset, indices)"
   ]
  },
  {
   "cell_type": "markdown",
   "metadata": {},
   "source": [
    "On peut visualiser quelques images pour s'assurer que l'on a bien que des images de 5."
   ]
  },
  {
   "cell_type": "code",
   "execution_count": 228,
   "metadata": {},
   "outputs": [
    {
     "data": {
      "image/png": "[encoded data removed]",
      "text/plain": [
       "<Figure size 1500x300 with 5 Axes>"
      ]
     },
     "metadata": {},
     "output_type": "display_data"
    }
   ],
   "source": [
    "fig, axes = plt.subplots(1, 5, figsize=(15, 3))\n",
    "for i in range(5):\n",
    "    image, label = filtered_dataset[i]\n",
    "    image = image.squeeze().numpy() \n",
    "    axes[i].imshow(image, cmap='gray')\n",
    "    axes[i].set_title(f'Label: {label}')\n",
    "    axes[i].axis('off')\n",
    "plt.show()"
   ]
  },
  {
   "cell_type": "markdown",
   "metadata": {},
   "source": [
    "Divisons maintenant le dataset en train et validation puis créons nos dataloaders."
   ]
  },
  {
   "cell_type": "code",
   "execution_count": 229,
   "metadata": {},
   "outputs": [],
   "source": [
    "train_dataset, validation_dataset=torch.utils.data.random_split(filtered_dataset, [0.8,0.2])\n",
    "train_loader = DataLoader(train_dataset, batch_size=64, shuffle=True)\n",
    "val_loader= DataLoader(validation_dataset, batch_size=64, shuffle=True)\n",
    "test_loader = DataLoader(test_dataset, batch_size=64, shuffle=False)"
   ]
  },
  {
   "cell_type": "markdown",
   "metadata": {},
   "source": [
    "### Création du modèle autoencodeur"
   ]
  },
  {
   "cell_type": "markdown",
   "metadata": {},
   "source": [
    "Pour la dataset MNIST, il n'est pas nécessaire de faire une architecture très profonde pour avoir des résultats satisfaisants. Comme il s'agit d'images, nous utilisons un réseau convolutif. "
   ]
  },
  {
   "cell_type": "code",
   "execution_count": 241,
   "metadata": {},
   "outputs": [],
   "source": [
    "class ae(nn.Module):\n",
    "    def __init__(self, *args, **kwargs) -> None:\n",
    "        super().__init__(*args, **kwargs)\n",
    "\n",
    "        self.encoder = nn.Sequential( # Sequential permet de groupe une série de transformation\n",
    "            nn.Linear(28 * 28, 512), \n",
    "            nn.ReLU(),\n",
    "            nn.Linear(512, 256),\n",
    "            nn.ReLU(),\n",
    "            nn.Linear(256, 128),\n",
    "            nn.ReLU(),\n",
    "        )\n",
    "        self.decoder = nn.Sequential(\n",
    "            nn.Linear(128, 256),\n",
    "            nn.ReLU(),\n",
    "            nn.Linear(256, 512),\n",
    "            nn.ReLU(),\n",
    "            nn.Linear(512, 28 * 28),\n",
    "            nn.Sigmoid()\n",
    "        )\n",
    "    \n",
    "    def forward(self,x):\n",
    "        x=x.view(-1,28*28) \n",
    "        x = self.encoder(x)\n",
    "        x = self.decoder(x)\n",
    "        recons=x.view(-1,28,28)\n",
    "        return recons"
   ]
  },
  {
   "cell_type": "code",
   "execution_count": 242,
   "metadata": {},
   "outputs": [
    {
     "name": "stdout",
     "output_type": "stream",
     "text": [
      "ae(\n",
      "  (encoder): Sequential(\n",
      "    (0): Linear(in_features=784, out_features=512, bias=True)\n",
      "    (1): ReLU()\n",
      "    (2): Linear(in_features=512, out_features=256, bias=True)\n",
      "    (3): ReLU()\n",
      "    (4): Linear(in_features=256, out_features=128, bias=True)\n",
      "    (5): ReLU()\n",
      "  )\n",
      "  (decoder): Sequential(\n",
      "    (0): Linear(in_features=128, out_features=256, bias=True)\n",
      "    (1): ReLU()\n",
      "    (2): Linear(in_features=256, out_features=512, bias=True)\n",
      "    (3): ReLU()\n",
      "    (4): Linear(in_features=512, out_features=784, bias=True)\n",
      "    (5): Sigmoid()\n",
      "  )\n",
      ")\n",
      "Nombre de paramètres 1132944\n"
     ]
    }
   ],
   "source": [
    "model = ae() # Couches d'entrée de taille 2, deux couches cachées de 16 neurones et un neurone de sortie\n",
    "print(model)\n",
    "print(\"Nombre de paramètres\", sum(p.numel() for p in model.parameters()))"
   ]
  },
  {
   "cell_type": "markdown",
   "metadata": {},
   "source": [
    "### Entraînement du modèle"
   ]
  },
  {
   "cell_type": "markdown",
   "metadata": {},
   "source": [
    "Pour la fonction de loss, nous utilisons la fonction MSELoss qui est la perte quadratique moyenne définie comme ceci :  \n",
    "$\\text{MSE} = \\frac{1}{N} \\sum_{i=1}^{N} (y_i - \\hat{y}_i)^2$  \n",
    "où $N$ est le nombre total de pixels dans l'image, $y_i$ est la valeur du pixel $i$ dans l'image originale, et $\\hat{y}_i$ est la valeur du pixel $i$ dans l'image reconstruite. C'est une fonction classique pour quantifier la qualité d'une reconstruction. "
   ]
  },
  {
   "cell_type": "code",
   "execution_count": 243,
   "metadata": {},
   "outputs": [],
   "source": [
    "criterion = nn.MSELoss()\n",
    "epochs=10\n",
    "learning_rate=0.001\n",
    "optimizer=torch.optim.Adam(model.parameters(),lr=learning_rate)"
   ]
  },
  {
   "cell_type": "code",
   "execution_count": 244,
   "metadata": {},
   "outputs": [
    {
     "name": "stdout",
     "output_type": "stream",
     "text": [
      "step 0 train loss 0.0833301916718483\n",
      "step 0 val loss 0.061610087752342224\n",
      "step 1 train loss 0.061474427580833435\n",
      "step 1 val loss 0.06109720095992088\n",
      "step 2 train loss 0.06124737113714218\n",
      "step 2 val loss 0.06094793602824211\n",
      "step 3 train loss 0.06107489392161369\n",
      "step 3 val loss 0.06083217263221741\n",
      "step 4 train loss 0.061055995523929596\n",
      "step 4 val loss 0.06091909483075142\n",
      "step 5 train loss 0.06111642345786095\n",
      "step 5 val loss 0.060805924236774445\n",
      "step 6 train loss 0.0610051155090332\n",
      "step 6 val loss 0.060772474855184555\n",
      "step 7 train loss 0.060932707041502\n",
      "step 7 val loss 0.060732826590538025\n",
      "step 8 train loss 0.06091972067952156\n",
      "step 8 val loss 0.06088754162192345\n",
      "step 9 train loss 0.06091047823429108\n",
      "step 9 val loss 0.060740385204553604\n"
     ]
    }
   ],
   "source": [
    "for i in range(epochs):\n",
    "    loss_train=0\n",
    "    for images, _ in train_loader:\n",
    "        recons=model(images)\n",
    "        loss=criterion(recons,images)\n",
    "        optimizer.zero_grad()\n",
    "        loss.backward()\n",
    "        optimizer.step()\n",
    "        loss_train+=loss   \n",
    "    if i % 1 == 0:\n",
    "        print(f\"step {i} train loss {loss_train/len(train_loader)}\")\n",
    "    loss_val=0    \n",
    "    for images, _ in val_loader:\n",
    "        with torch.no_grad():\n",
    "            recons=model(images)\n",
    "            loss=criterion(recons,images)\n",
    "            loss_val+=loss \n",
    "    if i % 1 == 0:\n",
    "        print(f\"step {i} val loss {loss_val/len(val_loader)}\")"
   ]
  },
  {
   "cell_type": "code",
   "execution_count": 246,
   "metadata": {},
   "outputs": [
    {
     "data": {
      "image/png": "[encoded data removed]",
      "text/plain": [
       "<Figure size 1000x500 with 2 Axes>"
      ]
     },
     "metadata": {},
     "output_type": "display_data"
    },
    {
     "name": "stdout",
     "output_type": "stream",
     "text": [
      "difference :  0.06857609003782272\n"
     ]
    }
   ],
   "source": [
    "images,_=next(iter(test_loader))\n",
    "\n",
    "#Isolons un élément \n",
    "image=images[0].unsqueeze(0)\n",
    "with torch.no_grad():\n",
    "    recons=model(image)\n",
    "fig, axs = plt.subplots(1, 2, figsize=(10, 5))\n",
    "\n",
    "# Image d'origine\n",
    "axs[0].imshow(image[0].squeeze().cpu().numpy(), cmap='gray')\n",
    "axs[0].set_title('Image d\\'origine')\n",
    "axs[0].axis('off')\n",
    "\n",
    "# Image reconstruite\n",
    "axs[1].imshow(recons[0].squeeze().cpu().numpy(), cmap='gray')\n",
    "axs[1].set_title('Image reconstruite')\n",
    "axs[1].axis('off')\n",
    "plt.show()\n",
    "print(\"difference : \", criterion(image,recons).item())"
   ]
  },
  {
   "cell_type": "markdown",
   "metadata": {},
   "source": [
    "On constate que la reconstruction du 7 est très mauvaise, on peut donc déduire qu'il s'agit d'une anomalie. "
   ]
  }
 ],
 "metadata": {
  "kernelspec": {
   "display_name": "dev",
   "language": "python",
   "name": "python3"
  },
  "language_info": {
   "codemirror_mode": {
    "name": "ipython",
    "version": 3
   },
   "file_extension": ".py",
   "mimetype": "text/x-python",
   "name": "python",
   "nbconvert_exporter": "python",
   "pygments_lexer": "ipython3",
   "version": "3.11.8"
  }
 },
 "nbformat": 4,
 "nbformat_minor": 2
}
