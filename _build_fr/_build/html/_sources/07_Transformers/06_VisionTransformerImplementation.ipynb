{
 "cells": [
  {
   "cell_type": "markdown",
   "metadata": {},
   "source": [
    "# Vision transformer implementation"
   ]
  },
  {
   "cell_type": "markdown",
   "metadata": {},
   "source": [
    "Dans ce notebook, nous allons implémenter le *vision transformer* et la tester le petit dataset CIFAR-10. L'implémentation reprend des éléments du notebook 2 \"GptFromScratch\" donc il est nécessaire de les faire dans l'ordre. \n",
    "\n",
    "L'implémentation se base sur le papier [An Image is Worth 16x16 Words: Transformers for Image Recognition at Scale](https://arxiv.org/pdf/2010.11929). \n",
    "\n",
    "Voici la figure importante de cet article que l'on va implémenter petit à petit : \n",
    "\n",
    "<img src=\"images/ViT.png\" alt=\"transformer\" width=\"700\"/> \n"
   ]
  },
  {
   "cell_type": "code",
   "execution_count": 1,
   "metadata": {},
   "outputs": [
    {
     "name": "stdout",
     "output_type": "stream",
     "text": [
      "using device: cpu\n"
     ]
    }
   ],
   "source": [
    "import torch\n",
    "import torch.nn as nn\n",
    "import torch.nn.functional as F\n",
    "import torchvision.transforms as T\n",
    "import torchvision.datasets as datasets\n",
    "import matplotlib.pyplot as plt\n",
    "\n",
    "# Detection automatique du GPU\n",
    "device = \"cpu\"\n",
    "if torch.cuda.is_available():\n",
    "    device = \"cuda\"\n",
    "print(f\"using device: {device}\")"
   ]
  },
  {
   "cell_type": "markdown",
   "metadata": {},
   "source": [
    "## Reprise du code précédent "
   ]
  },
  {
   "cell_type": "markdown",
   "metadata": {},
   "source": [
    "Dans un premier temps, on va reprendre le code du [notebook 2 de ce cours](../07_Transformers/02_GptFromScratch.ipynb) en y apportant quelques modifications.  "
   ]
  },
  {
   "cell_type": "markdown",
   "metadata": {},
   "source": [
    "### Couche de self-attention"
   ]
  },
  {
   "cell_type": "markdown",
   "metadata": {},
   "source": [
    "Si vous vous souvenez bien, dans le notebook 2 nous avons implémenté la couche *masked multi-head attention* pour entraîner un *transformer* de type *decoder*. Pour les images, on veut un *transformer* de type *encoder*, il va donc falloir changer notre implémentation.   \n",
    "C'est en fait très simple : on avait une multiplication par une matrice triangulaire inférieure pour masquer le \"futur\" dans le *decoder* alors que dans l'*encoder* on ne veut pas masquer le futur, il suffit donc de supprimer cette multiplication par la matrice.\n",
    "\n",
    "Voici le code python ajusté : "
   ]
  },
  {
   "cell_type": "code",
   "execution_count": 2,
   "metadata": {},
   "outputs": [],
   "source": [
    "class Head_enc(nn.Module):\n",
    "    \"\"\" Couche de self-attention unique \"\"\"\n",
    "\n",
    "    def __init__(self, head_size,n_embd,dropout=0.2):\n",
    "        super().__init__()\n",
    "        self.key = nn.Linear(n_embd, head_size, bias=False)\n",
    "        self.query = nn.Linear(n_embd, head_size, bias=False)\n",
    "        self.value = nn.Linear(n_embd, head_size, bias=False)\n",
    "        self.dropout = nn.Dropout(dropout)\n",
    "\n",
    "    def forward(self, x):\n",
    "        B,T,C = x.shape\n",
    "        k = self.key(x)   # (B,T,C)\n",
    "        q = self.query(x) # (B,T,C)\n",
    "        # Le * C**-0.5 correspond à la normalisation par la racine de head_size\n",
    "        wei = q @ k.transpose(-2,-1) * C**-0.5 # (B, T, C) @ (B, C, T) -> (B, T, T)\n",
    "        # On a supprimer le masquage du futur\n",
    "        wei = F.softmax(wei, dim=-1) # (B, T, T)\n",
    "        wei = self.dropout(wei)\n",
    "        v = self.value(x) # (B,T,C)\n",
    "        out = wei @ v # (B, T, T) @ (B, T, C) -> (B, T, C)\n",
    "        return out"
   ]
  },
  {
   "cell_type": "markdown",
   "metadata": {},
   "source": [
    "### Multi-head self-attention"
   ]
  },
  {
   "cell_type": "markdown",
   "metadata": {},
   "source": [
    "Pour avoir plusieurs *head*, on va simplement reprendre notre classe du notebook 2 mais en utilisant *Head_enc* au lieu de *Head* : "
   ]
  },
  {
   "cell_type": "code",
   "execution_count": 3,
   "metadata": {},
   "outputs": [],
   "source": [
    "class MultiHeadAttention(nn.Module):\n",
    "    \"\"\" Plusieurs couches de self attention en parallèle\"\"\"\n",
    "\n",
    "    def __init__(self, num_heads, head_size,n_embd,dropout):\n",
    "        super().__init__()\n",
    "        # Création de num_head couches head_enc de taille head_size\n",
    "        self.heads = nn.ModuleList([Head_enc(head_size,n_embd,dropout) for _ in range(num_heads)])\n",
    "        self.proj = nn.Linear(n_embd, n_embd)\n",
    "        self.dropout = nn.Dropout(dropout)\n",
    "\n",
    "    def forward(self, x):\n",
    "        out = torch.cat([h(x) for h in self.heads], dim=-1)\n",
    "        out = self.dropout(self.proj(out))\n",
    "        return out"
   ]
  },
  {
   "cell_type": "markdown",
   "metadata": {},
   "source": [
    "### Feed forward layer"
   ]
  },
  {
   "cell_type": "markdown",
   "metadata": {},
   "source": [
    "On réutilise également notre implémentation de la *feed forward layer*, on change juste la fonction d'activation *ReLU* en *GeLU* comme décrit dans le papier : "
   ]
  },
  {
   "cell_type": "code",
   "execution_count": 4,
   "metadata": {},
   "outputs": [],
   "source": [
    "class FeedFoward(nn.Module):\n",
    "\n",
    "    def __init__(self, n_embd,dropout):\n",
    "        super().__init__()\n",
    "        self.net = nn.Sequential(\n",
    "            nn.Linear(n_embd, 4 * n_embd),\n",
    "            nn.GELU(),\n",
    "            nn.Linear(4 * n_embd, n_embd),\n",
    "            nn.Dropout(dropout),\n",
    "        )\n",
    "\n",
    "    def forward(self, x):\n",
    "        return self.net(x)"
   ]
  },
  {
   "cell_type": "markdown",
   "metadata": {},
   "source": [
    "### Transformer encoder block"
   ]
  },
  {
   "cell_type": "markdown",
   "metadata": {},
   "source": [
    "Et enfin, on peut construire notre *block* de *transformer* encorder correspondant à celui que l'on voit sur la figure plus haut : "
   ]
  },
  {
   "cell_type": "code",
   "execution_count": 5,
   "metadata": {},
   "outputs": [],
   "source": [
    "class TransformerBlock(nn.Module):\n",
    "    \"\"\" Block transformer\"\"\"\n",
    "\n",
    "    def __init__(self, n_embd, n_head,dropout=0.):\n",
    "        super().__init__()\n",
    "        head_size = n_embd // n_head\n",
    "        self.sa = MultiHeadAttention(n_head, head_size,n_embd,dropout)\n",
    "        self.ffwd = FeedFoward(n_embd,dropout)\n",
    "        self.ln1 = nn.LayerNorm(n_embd)\n",
    "        self.ln2 = nn.LayerNorm(n_embd)\n",
    "\n",
    "    def forward(self, x):\n",
    "        x = x + self.sa(self.ln1(x))\n",
    "        x = x + self.ffwd(self.ln2(x))\n",
    "        return x"
   ]
  },
  {
   "cell_type": "markdown",
   "metadata": {},
   "source": [
    "**Note** : Ici, je suis allé très rapidement sur ces couches car elles ont été implémentées en détail dans le notebook 2. Je vous invite à vous y référer en cas d'incompréhension. "
   ]
  },
  {
   "cell_type": "markdown",
   "metadata": {},
   "source": [
    "## Implémentation du réseau"
   ]
  },
  {
   "cell_type": "markdown",
   "metadata": {},
   "source": [
    "Nous allons maintenant faire l'implémentation du réseau pas à pas."
   ]
  },
  {
   "cell_type": "markdown",
   "metadata": {},
   "source": [
    "### Séparation de l'image en patch "
   ]
  },
  {
   "cell_type": "markdown",
   "metadata": {},
   "source": [
    "La première étape décrite dans la papier est la division de l'image en *patch* :    \n",
    "Chaque image est découpé en $N$ patchs de taille $p \\times p$ puis les *patchs* sont ensuite applatis (*flatten*).   \n",
    "On passe d'une dimension de l'image $\\mathbf{x} \\in \\mathbb{R}^{H \\times W \\times C}$ à une séquence de *patch* $\\mathbf{x}_p \\in \\mathbb{R}^{N \\times (P^2 \\cdot C)}$.\n",
    "\n",
    "\n",
    "<img src=\"images/patchs.png\" alt=\"patchs\" width=\"400\"/> \n"
   ]
  },
  {
   "cell_type": "markdown",
   "metadata": {},
   "source": [
    "Pour réaliser cela, nous allons récuperer une image du dataset CIFAR-10 comme exemple ce qui nous permettra de visualiser si notre code fonctionne."
   ]
  },
  {
   "cell_type": "code",
   "execution_count": 6,
   "metadata": {},
   "outputs": [
    {
     "name": "stdout",
     "output_type": "stream",
     "text": [
      "Files already downloaded and verified\n"
     ]
    }
   ],
   "source": [
    "transform=T.ToTensor() # Pour convertir les éléments en tensor torch directement\n",
    "dataset = datasets.CIFAR10(root='./../data', train=True, download=True,transform=transform)"
   ]
  },
  {
   "cell_type": "markdown",
   "metadata": {},
   "source": [
    "Récuperons une simple image de ce dataset pour faire nos magouilles :"
   ]
  },
  {
   "cell_type": "code",
   "execution_count": 7,
   "metadata": {},
   "outputs": [
    {
     "name": "stdout",
     "output_type": "stream",
     "text": [
      "torch.Size([3, 32, 32])\n"
     ]
    },
    {
     "data": {
      "image/png": "[encoded data removed]",
      "text/plain": [
       "<Figure size 640x480 with 1 Axes>"
      ]
     },
     "metadata": {},
     "output_type": "display_data"
    }
   ],
   "source": [
    "image=dataset[0][0]\n",
    "print(image.shape)\n",
    "plt.imshow(dataset[0][0].permute(1,2,0).numpy())\n",
    "plt.axis(\"off\")\n",
    "plt.show()"
   ]
  },
  {
   "cell_type": "markdown",
   "metadata": {},
   "source": [
    "Une magnifique grenouille !\n",
    "\n",
    "Pour choisir la dimension d'un *patch*, il faut prendre une dimension divisible par 32. Prenons par exemple $8 \\times 8$ ce qui nous fera 16 *patchs*. Laissons cette valeur comme étant un paramètre que l'on peut choisir.\n",
    "\n",
    "Dans un premier temps, on peut penser qu'il faut faire deux boucles sur la largeur et la hauteur en récuperant un patch à chaque fois de cette manière : "
   ]
  },
  {
   "cell_type": "code",
   "execution_count": 8,
   "metadata": {},
   "outputs": [
    {
     "name": "stdout",
     "output_type": "stream",
     "text": [
      "torch.Size([16, 3, 8, 8])\n"
     ]
    }
   ],
   "source": [
    "patch_size = 8\n",
    "list_of_patches = []\n",
    "for i in range(0,image.shape[1],patch_size):\n",
    "    for j in range(0,image.shape[2],patch_size):\n",
    "        patch=image[:,i:i+patch_size,j:j+patch_size]\n",
    "        list_of_patches.append(patch)\n",
    "tensor_patches = torch.stack(list_of_patches)\n",
    "print(tensor_patches.shape)"
   ]
  },
  {
   "cell_type": "markdown",
   "metadata": {},
   "source": [
    "Ce n'est pas du tout efficace en terme de code. Avec pytorch, on peut en fait faire beaucoup plus simple avec *view()* et *unfold()*. Cette étape est un peu compliqué mais nécessaire pour des raisons de continuité en mémoire pour que la fonction *view()* fonctionne correctement. Faire simplement ```patches = image.view(-1, C, patch_size, patch_size)``` ne fonctionnerait pas (vous pouvez essayer pour vous en assurer)."
   ]
  },
  {
   "cell_type": "code",
   "execution_count": 9,
   "metadata": {},
   "outputs": [
    {
     "name": "stdout",
     "output_type": "stream",
     "text": [
      "torch.Size([16, 3, 8, 8])\n",
      "tensor(True)\n"
     ]
    }
   ],
   "source": [
    "C,H,W = image.shape\n",
    "# On utilise la fonction unfold pour découper l'image en patch contigus\n",
    "# Le premier unfold découpe la première dimension (H) en ligne\n",
    "# Le deuxième unfold découpe chacune des lignes en patch_size colonnes \n",
    "# Ce qui donne une image de taille (C, H//patch_size, W//patch_size,patch_size, patch_size)\n",
    "patches = image.unfold(1, patch_size, patch_size).unfold(2, patch_size, patch_size)\n",
    "# Permute pour avoir les dimensions dans le bon ordre\n",
    "patches = patches.permute(1, 2, 0, 3, 4).contiguous()\n",
    "patches = patches.view(-1, C, patch_size, patch_size)\n",
    "print(patches.shape)\n",
    "# On peut vérifier que ça fait bien la même chose\n",
    "print((patches==tensor_patches).all())"
   ]
  },
  {
   "cell_type": "markdown",
   "metadata": {},
   "source": [
    "Maitenant on va applatir nos *patchs* pour avoir notre résultat final."
   ]
  },
  {
   "cell_type": "code",
   "execution_count": 10,
   "metadata": {},
   "outputs": [
    {
     "name": "stdout",
     "output_type": "stream",
     "text": [
      "16\n",
      "torch.Size([16, 192])\n"
     ]
    }
   ],
   "source": [
    "nb_patches = patches.shape[0]\n",
    "print(nb_patches)\n",
    "patches_flat = patches.flatten(1, 3)\n",
    "print(patches_flat.shape)"
   ]
  },
  {
   "cell_type": "markdown",
   "metadata": {},
   "source": [
    "Définissons une fonction pour faire ces transformations : "
   ]
  },
  {
   "cell_type": "code",
   "execution_count": 11,
   "metadata": {},
   "outputs": [],
   "source": [
    "# La fonction a été modifiée pour prendre en compte le batch\n",
    "def image_to_patches(image, patch_size):\n",
    "    # On rajoute une dimension pour le batch\n",
    "    B,C,_,_ = image.shape\n",
    "    patches = image.unfold(2, patch_size, patch_size).unfold(3, patch_size, patch_size)\n",
    "    patches = patches.permute(0,2, 3, 1, 4, 5).contiguous()\n",
    "    patches = patches.view(B,-1, C, patch_size, patch_size)\n",
    "    patches_flat = patches.flatten(2, 4)\n",
    "    return patches_flat\n"
   ]
  },
  {
   "cell_type": "markdown",
   "metadata": {},
   "source": [
    "Nous y sommes ! La première étape est terminée :)"
   ]
  },
  {
   "cell_type": "markdown",
   "metadata": {},
   "source": [
    "### Projection linéaire des patchs "
   ]
  },
  {
   "cell_type": "markdown",
   "metadata": {},
   "source": [
    "Il est temps de passer à la deuxième étape qui est la projection linéaire des *patchs* dans un espace latent.\n",
    "\n",
    "<img src=\"images/linearproj.png\" alt=\"linearproj\" width=\"400\"/> \n"
   ]
  },
  {
   "cell_type": "markdown",
   "metadata": {},
   "source": [
    "Cette étape est l'équivalent de l'étape de conversion des *tokens* à l'aide la table d'*embedding*. Cette fois-ci, on va convertir nos *patchs* applatis en vecteur de dimension fixe pour que ces vecteurs puissent être traité par le *transformer*. Définissons notre dimension d'*embedding* et notre couche de projection :"
   ]
  },
  {
   "cell_type": "code",
   "execution_count": 12,
   "metadata": {},
   "outputs": [],
   "source": [
    "n_embd = 64\n",
    "proj_layer = nn.Linear(C*patch_size*patch_size, n_embd)"
   ]
  },
  {
   "cell_type": "markdown",
   "metadata": {},
   "source": [
    "C'est tout, ce n'est pas l'étape la plus compliquée."
   ]
  },
  {
   "cell_type": "markdown",
   "metadata": {},
   "source": [
    "### Embedding de position et class token"
   ]
  },
  {
   "cell_type": "markdown",
   "metadata": {},
   "source": [
    "Passons à la dernière étape avant les couches *transformers* (qui sont déjà implémentées).\n",
    "Cette étape contient en fait 2 étapes distinctes :\n",
    "- **L'ajout d'un embedding de position** : comme dans le GPT, le transformer n'a pas d'information préalable sur la position du patch dans l'image. Pour cela, on va simplement ajouter un *embedding* dédié à cela qui permettra au réseau d'avoir une notion de position relative des *patchs*.\n",
    "- **L'ajout d'un class token** : Cette étape est nouvelle car elle n'était pas nécessaire dans GPT. L'idée vient en fait de [BERT](https://arxiv.org/pdf/1810.04805) et est une technique pour faire de la classification à l'aide d'un *transformer* sans avoir à spécifier de taille de séquence fixe. Sans *class token*, pour obtenir notre classification, on aurait besoin soit de coller un réseau fully connected à l'ensemble des sorties du *transformers* (ce qui va imposer une taille de séquence fixe) ou de coller un réseau fully connected à une sortie du *transformer* choisie au hasard (une sortie correspond à un *patch*, mais alors comment choisir ce *patch* sans biais ?). L'ajout du *class token* permet de répondre à ce problème en ajoutant un *token* dédié spécifiquement à la classification. \n",
    "\n",
    "**Note** : Pour pour les CNNs, une manière d'éviter le problème de la dimension fixe de l'entrée est d'utiliser un *global average pooling* en sortie (couche de *pooling* avec taille de sortie fixe). Cette technique peut aussi être utilisée pour un *vision transformer* à la place du *class token*.\n",
    "\n",
    "\n",
    "<img src=\"images/embedclass.png\" alt=\"embedclass\" width=\"400\"/> \n"
   ]
  },
  {
   "cell_type": "code",
   "execution_count": 13,
   "metadata": {},
   "outputs": [],
   "source": [
    "# Pour le positional encoding, +1 pour le cls token\n",
    "pos_emb = nn.Embedding(nb_patches+1, n_embd)\n",
    "# On ajoute un token cls\n",
    "cls_token = torch.zeros(1, 1, n_embd)\n",
    "# On ajoutera ce token cls au début de chaque séquence"
   ]
  },
  {
   "cell_type": "markdown",
   "metadata": {},
   "source": [
    "### Réseau fully connected de classification"
   ]
  },
  {
   "cell_type": "markdown",
   "metadata": {},
   "source": [
    "Maintenant, passons à la fin du ViT, c'est à dire le réseau MLP de classification. Si vous avez suivi l'intêret du *class token*, vous comprenez que ce réseau de classification prend en entrée uniquement ce *token* pour nous sortir la classe prédite. \n",
    "\n",
    "<img src=\"images/fcn.png\" alt=\"fcn\" width=\"400\"/>\n",
    "\n",
    "A nouveau, c'est encore une implémentation assez simple. Dans l'article, ils disent qu'ils utilisent un réseau d'une couche cachée pour l'entraînement et uniquement une couche pour un *fine-tuning* (voir cours 10 pour des précisions sur le fine tuning). Par soucis de simplicité, nous utilisons une seule couche linéaire pour projeter le class *token* de sortie dans la dimension du nombre de classes."
   ]
  },
  {
   "cell_type": "code",
   "execution_count": 14,
   "metadata": {},
   "outputs": [],
   "source": [
    "classi_head = nn.Linear(n_embd, 10)"
   ]
  },
  {
   "cell_type": "markdown",
   "metadata": {},
   "source": [
    "Nous disposons maitenant de tous les éléments pour construire notre ViT et l'entraîner ! "
   ]
  },
  {
   "cell_type": "markdown",
   "metadata": {},
   "source": [
    "### Création du modèle ViT"
   ]
  },
  {
   "cell_type": "markdown",
   "metadata": {},
   "source": [
    "On peut maintenant rassembler les morceaux et créer notre *vision transformer*."
   ]
  },
  {
   "cell_type": "code",
   "execution_count": 15,
   "metadata": {},
   "outputs": [],
   "source": [
    "class ViT(nn.Module):\n",
    "    def __init__(self, n_embed,patch_size,C,n_head,n_layer,nb_patches,dropout=0.) -> None:\n",
    "        super().__init__()\n",
    "        self.proj_layer = nn.Linear(C*patch_size*patch_size, n_embed)\n",
    "        self.pos_emb = nn.Embedding(nb_patches+1, n_embed)\n",
    "        # Permet de créer cls_token comme un paramètre du réseau\n",
    "        self.register_parameter(name='cls_token', param=torch.nn.Parameter(torch.zeros(1, 1, n_embed)))\n",
    "        self.transformer=nn.Sequential(*[TransformerBlock(n_embed, n_head,dropout) for _ in range(n_layer)])\n",
    "        self.classi_head = nn.Linear(n_embed, 10)\n",
    "    \n",
    "    def forward(self,x):\n",
    "        B,_,_,_=x.shape\n",
    "        # On découpe l'image en patch et on les applatit\n",
    "        x = image_to_patches(x, patch_size)\n",
    "        # On projette dans la dimension n_embed\n",
    "        x = self.proj_layer(x)\n",
    "        # On ajoute le token cls\n",
    "        cls_tokens = self.cls_token.expand(B, -1, -1)\n",
    "        x = torch.cat((cls_tokens, x), dim=1)\n",
    "        # On ajoute le positional encoding\n",
    "        pos_emb = self.pos_emb(torch.arange(x.shape[1], device=x.device))\n",
    "        x = x + pos_emb\n",
    "        # On applique les blocks transformer\n",
    "        x = self.transformer(x)\n",
    "        # On récupère le token cls\n",
    "        cls_tokens = x[:, 0]\n",
    "        # On applique la dernière couche de classification\n",
    "        x = self.classi_head(cls_tokens)\n",
    "        return x        "
   ]
  },
  {
   "cell_type": "markdown",
   "metadata": {},
   "source": [
    "## Entrainement de notre ViT"
   ]
  },
  {
   "cell_type": "markdown",
   "metadata": {},
   "source": [
    "On va entraîner notre modèle ViT sur le dataset CIFAR-10. A noter que les paramètres que nous avons défini sont adaptés pour des images de petites taille (*n_embed* et *patch_size*). Pour traiter des images plus grande, il faudra adapter ces paramètres. Le code fonctionne avec des tailles différentes dans que la taille de l'image est divisible par le taille du *patch*. "
   ]
  },
  {
   "cell_type": "markdown",
   "metadata": {},
   "source": [
    "### Chargement des datasets : train, val et test"
   ]
  },
  {
   "cell_type": "markdown",
   "metadata": {},
   "source": [
    "Chargons le dataset CIFAR-10 et créons nos dataloaders : \n",
    "\n",
    "**Note** : Vous pouvez séléctionner une sous-partie du dataset pour accélerer l'entraînement."
   ]
  },
  {
   "cell_type": "code",
   "execution_count": 16,
   "metadata": {},
   "outputs": [
    {
     "name": "stdout",
     "output_type": "stream",
     "text": [
      "Files already downloaded and verified\n",
      "Files already downloaded and verified\n",
      "taille d'une image :  torch.Size([3, 32, 32])\n",
      "taille du train dataset :  40000\n",
      "taille du val dataset :  10000\n",
      "taille du test dataset :  10000\n"
     ]
    }
   ],
   "source": [
    "classes = ('plane', 'car', 'bird', 'cat','deer', 'dog', 'frog', 'horse', 'ship', 'truck')\n",
    "# Transformation des données, normalisation et transformation en tensor pytorch\n",
    "transform = T.Compose([T.ToTensor(),T.Normalize((0.5, 0.5, 0.5), (0.5, 0.5, 0.5))])\n",
    "\n",
    "# Téléchargement et chargement du dataset\n",
    "dataset = datasets.CIFAR10(root='./../data', train=True,download=True, transform=transform)\n",
    "testdataset = datasets.CIFAR10(root='./../data', train=False,download=True, transform=transform)\n",
    "print(\"taille d'une image : \",dataset[0][0].shape)\n",
    "\n",
    "\n",
    "#Création des dataloaders pour le train, validation et test\n",
    "train_dataset, val_dataset=torch.utils.data.random_split(dataset, [0.8,0.2])\n",
    "print(\"taille du train dataset : \",len(train_dataset))\n",
    "print(\"taille du val dataset : \",len(val_dataset))\n",
    "print(\"taille du test dataset : \",len(testdataset))\n",
    "train_loader = torch.utils.data.DataLoader(train_dataset, batch_size=16,shuffle=True, num_workers=2)\n",
    "val_loader= torch.utils.data.DataLoader(val_dataset, batch_size=16,shuffle=True, num_workers=2)\n",
    "test_loader = torch.utils.data.DataLoader(testdataset, batch_size=16,shuffle=False, num_workers=2)"
   ]
  },
  {
   "cell_type": "markdown",
   "metadata": {},
   "source": [
    "### Hyperparamètres et création du modèle"
   ]
  },
  {
   "cell_type": "markdown",
   "metadata": {},
   "source": [
    "On va maintenant définir nos hyperparamètres d'entraînement et pour les spécificités du modèle : "
   ]
  },
  {
   "cell_type": "code",
   "execution_count": 17,
   "metadata": {},
   "outputs": [],
   "source": [
    "patch_size = 8\n",
    "nb_patches = (32//patch_size)**2\n",
    "n_embed = 64\n",
    "n_head = 4\n",
    "n_layer = 4\n",
    "epochs = 10\n",
    "C=3 # Nombre de canaux\n",
    "lr = 1e-3\n",
    "model = ViT(n_embed,patch_size,C,n_head,n_layer,nb_patches).to(device)\n",
    "optimizer = torch.optim.Adam(model.parameters(), lr=lr)"
   ]
  },
  {
   "cell_type": "markdown",
   "metadata": {},
   "source": [
    "### Entrainement du modèle"
   ]
  },
  {
   "cell_type": "markdown",
   "metadata": {},
   "source": [
    "Il est finalement temps d'entraîner notre modèle !"
   ]
  },
  {
   "cell_type": "code",
   "execution_count": 18,
   "metadata": {},
   "outputs": [
    {
     "name": "stdout",
     "output_type": "stream",
     "text": [
      "Epoch 0, loss train 1.6522698682546615, loss val 1.4414834783554078,précision 47.97\n",
      "Epoch 1, loss train 1.3831321718215943, loss val 1.3656272639274598,précision 50.69\n",
      "Epoch 2, loss train 1.271412028503418, loss val 1.2726070711135864,précision 55.17\n",
      "Epoch 3, loss train 1.1935315937042237, loss val 1.2526390438556672,précision 55.52\n",
      "Epoch 4, loss train 1.1144725002408027, loss val 1.2377954412460328,précision 55.66\n",
      "Epoch 5, loss train 1.0520227519154548, loss val 1.2067877051830291,précision 56.82\n",
      "Epoch 6, loss train 0.9839000009179115, loss val 1.2402711957931518,précision 56.93\n",
      "Epoch 7, loss train 0.9204218792438507, loss val 1.2170260044574737,précision 58.23\n",
      "Epoch 8, loss train 0.853291154640913, loss val 1.2737546770095824,précision 57.65\n",
      "Epoch 9, loss train 0.7962572723925113, loss val 1.2941821083545684,précision 58.26\n"
     ]
    }
   ],
   "source": [
    "for epoch in range(epochs):\n",
    "    model.train()\n",
    "    loss_train = 0\n",
    "    for i, (images, labels) in enumerate(train_loader):\n",
    "        images, labels = images.to(device), labels.to(device)\n",
    "        optimizer.zero_grad()\n",
    "        output = model(images)\n",
    "        loss = F.cross_entropy(output, labels)\n",
    "        loss_train += loss.item()\n",
    "        loss.backward()\n",
    "        optimizer.step()\n",
    "        \n",
    "    model.eval()\n",
    "    correct = 0\n",
    "    total = 0\n",
    "    loss_val = 0\n",
    "    with torch.no_grad():\n",
    "        for images, labels in val_loader:\n",
    "            images, labels = images.to(device), labels.to(device)\n",
    "            outputs = model(images)\n",
    "            loss_val += F.cross_entropy(outputs, labels).item()\n",
    "            _, predicted = torch.max(outputs.data, 1)\n",
    "            total += labels.size(0)\n",
    "            correct += (predicted == labels).sum().item()\n",
    "\n",
    "    print(f\"Epoch {epoch}, loss train {loss_train/len(train_loader)}, loss val {loss_val/len(val_loader)},précision {100 * correct / total}\")"
   ]
  },
  {
   "cell_type": "markdown",
   "metadata": {},
   "source": [
    "L'entraînement s'est bien passé, on obtient une précision de 58% sur les données de validation. Regardons maintenant nos résultats sur les données de test :"
   ]
  },
  {
   "cell_type": "code",
   "execution_count": 19,
   "metadata": {},
   "outputs": [
    {
     "name": "stdout",
     "output_type": "stream",
     "text": [
      "Précision 58.49\n"
     ]
    }
   ],
   "source": [
    "model.eval()\n",
    "correct = 0\n",
    "total = 0\n",
    "with torch.no_grad():\n",
    "    for images, labels in test_loader:\n",
    "        images, labels = images.to(device), labels.to(device)\n",
    "        outputs = model(images)\n",
    "        _, predicted = torch.max(outputs.data, 1)\n",
    "        total += labels.size(0)\n",
    "        correct += (predicted == labels).sum().item()\n",
    "\n",
    "print(f\"Précision {100 * correct / total}\")"
   ]
  },
  {
   "cell_type": "markdown",
   "metadata": {},
   "source": [
    "La précision est du même ordre sur les données de test ! \n",
    "\n",
    "**Note** : Ce résultat peut paraitre assez médiocre mais il ne faut pas oublier que nous utilisons un petit *transformer* entraîné sur peu d'epochs. Vous pouvez essayer d'améliorer ce résultat en jouant sur les hyperparamètres.\n",
    "\n",
    "**Note2** : Les auteurs du papier précisent que le *transformer* n'a pas de \"inductive bias\" sur les images contrairement aux CNN et cela provient de l'architecture. Les couches d'un CNN sont invariantes par translation et capturent le voisinage de chaque pixel tandis que les *transformers* utilisent principalement l'information globale. En pratique, on constate que sur des \"petits\" datasets (jusqu'à 1 million d'images), les CNN performent mieux mais pour des plus grosses quantité de données, les *transformers* sont plus performants. "
   ]
  }
 ],
 "metadata": {
  "kernelspec": {
   "display_name": "Python 3",
   "language": "python",
   "name": "python3"
  },
  "language_info": {
   "codemirror_mode": {
    "name": "ipython",
    "version": 3
   },
   "file_extension": ".py",
   "mimetype": "text/x-python",
   "name": "python",
   "nbconvert_exporter": "python",
   "pygments_lexer": "ipython3",
   "version": "3.11.9"
  }
 },
 "nbformat": 4,
 "nbformat_minor": 2
}
