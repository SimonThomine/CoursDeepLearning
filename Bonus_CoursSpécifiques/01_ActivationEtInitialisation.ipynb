{
 "cells": [
  {
   "cell_type": "markdown",
   "metadata": {},
   "source": [
    "# Activations et Initialisations"
   ]
  },
  {
   "cell_type": "markdown",
   "metadata": {},
   "source": [
    "Dans ce cours, nous allons reprendre le modèle Fully Connected introduit dans le cours 5 sur les NLP et nous allons regarder le comportement des activations tout au long du réseau à l'initialisation de celui-ci. Ce cours est inspiré du cours d'Andrej Karpathy [Building makemore Part 3: Activations & Gradients, BatchNorm](https://www.youtube.com/watch?v=P6sfmUTpUmc&t=3892s&ab_channel=AndrejKarpathy)."
   ]
  },
  {
   "cell_type": "markdown",
   "metadata": {},
   "source": [
    "On a pu voir que les réseaux de neurones ont des nombreux avantages : \n",
    "- Ils sont très flexibles et sont capables de résoudre de nombreux problèmes.\n",
    "- Ils sont assez simple à implémenter.\n",
    "\n",
    "Cependant (ça serait trop facile sinon), il est souvent assez complexe des les optimiser et en particulier si il s'agit de réseaux profonds. "
   ]
  },
  {
   "cell_type": "markdown",
   "metadata": {},
   "source": [
    "## Reprise du code"
   ]
  },
  {
   "cell_type": "markdown",
   "metadata": {},
   "source": [
    "On reprend le code du [notebook 3 du cours 5 sur les NLP](../05_NLP/03_RéseauFullyConnected.ipynb)."
   ]
  },
  {
   "cell_type": "code",
   "execution_count": 1,
   "metadata": {},
   "outputs": [],
   "source": [
    "import torch\n",
    "import torch.nn.functional as F\n",
    "import matplotlib.pyplot as plt\n",
    "%matplotlib inline"
   ]
  },
  {
   "cell_type": "code",
   "execution_count": 2,
   "metadata": {},
   "outputs": [],
   "source": [
    "words = open('../05_NLP/prenoms.txt', 'r').read().splitlines()\n",
    "chars = sorted(list(set(''.join(words))))\n",
    "stoi = {s:i+1 for i,s in enumerate(chars)}\n",
    "stoi['.'] = 0\n",
    "itos = {i:s for s,i in stoi.items()}"
   ]
  },
  {
   "cell_type": "markdown",
   "metadata": {},
   "source": [
    "Pour des fins pédagogiques, nous l'allons pas utiliser le dataset et dataloader de pytorch. On veut évaluer le *loss* au début de notre entraînement après le premier *batch*. Dans l'ensemble c'est à peu près la même chose sauf que l'on prend un *batch* au hasard à chaque itération au lieu de parcourir l'ensemble du dataset à chaque *epoch*."
   ]
  },
  {
   "cell_type": "code",
   "execution_count": 3,
   "metadata": {},
   "outputs": [
    {
     "name": "stdout",
     "output_type": "stream",
     "text": [
      "torch.Size([180834, 3]) torch.Size([180834])\n",
      "torch.Size([22852, 3]) torch.Size([22852])\n",
      "torch.Size([22639, 3]) torch.Size([22639])\n"
     ]
    }
   ],
   "source": [
    "block_size = 3 # Contexte\n",
    "\n",
    "def build_dataset(words):  \n",
    "  X, Y = [], []\n",
    "  \n",
    "  for w in words:\n",
    "    context = [0] * block_size\n",
    "    for ch in w + '.':\n",
    "      ix = stoi[ch]\n",
    "      X.append(context)\n",
    "      Y.append(ix)\n",
    "      context = context[1:] + [ix] \n",
    "\n",
    "  X = torch.tensor(X)\n",
    "  Y = torch.tensor(Y)\n",
    "  print(X.shape, Y.shape)\n",
    "  return X, Y\n",
    "\n",
    "import random\n",
    "random.seed(42)\n",
    "random.shuffle(words)\n",
    "n1 = int(0.8*len(words))\n",
    "n2 = int(0.9*len(words))\n",
    "\n",
    "Xtr,  Ytr  = build_dataset(words[:n1])     # 80%\n",
    "Xdev, Ydev = build_dataset(words[n1:n2])   # 10%\n",
    "Xte,  Yte  = build_dataset(words[n2:])     # 10%"
   ]
  },
  {
   "cell_type": "code",
   "execution_count": 4,
   "metadata": {},
   "outputs": [],
   "source": [
    "embed_dim=10 # Dimension de l'embedding de C\n",
    "hidden_dim=200 # Dimension de la couche cachée\n",
    "\n",
    "C = torch.randn((46, embed_dim))\n",
    "W1 = torch.randn((block_size*embed_dim, hidden_dim))\n",
    "b1 = torch.randn(hidden_dim)\n",
    "W2 = torch.randn((hidden_dim, 46))\n",
    "b2 = torch.randn(46)\n",
    "parameters = [C, W1, b1, W2, b2]\n",
    "for p in parameters:\n",
    "  p.requires_grad = True"
   ]
  },
  {
   "cell_type": "code",
   "execution_count": 5,
   "metadata": {},
   "outputs": [
    {
     "name": "stdout",
     "output_type": "stream",
     "text": [
      "      0/ 200000: 21.9772\n",
      "  10000/ 200000: 2.9991\n",
      "  20000/ 200000: 2.5258\n",
      "  30000/ 200000: 1.9657\n",
      "  40000/ 200000: 2.4326\n",
      "  50000/ 200000: 1.7670\n",
      "  60000/ 200000: 2.1324\n",
      "  70000/ 200000: 2.4160\n",
      "  80000/ 200000: 2.2237\n",
      "  90000/ 200000: 2.3905\n",
      " 100000/ 200000: 1.9304\n",
      " 110000/ 200000: 2.1710\n",
      " 120000/ 200000: 2.3444\n",
      " 130000/ 200000: 2.0970\n",
      " 140000/ 200000: 1.8623\n",
      " 150000/ 200000: 1.9792\n",
      " 160000/ 200000: 2.4602\n",
      " 170000/ 200000: 2.0968\n",
      " 180000/ 200000: 2.0466\n",
      " 190000/ 200000: 2.3746\n"
     ]
    }
   ],
   "source": [
    "max_steps = 200000\n",
    "batch_size = 32\n",
    "lossi = []\n",
    "\n",
    "for i in range(max_steps):\n",
    "  # Permet de construire un mini-batch\n",
    "  ix = torch.randint(0, Xtr.shape[0], (batch_size,))\n",
    "  \n",
    "  # Forward\n",
    "  Xb, Yb = Xtr[ix], Ytr[ix] \n",
    "  emb = C[Xb] \n",
    "  embcat = emb.view(emb.shape[0], -1)\n",
    "  hpreact = embcat @ W1 + b1 \n",
    "\n",
    "  h = torch.tanh(hpreact) \n",
    "  logits = h @ W2 + b2 \n",
    "  loss = F.cross_entropy(logits, Yb)\n",
    "  \n",
    "  # Retropropagation\n",
    "  for p in parameters:\n",
    "    p.grad = None\n",
    "  \n",
    "  loss.backward()\n",
    "  # Mise à jour des paramètres\n",
    "  lr = 0.1 if i < 100000 else 0.01 # On descend le learning rate d'un facteur 10 après 100000 itérations\n",
    "  for p in parameters:\n",
    "    p.data += -lr * p.grad\n",
    "\n",
    "  if i % 10000 == 0:\n",
    "    print(f'{i:7d}/{max_steps:7d}: {loss.item():.4f}')\n",
    "  lossi.append(loss.log10().item())"
   ]
  },
  {
   "cell_type": "code",
   "execution_count": 6,
   "metadata": {},
   "outputs": [
    {
     "data": {
      "text/plain": [
       "[<matplotlib.lines.Line2D at 0x7f028467b990>]"
      ]
     },
     "execution_count": 6,
     "metadata": {},
     "output_type": "execute_result"
    },
    {
     "data": {
      "image/png": "[encoded data removed]",
      "text/plain": [
       "<Figure size 640x480 with 1 Axes>"
      ]
     },
     "metadata": {},
     "output_type": "display_data"
    }
   ],
   "source": [
    "plt.plot(lossi)"
   ]
  },
  {
   "cell_type": "markdown",
   "metadata": {},
   "source": [
    "Il y a beaucoup de \"bruit\" car on calcule à chaque fois le *loss* sur des petits *batchs* par rapport à l'ensemble de nos données d'entraînement."
   ]
  },
  {
   "cell_type": "markdown",
   "metadata": {},
   "source": [
    "## Loss anormalement élévé à l'initialisation"
   ]
  },
  {
   "cell_type": "markdown",
   "metadata": {},
   "source": [
    "L'entraînement se passe correctement. On peut cependant remarquer quelque chose de bizarre. Le *loss* au début de l'entraînement est anormalement élévé. On s'attendrait à avoir une valeur correspondant à un cas où chaque lettre a une probabilité uniforme d'apparation (donc $\\frac{1}{46}$).   \n",
    "\n",
    "Dans ce cas, on pourrait calculer le *negative log likelihood* et on obtiendrait :   \n",
    "$-ln(\\frac{1}{46})=3.83$   \n",
    "\n",
    "Il serait donc logique de tomber sur une valeur de cet ordre là lors du premier calcul de notre *loss*. "
   ]
  },
  {
   "cell_type": "markdown",
   "metadata": {},
   "source": [
    "### Petit exemple illustrant le problème"
   ]
  },
  {
   "cell_type": "markdown",
   "metadata": {},
   "source": [
    "Pour voir ce qu'il se passe, utilisons un petit exemple et regardons les valeurs de *loss* en fonction de l'initialisation. Imaginons que tous les poids dans *logits* sont initialisé à 0. Alors on aurait des probabilités uniformes."
   ]
  },
  {
   "cell_type": "code",
   "execution_count": 7,
   "metadata": {},
   "outputs": [
    {
     "data": {
      "text/plain": [
       "(tensor([0.2500, 0.2500, 0.2500, 0.2500]), tensor(1.3863))"
      ]
     },
     "execution_count": 7,
     "metadata": {},
     "output_type": "execute_result"
    }
   ],
   "source": [
    "logits=torch.tensor([0.0,0.0,0.0,0.0])\n",
    "probs=torch.softmax(logits,dim=0)\n",
    "loss= -probs[1].log()\n",
    "probs,loss"
   ]
  },
  {
   "cell_type": "markdown",
   "metadata": {},
   "source": [
    "En revanche, il n'est pas conseillé d'initialiser les poids d'un réseau de neurones à 0. Ce que l'on avait fait, c'est une initialisation random basée sur une gaussienne centrée réduite."
   ]
  },
  {
   "cell_type": "code",
   "execution_count": 8,
   "metadata": {},
   "outputs": [
    {
     "data": {
      "text/plain": [
       "(tensor([0.3143, 0.0607, 0.3071, 0.3178]), tensor(2.8012))"
      ]
     },
     "execution_count": 8,
     "metadata": {},
     "output_type": "execute_result"
    }
   ],
   "source": [
    "logits=torch.randn(4)\n",
    "probs=torch.softmax(logits,dim=0)\n",
    "loss= -probs[1].log()\n",
    "probs,loss"
   ]
  },
  {
   "cell_type": "markdown",
   "metadata": {},
   "source": [
    "On voit assez rapidement le problème, l'aléatoire de la gaussienne va faire pencher la balance d'un côté ou de l'autre (vous pouvez lancer plusieurs fois le code précédent pour vous en assurer).   \n",
    "Mais alors, que peut-on faire ? Il suffit en fait de multiplier notre vecteur *logit* par une petite valeur pour diminuer la valeur initiale des poids et rendre le *softmax* plus uniforme."
   ]
  },
  {
   "cell_type": "code",
   "execution_count": 9,
   "metadata": {},
   "outputs": [
    {
     "data": {
      "text/plain": [
       "(tensor([0.2489, 0.2523, 0.2495, 0.2493]), tensor(1.3772))"
      ]
     },
     "execution_count": 9,
     "metadata": {},
     "output_type": "execute_result"
    }
   ],
   "source": [
    "logits=torch.randn(4)*0.01\n",
    "probs=torch.softmax(logits,dim=0)\n",
    "loss= -probs[1].log()\n",
    "probs,loss"
   ]
  },
  {
   "cell_type": "markdown",
   "metadata": {},
   "source": [
    "On obtient, à peu de choses près, le même *loss* que pour des probabilités uniformes.\n",
    "\n",
    "**Notes** : Par contre, on peut initialiser la valeur du biais à zéro car cela n'a pas de sens d'avoir un biais positif ou négatif à l'initialisation."
   ]
  },
  {
   "cell_type": "markdown",
   "metadata": {},
   "source": [
    "### Entraînement avec l'ajustement de l'initialisation"
   ]
  },
  {
   "cell_type": "markdown",
   "metadata": {},
   "source": [
    "Reprenons le code précédent mais avec les nouvelles valeurs d'initialisation."
   ]
  },
  {
   "cell_type": "code",
   "execution_count": 10,
   "metadata": {},
   "outputs": [],
   "source": [
    "C = torch.randn((46, embed_dim))\n",
    "W1 = torch.randn((block_size*embed_dim, hidden_dim))*0.01 # On initialise les poids à une petite valeur\n",
    "b1 = torch.randn(hidden_dim) *0 # On initialise les biais à 0\n",
    "W2 = torch.randn((hidden_dim, 46))*0.01\n",
    "b2 = torch.randn(46)*0 \n",
    "parameters = [C, W1, b1, W2, b2]\n",
    "for p in parameters:\n",
    "  p.requires_grad = True"
   ]
  },
  {
   "cell_type": "code",
   "execution_count": 11,
   "metadata": {},
   "outputs": [
    {
     "name": "stdout",
     "output_type": "stream",
     "text": [
      "      0/ 200000: 3.8304\n",
      "  10000/ 200000: 2.4283\n",
      "  20000/ 200000: 2.0651\n",
      "  30000/ 200000: 2.1124\n",
      "  40000/ 200000: 2.3158\n",
      "  50000/ 200000: 2.2752\n",
      "  60000/ 200000: 2.1887\n",
      "  70000/ 200000: 2.1783\n",
      "  80000/ 200000: 1.8120\n",
      "  90000/ 200000: 2.3178\n",
      " 100000/ 200000: 2.0973\n",
      " 110000/ 200000: 1.8992\n",
      " 120000/ 200000: 1.6917\n",
      " 130000/ 200000: 2.2747\n",
      " 140000/ 200000: 1.8054\n",
      " 150000/ 200000: 2.3569\n",
      " 160000/ 200000: 2.4231\n",
      " 170000/ 200000: 2.0711\n",
      " 180000/ 200000: 2.1379\n",
      " 190000/ 200000: 1.8419\n"
     ]
    }
   ],
   "source": [
    "lossi = []\n",
    "\n",
    "for i in range(max_steps):\n",
    "  ix = torch.randint(0, Xtr.shape[0], (batch_size,))\n",
    "  Xb, Yb = Xtr[ix], Ytr[ix] \n",
    "  emb = C[Xb] \n",
    "  embcat = emb.view(emb.shape[0], -1)\n",
    "  hpreact = embcat @ W1 + b1 \n",
    "  h = torch.tanh(hpreact) \n",
    "  logits = h @ W2 + b2 \n",
    "  loss = F.cross_entropy(logits, Yb)\n",
    "  \n",
    "  for p in parameters:\n",
    "    p.grad = None\n",
    "  loss.backward()\n",
    "  lr = 0.1 if i < 100000 else 0.01 \n",
    "  for p in parameters:\n",
    "    p.data += -lr * p.grad\n",
    "  if i % 10000 == 0:\n",
    "    print(f'{i:7d}/{max_steps:7d}: {loss.item():.4f}')\n",
    "  lossi.append(loss.log10().item())"
   ]
  },
  {
   "cell_type": "code",
   "execution_count": 12,
   "metadata": {},
   "outputs": [
    {
     "data": {
      "text/plain": [
       "[<matplotlib.lines.Line2D at 0x7f0278310110>]"
      ]
     },
     "execution_count": 12,
     "metadata": {},
     "output_type": "execute_result"
    },
    {
     "data": {
      "image/png": "[encoded data removed]",
      "text/plain": [
       "<Figure size 640x480 with 1 Axes>"
      ]
     },
     "metadata": {},
     "output_type": "display_data"
    }
   ],
   "source": [
    "plt.plot(lossi)"
   ]
  },
  {
   "cell_type": "markdown",
   "metadata": {},
   "source": [
    "On a maintenant une courbe de *loss* qui ne commence pas à une valeur aberrante, ce qui a pour effet d'accélerer l'optimisation. "
   ]
  },
  {
   "cell_type": "markdown",
   "metadata": {},
   "source": [
    "## Autre problème "
   ]
  },
  {
   "cell_type": "markdown",
   "metadata": {},
   "source": [
    "On peut se dire qu'un *loss* élévé n'est pas forcément un problème. Mais une mauvaise initialisation des poids peut poser d'autres problèmes.  \n",
    "Considérons la première itération de l'entraînement avec des valeurs initialisée sans le facteur 0.01"
   ]
  },
  {
   "cell_type": "code",
   "execution_count": 13,
   "metadata": {},
   "outputs": [],
   "source": [
    "C = torch.randn((46, embed_dim))\n",
    "W1 = torch.randn((block_size*embed_dim, hidden_dim)) \n",
    "b1 = torch.randn(hidden_dim) \n",
    "W2 = torch.randn((hidden_dim, 46))\n",
    "b2 = torch.randn(46)\n",
    "parameters = [C, W1, b1, W2, b2]\n",
    "for p in parameters:\n",
    "  p.requires_grad = True"
   ]
  },
  {
   "cell_type": "code",
   "execution_count": 14,
   "metadata": {},
   "outputs": [],
   "source": [
    "ix = torch.randint(0, Xtr.shape[0], (batch_size,))\n",
    "Xb, Yb = Xtr[ix], Ytr[ix] \n",
    "emb = C[Xb] \n",
    "embcat = emb.view(emb.shape[0], -1)\n",
    "hpreact = embcat @ W1 + b1 \n",
    "h = torch.tanh(hpreact) \n",
    "logits = h @ W2 + b2 \n",
    "loss = F.cross_entropy(logits, Yb)\n",
    "  \n",
    "for p in parameters:\n",
    "  p.grad = None\n",
    "loss.backward()"
   ]
  },
  {
   "cell_type": "markdown",
   "metadata": {},
   "source": [
    "On regarde l'histogramme des valeurs après la fonction d'activation *tanh*."
   ]
  },
  {
   "cell_type": "code",
   "execution_count": 15,
   "metadata": {},
   "outputs": [
    {
     "data": {
      "image/png": "[encoded data removed]",
      "text/plain": [
       "<Figure size 640x480 with 1 Axes>"
      ]
     },
     "metadata": {},
     "output_type": "display_data"
    }
   ],
   "source": [
    "plt.hist(h.view(-1).tolist(),50);"
   ]
  },
  {
   "cell_type": "markdown",
   "metadata": {},
   "source": [
    "On voit que la majorité des valeurs sont autour de 1 ou -1.  \n",
    "\n",
    "En quoi cela pose t-il un problème ?   \n",
    "Lors du calcul du gradient, avec la règle de la chaîne, on va multiplier les gradients des différentes étapes de calcul. La dérivée de la fonction *tanh* est :   \n",
    "$tanh'(t)= 1 - t^2$   \n",
    "Si les valeurs de t sont à 1 ou -1 alors le gradient va être extremement faible (jamais nul car c'est une asymptote) ce qui veut dire que le gradient ne se propage pas et donc l'optimization ne peut pas fonctionner de manière optimale au début de l'entraînement.   \n",
    "\n",
    "On peut visualiser les valeurs de chaque neurone. "
   ]
  },
  {
   "cell_type": "code",
   "execution_count": 16,
   "metadata": {},
   "outputs": [
    {
     "data": {
      "text/plain": [
       "<matplotlib.image.AxesImage at 0x7f02780ae550>"
      ]
     },
     "execution_count": 16,
     "metadata": {},
     "output_type": "execute_result"
    },
    {
     "data": {
      "image/png": "[encoded data removed]",
      "text/plain": [
       "<Figure size 2000x1000 with 1 Axes>"
      ]
     },
     "metadata": {},
     "output_type": "display_data"
    }
   ],
   "source": [
    "plt.figure(figsize=(20,10))\n",
    "plt.imshow(h.abs()>0.99,cmap='gray',interpolation='nearest')"
   ]
  },
  {
   "cell_type": "markdown",
   "metadata": {},
   "source": [
    "Chaque point blanc correspond à un neurone dont le gradient est à peu près égal à 0. \n",
    "\n",
    "**Neurone mort** : Si une de ces colonnes était entièrement blanche, cela voudrait dire que le neurone ne s'active sur aucun élément (du *batch*), ce qui signifie que c'est un neurone inutile, qui n'aura aucun impact sur le résultat et qu'on ne peut pas optimiser (sur les valeurs présentes dans ce *batch*).\n",
    "\n",
    "**Notes** : \n",
    "- Ce type de comportement n'est pas exclusif à la *tanh* : la *sigmoid* et la *ReLU* peuvent avoir le même problème. \n",
    "- Le problème ne nous a pas empeché d'entraîner notre réseau correctement car il s'agit d'un petit modèle. Sur des réseaux plus profonds, c'est un gros problème et il est conseillé de vérifier les activations de votre réseau aux différentes étapes. \n",
    "- Les neurones morts peuvent arriver à l'initialisation mais aussi pendant l'entraînement si le *learning rate* est trop élévé par exemple. "
   ]
  },
  {
   "cell_type": "markdown",
   "metadata": {},
   "source": [
    "### Comment résoudre ce problème ?"
   ]
  },
  {
   "cell_type": "markdown",
   "metadata": {},
   "source": [
    "Par chance, ce problème peut se résoudre exactement de la même manière que le problème du *loss* trop élévé. Pour nous en assurer, regardons les valeurs des activations et les neurones inactifs à l'initialisation avec nos nouvelles valeurs."
   ]
  },
  {
   "cell_type": "code",
   "execution_count": 17,
   "metadata": {},
   "outputs": [],
   "source": [
    "C = torch.randn((46, embed_dim))\n",
    "W1 = torch.randn((block_size*embed_dim, hidden_dim)) *0.01# On initialise les poids à une petite valeur\n",
    "b1 = torch.randn(hidden_dim) *0 # On initialise les biais à 0\n",
    "W2 = torch.randn((hidden_dim, 46)) *0.01\n",
    "b2 = torch.randn(46)*0 \n",
    "parameters = [C, W1, b1, W2, b2]\n",
    "for p in parameters:\n",
    "  p.requires_grad = True"
   ]
  },
  {
   "cell_type": "code",
   "execution_count": 18,
   "metadata": {},
   "outputs": [],
   "source": [
    "ix = torch.randint(0, Xtr.shape[0], (batch_size,))\n",
    "Xb, Yb = Xtr[ix], Ytr[ix] \n",
    "emb = C[Xb] \n",
    "embcat = emb.view(emb.shape[0], -1)\n",
    "hpreact = embcat @ W1 + b1 \n",
    "h = torch.tanh(hpreact) \n",
    "logits = h @ W2 + b2 \n",
    "loss = F.cross_entropy(logits, Yb)\n",
    "  \n",
    "for p in parameters:\n",
    "  p.grad = None\n",
    "loss.backward()"
   ]
  },
  {
   "cell_type": "code",
   "execution_count": 19,
   "metadata": {},
   "outputs": [
    {
     "data": {
      "image/png": "[encoded data removed]",
      "text/plain": [
       "<Figure size 640x480 with 1 Axes>"
      ]
     },
     "metadata": {},
     "output_type": "display_data"
    }
   ],
   "source": [
    "plt.hist(h.view(-1).tolist(),50);"
   ]
  },
  {
   "cell_type": "code",
   "execution_count": 20,
   "metadata": {},
   "outputs": [
    {
     "data": {
      "text/plain": [
       "<matplotlib.image.AxesImage at 0x7f025c538190>"
      ]
     },
     "execution_count": 20,
     "metadata": {},
     "output_type": "execute_result"
    },
    {
     "data": {
      "image/png": "[encoded data removed]",
      "text/plain": [
       "<Figure size 2000x1000 with 1 Axes>"
      ]
     },
     "metadata": {},
     "output_type": "display_data"
    }
   ],
   "source": [
    "plt.figure(figsize=(20,10))\n",
    "plt.imshow(h.abs()>0.99,cmap='gray',interpolation='nearest')"
   ]
  },
  {
   "cell_type": "markdown",
   "metadata": {},
   "source": [
    "Tout va pour le mieux ! "
   ]
  },
  {
   "cell_type": "markdown",
   "metadata": {},
   "source": [
    "### Valeurs optimales à l'initialisation"
   ]
  },
  {
   "cell_type": "markdown",
   "metadata": {},
   "source": [
    "Ce problème étant très important, de nombreuses recherches se sont dirigées sur ce sujet. Une publication notable est [Delving Deep into Rectifiers](https://arxiv.org/pdf/1502.01852) qui introduit la *Kaiming initialization*. Le papier propose des valeurs d'initialization pour chaque fonction d'activation qui font garantir une distribution centrée réduite sur l'ensemble du réseau.   \n",
    "Cette méthode est implementée en [pytorch](https://pytorch.org/docs/stable/nn.init.html) et les couches que l'on va créer en pytorch sont directement initialisée de cette manière."
   ]
  },
  {
   "cell_type": "markdown",
   "metadata": {},
   "source": [
    "### Pourquoi ce cours est dans les bonus alors qu'il semble très important ?"
   ]
  },
  {
   "cell_type": "markdown",
   "metadata": {},
   "source": [
    "Ce problème est en effet un problème majeur. Cependant, lorsque l'on utilise pytorch, tout est déjà initialisé de manière correcte et ce n'est en général pas nécessaire de modifier ces valeurs. \n",
    "\n",
    "De plus, de nombreuses méthodes ont été proposées pour diminuer ce problème, principalement :\n",
    "- La *batch norm*, que nous verrons dans le notebook suivant, qui consiste à normaliser les valeurs avant l'activation tout le long du réseau.\n",
    "- Les connexions résiduelles qui permettent de transmettre le gradient dans l'intégralité du réseau sans que celui-ci ne soit trop impacté par les fonctions d'activations.\n",
    "\n",
    "Malgré l'importance de ces considérations, en pratique, il n'est pas forcément nécessaire d'être au courant pour entraîner un réseau de neurones."
   ]
  }
 ],
 "metadata": {
  "kernelspec": {
   "display_name": "dev",
   "language": "python",
   "name": "python3"
  },
  "language_info": {
   "codemirror_mode": {
    "name": "ipython",
    "version": 3
   },
   "file_extension": ".py",
   "mimetype": "text/x-python",
   "name": "python",
   "nbconvert_exporter": "python",
   "pygments_lexer": "ipython3",
   "version": "3.1.undefined"
  }
 },
 "nbformat": 4,
 "nbformat_minor": 2
}
